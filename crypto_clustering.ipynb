{
 "cells": [
  {
   "cell_type": "markdown",
   "metadata": {},
   "source": [
    "# Clustering Crypto"
   ]
  },
  {
   "cell_type": "code",
   "execution_count": 126,
   "metadata": {},
   "outputs": [],
   "source": [
    "# Initial imports\n",
    "import pandas as pd\n",
    "from pathlib import Path\n",
    "import plotly.express as px\n",
    "from sklearn.preprocessing import StandardScaler, MinMaxScaler\n",
    "from sklearn.decomposition import PCA\n",
    "from sklearn.cluster import KMeans\n",
    "import hvplot.pandas\n"
   ]
  },
  {
   "cell_type": "markdown",
   "metadata": {},
   "source": [
    "### Deliverable 1: Preprocessing the Data for PCA"
   ]
  },
  {
   "cell_type": "code",
   "execution_count": 127,
   "metadata": {},
   "outputs": [
    {
     "data": {
      "text/html": [
       "<div>\n",
       "<style scoped>\n",
       "    .dataframe tbody tr th:only-of-type {\n",
       "        vertical-align: middle;\n",
       "    }\n",
       "\n",
       "    .dataframe tbody tr th {\n",
       "        vertical-align: top;\n",
       "    }\n",
       "\n",
       "    .dataframe thead th {\n",
       "        text-align: right;\n",
       "    }\n",
       "</style>\n",
       "<table border=\"1\" class=\"dataframe\">\n",
       "  <thead>\n",
       "    <tr style=\"text-align: right;\">\n",
       "      <th></th>\n",
       "      <th>Unnamed: 0</th>\n",
       "      <th>CoinName</th>\n",
       "      <th>Algorithm</th>\n",
       "      <th>IsTrading</th>\n",
       "      <th>ProofType</th>\n",
       "      <th>TotalCoinsMined</th>\n",
       "      <th>TotalCoinSupply</th>\n",
       "    </tr>\n",
       "  </thead>\n",
       "  <tbody>\n",
       "    <tr>\n",
       "      <th>0</th>\n",
       "      <td>42</td>\n",
       "      <td>42 Coin</td>\n",
       "      <td>Scrypt</td>\n",
       "      <td>True</td>\n",
       "      <td>PoW/PoS</td>\n",
       "      <td>4.199995e+01</td>\n",
       "      <td>42</td>\n",
       "    </tr>\n",
       "    <tr>\n",
       "      <th>1</th>\n",
       "      <td>365</td>\n",
       "      <td>365Coin</td>\n",
       "      <td>X11</td>\n",
       "      <td>True</td>\n",
       "      <td>PoW/PoS</td>\n",
       "      <td>NaN</td>\n",
       "      <td>2300000000</td>\n",
       "    </tr>\n",
       "    <tr>\n",
       "      <th>2</th>\n",
       "      <td>404</td>\n",
       "      <td>404Coin</td>\n",
       "      <td>Scrypt</td>\n",
       "      <td>True</td>\n",
       "      <td>PoW/PoS</td>\n",
       "      <td>1.055185e+09</td>\n",
       "      <td>532000000</td>\n",
       "    </tr>\n",
       "    <tr>\n",
       "      <th>3</th>\n",
       "      <td>611</td>\n",
       "      <td>SixEleven</td>\n",
       "      <td>SHA-256</td>\n",
       "      <td>True</td>\n",
       "      <td>PoW</td>\n",
       "      <td>NaN</td>\n",
       "      <td>611000</td>\n",
       "    </tr>\n",
       "    <tr>\n",
       "      <th>4</th>\n",
       "      <td>808</td>\n",
       "      <td>808</td>\n",
       "      <td>SHA-256</td>\n",
       "      <td>True</td>\n",
       "      <td>PoW/PoS</td>\n",
       "      <td>0.000000e+00</td>\n",
       "      <td>0</td>\n",
       "    </tr>\n",
       "  </tbody>\n",
       "</table>\n",
       "</div>"
      ],
      "text/plain": [
       "  Unnamed: 0   CoinName Algorithm  IsTrading ProofType  TotalCoinsMined  \\\n",
       "0         42    42 Coin    Scrypt       True   PoW/PoS     4.199995e+01   \n",
       "1        365    365Coin       X11       True   PoW/PoS              NaN   \n",
       "2        404    404Coin    Scrypt       True   PoW/PoS     1.055185e+09   \n",
       "3        611  SixEleven   SHA-256       True       PoW              NaN   \n",
       "4        808        808   SHA-256       True   PoW/PoS     0.000000e+00   \n",
       "\n",
       "  TotalCoinSupply  \n",
       "0              42  \n",
       "1      2300000000  \n",
       "2       532000000  \n",
       "3          611000  \n",
       "4               0  "
      ]
     },
     "execution_count": 127,
     "metadata": {},
     "output_type": "execute_result"
    }
   ],
   "source": [
    "# Load the crypto_data.csv dataset.\n",
    "file_path = (\"Resources/crypto_data.csv\")\n",
    "crypto_df = pd.read_csv(file_path)\n",
    "crypto_df.head()"
   ]
  },
  {
   "cell_type": "code",
   "execution_count": 128,
   "metadata": {},
   "outputs": [
    {
     "data": {
      "text/html": [
       "<div>\n",
       "<style scoped>\n",
       "    .dataframe tbody tr th:only-of-type {\n",
       "        vertical-align: middle;\n",
       "    }\n",
       "\n",
       "    .dataframe tbody tr th {\n",
       "        vertical-align: top;\n",
       "    }\n",
       "\n",
       "    .dataframe thead th {\n",
       "        text-align: right;\n",
       "    }\n",
       "</style>\n",
       "<table border=\"1\" class=\"dataframe\">\n",
       "  <thead>\n",
       "    <tr style=\"text-align: right;\">\n",
       "      <th></th>\n",
       "      <th>Unnamed: 0</th>\n",
       "      <th>CoinName</th>\n",
       "      <th>Algorithm</th>\n",
       "      <th>IsTrading</th>\n",
       "      <th>ProofType</th>\n",
       "      <th>TotalCoinsMined</th>\n",
       "      <th>TotalCoinSupply</th>\n",
       "    </tr>\n",
       "  </thead>\n",
       "  <tbody>\n",
       "    <tr>\n",
       "      <th>0</th>\n",
       "      <td>42</td>\n",
       "      <td>42 Coin</td>\n",
       "      <td>Scrypt</td>\n",
       "      <td>True</td>\n",
       "      <td>PoW/PoS</td>\n",
       "      <td>4.199995e+01</td>\n",
       "      <td>42</td>\n",
       "    </tr>\n",
       "    <tr>\n",
       "      <th>1</th>\n",
       "      <td>365</td>\n",
       "      <td>365Coin</td>\n",
       "      <td>X11</td>\n",
       "      <td>True</td>\n",
       "      <td>PoW/PoS</td>\n",
       "      <td>NaN</td>\n",
       "      <td>2300000000</td>\n",
       "    </tr>\n",
       "    <tr>\n",
       "      <th>2</th>\n",
       "      <td>404</td>\n",
       "      <td>404Coin</td>\n",
       "      <td>Scrypt</td>\n",
       "      <td>True</td>\n",
       "      <td>PoW/PoS</td>\n",
       "      <td>1.055185e+09</td>\n",
       "      <td>532000000</td>\n",
       "    </tr>\n",
       "    <tr>\n",
       "      <th>3</th>\n",
       "      <td>611</td>\n",
       "      <td>SixEleven</td>\n",
       "      <td>SHA-256</td>\n",
       "      <td>True</td>\n",
       "      <td>PoW</td>\n",
       "      <td>NaN</td>\n",
       "      <td>611000</td>\n",
       "    </tr>\n",
       "    <tr>\n",
       "      <th>4</th>\n",
       "      <td>808</td>\n",
       "      <td>808</td>\n",
       "      <td>SHA-256</td>\n",
       "      <td>True</td>\n",
       "      <td>PoW/PoS</td>\n",
       "      <td>0.000000e+00</td>\n",
       "      <td>0</td>\n",
       "    </tr>\n",
       "    <tr>\n",
       "      <th>...</th>\n",
       "      <td>...</td>\n",
       "      <td>...</td>\n",
       "      <td>...</td>\n",
       "      <td>...</td>\n",
       "      <td>...</td>\n",
       "      <td>...</td>\n",
       "      <td>...</td>\n",
       "    </tr>\n",
       "    <tr>\n",
       "      <th>1243</th>\n",
       "      <td>SERO</td>\n",
       "      <td>Super Zero</td>\n",
       "      <td>Ethash</td>\n",
       "      <td>True</td>\n",
       "      <td>PoW</td>\n",
       "      <td>NaN</td>\n",
       "      <td>1000000000</td>\n",
       "    </tr>\n",
       "    <tr>\n",
       "      <th>1244</th>\n",
       "      <td>UOS</td>\n",
       "      <td>UOS</td>\n",
       "      <td>SHA-256</td>\n",
       "      <td>True</td>\n",
       "      <td>DPoI</td>\n",
       "      <td>NaN</td>\n",
       "      <td>1000000000</td>\n",
       "    </tr>\n",
       "    <tr>\n",
       "      <th>1245</th>\n",
       "      <td>BDX</td>\n",
       "      <td>Beldex</td>\n",
       "      <td>CryptoNight</td>\n",
       "      <td>True</td>\n",
       "      <td>PoW</td>\n",
       "      <td>9.802226e+08</td>\n",
       "      <td>1400222610</td>\n",
       "    </tr>\n",
       "    <tr>\n",
       "      <th>1246</th>\n",
       "      <td>ZEN</td>\n",
       "      <td>Horizen</td>\n",
       "      <td>Equihash</td>\n",
       "      <td>True</td>\n",
       "      <td>PoW</td>\n",
       "      <td>7.296538e+06</td>\n",
       "      <td>21000000</td>\n",
       "    </tr>\n",
       "    <tr>\n",
       "      <th>1247</th>\n",
       "      <td>XBC</td>\n",
       "      <td>BitcoinPlus</td>\n",
       "      <td>Scrypt</td>\n",
       "      <td>True</td>\n",
       "      <td>PoS</td>\n",
       "      <td>1.283270e+05</td>\n",
       "      <td>1000000</td>\n",
       "    </tr>\n",
       "  </tbody>\n",
       "</table>\n",
       "<p>1144 rows × 7 columns</p>\n",
       "</div>"
      ],
      "text/plain": [
       "     Unnamed: 0     CoinName    Algorithm  IsTrading ProofType  \\\n",
       "0            42      42 Coin       Scrypt       True   PoW/PoS   \n",
       "1           365      365Coin          X11       True   PoW/PoS   \n",
       "2           404      404Coin       Scrypt       True   PoW/PoS   \n",
       "3           611    SixEleven      SHA-256       True       PoW   \n",
       "4           808          808      SHA-256       True   PoW/PoS   \n",
       "...         ...          ...          ...        ...       ...   \n",
       "1243       SERO   Super Zero       Ethash       True       PoW   \n",
       "1244        UOS          UOS      SHA-256       True      DPoI   \n",
       "1245        BDX       Beldex  CryptoNight       True       PoW   \n",
       "1246        ZEN      Horizen     Equihash       True       PoW   \n",
       "1247        XBC  BitcoinPlus       Scrypt       True       PoS   \n",
       "\n",
       "      TotalCoinsMined TotalCoinSupply  \n",
       "0        4.199995e+01              42  \n",
       "1                 NaN      2300000000  \n",
       "2        1.055185e+09       532000000  \n",
       "3                 NaN          611000  \n",
       "4        0.000000e+00               0  \n",
       "...               ...             ...  \n",
       "1243              NaN      1000000000  \n",
       "1244              NaN      1000000000  \n",
       "1245     9.802226e+08      1400222610  \n",
       "1246     7.296538e+06        21000000  \n",
       "1247     1.283270e+05         1000000  \n",
       "\n",
       "[1144 rows x 7 columns]"
      ]
     },
     "execution_count": 128,
     "metadata": {},
     "output_type": "execute_result"
    }
   ],
   "source": [
    "# Keep all the cryptocurrencies that are being traded.\n",
    "crypto_df.drop(crypto_df.loc[crypto_df['IsTrading']==False].index, inplace=True)\n",
    "crypto_df"
   ]
  },
  {
   "cell_type": "code",
   "execution_count": 129,
   "metadata": {},
   "outputs": [
    {
     "data": {
      "text/html": [
       "<div>\n",
       "<style scoped>\n",
       "    .dataframe tbody tr th:only-of-type {\n",
       "        vertical-align: middle;\n",
       "    }\n",
       "\n",
       "    .dataframe tbody tr th {\n",
       "        vertical-align: top;\n",
       "    }\n",
       "\n",
       "    .dataframe thead th {\n",
       "        text-align: right;\n",
       "    }\n",
       "</style>\n",
       "<table border=\"1\" class=\"dataframe\">\n",
       "  <thead>\n",
       "    <tr style=\"text-align: right;\">\n",
       "      <th></th>\n",
       "      <th>Unnamed: 0</th>\n",
       "      <th>CoinName</th>\n",
       "      <th>Algorithm</th>\n",
       "      <th>IsTrading</th>\n",
       "      <th>ProofType</th>\n",
       "      <th>TotalCoinsMined</th>\n",
       "      <th>TotalCoinSupply</th>\n",
       "    </tr>\n",
       "  </thead>\n",
       "  <tbody>\n",
       "  </tbody>\n",
       "</table>\n",
       "</div>"
      ],
      "text/plain": [
       "Empty DataFrame\n",
       "Columns: [Unnamed: 0, CoinName, Algorithm, IsTrading, ProofType, TotalCoinsMined, TotalCoinSupply]\n",
       "Index: []"
      ]
     },
     "execution_count": 129,
     "metadata": {},
     "output_type": "execute_result"
    }
   ],
   "source": [
    "# Keep all the cryptocurrencies that have a working algorithm.\n",
    "crypto_df.loc[crypto_df['Algorithm'] == \"\"]"
   ]
  },
  {
   "cell_type": "code",
   "execution_count": 130,
   "metadata": {},
   "outputs": [
    {
     "data": {
      "text/html": [
       "<div>\n",
       "<style scoped>\n",
       "    .dataframe tbody tr th:only-of-type {\n",
       "        vertical-align: middle;\n",
       "    }\n",
       "\n",
       "    .dataframe tbody tr th {\n",
       "        vertical-align: top;\n",
       "    }\n",
       "\n",
       "    .dataframe thead th {\n",
       "        text-align: right;\n",
       "    }\n",
       "</style>\n",
       "<table border=\"1\" class=\"dataframe\">\n",
       "  <thead>\n",
       "    <tr style=\"text-align: right;\">\n",
       "      <th></th>\n",
       "      <th>Unnamed: 0</th>\n",
       "      <th>CoinName</th>\n",
       "      <th>Algorithm</th>\n",
       "      <th>ProofType</th>\n",
       "      <th>TotalCoinsMined</th>\n",
       "      <th>TotalCoinSupply</th>\n",
       "    </tr>\n",
       "  </thead>\n",
       "  <tbody>\n",
       "    <tr>\n",
       "      <th>0</th>\n",
       "      <td>42</td>\n",
       "      <td>42 Coin</td>\n",
       "      <td>Scrypt</td>\n",
       "      <td>PoW/PoS</td>\n",
       "      <td>4.199995e+01</td>\n",
       "      <td>42</td>\n",
       "    </tr>\n",
       "    <tr>\n",
       "      <th>1</th>\n",
       "      <td>365</td>\n",
       "      <td>365Coin</td>\n",
       "      <td>X11</td>\n",
       "      <td>PoW/PoS</td>\n",
       "      <td>NaN</td>\n",
       "      <td>2300000000</td>\n",
       "    </tr>\n",
       "    <tr>\n",
       "      <th>2</th>\n",
       "      <td>404</td>\n",
       "      <td>404Coin</td>\n",
       "      <td>Scrypt</td>\n",
       "      <td>PoW/PoS</td>\n",
       "      <td>1.055185e+09</td>\n",
       "      <td>532000000</td>\n",
       "    </tr>\n",
       "    <tr>\n",
       "      <th>3</th>\n",
       "      <td>611</td>\n",
       "      <td>SixEleven</td>\n",
       "      <td>SHA-256</td>\n",
       "      <td>PoW</td>\n",
       "      <td>NaN</td>\n",
       "      <td>611000</td>\n",
       "    </tr>\n",
       "    <tr>\n",
       "      <th>4</th>\n",
       "      <td>808</td>\n",
       "      <td>808</td>\n",
       "      <td>SHA-256</td>\n",
       "      <td>PoW/PoS</td>\n",
       "      <td>0.000000e+00</td>\n",
       "      <td>0</td>\n",
       "    </tr>\n",
       "    <tr>\n",
       "      <th>...</th>\n",
       "      <td>...</td>\n",
       "      <td>...</td>\n",
       "      <td>...</td>\n",
       "      <td>...</td>\n",
       "      <td>...</td>\n",
       "      <td>...</td>\n",
       "    </tr>\n",
       "    <tr>\n",
       "      <th>1243</th>\n",
       "      <td>SERO</td>\n",
       "      <td>Super Zero</td>\n",
       "      <td>Ethash</td>\n",
       "      <td>PoW</td>\n",
       "      <td>NaN</td>\n",
       "      <td>1000000000</td>\n",
       "    </tr>\n",
       "    <tr>\n",
       "      <th>1244</th>\n",
       "      <td>UOS</td>\n",
       "      <td>UOS</td>\n",
       "      <td>SHA-256</td>\n",
       "      <td>DPoI</td>\n",
       "      <td>NaN</td>\n",
       "      <td>1000000000</td>\n",
       "    </tr>\n",
       "    <tr>\n",
       "      <th>1245</th>\n",
       "      <td>BDX</td>\n",
       "      <td>Beldex</td>\n",
       "      <td>CryptoNight</td>\n",
       "      <td>PoW</td>\n",
       "      <td>9.802226e+08</td>\n",
       "      <td>1400222610</td>\n",
       "    </tr>\n",
       "    <tr>\n",
       "      <th>1246</th>\n",
       "      <td>ZEN</td>\n",
       "      <td>Horizen</td>\n",
       "      <td>Equihash</td>\n",
       "      <td>PoW</td>\n",
       "      <td>7.296538e+06</td>\n",
       "      <td>21000000</td>\n",
       "    </tr>\n",
       "    <tr>\n",
       "      <th>1247</th>\n",
       "      <td>XBC</td>\n",
       "      <td>BitcoinPlus</td>\n",
       "      <td>Scrypt</td>\n",
       "      <td>PoS</td>\n",
       "      <td>1.283270e+05</td>\n",
       "      <td>1000000</td>\n",
       "    </tr>\n",
       "  </tbody>\n",
       "</table>\n",
       "<p>1144 rows × 6 columns</p>\n",
       "</div>"
      ],
      "text/plain": [
       "     Unnamed: 0     CoinName    Algorithm ProofType  TotalCoinsMined  \\\n",
       "0            42      42 Coin       Scrypt   PoW/PoS     4.199995e+01   \n",
       "1           365      365Coin          X11   PoW/PoS              NaN   \n",
       "2           404      404Coin       Scrypt   PoW/PoS     1.055185e+09   \n",
       "3           611    SixEleven      SHA-256       PoW              NaN   \n",
       "4           808          808      SHA-256   PoW/PoS     0.000000e+00   \n",
       "...         ...          ...          ...       ...              ...   \n",
       "1243       SERO   Super Zero       Ethash       PoW              NaN   \n",
       "1244        UOS          UOS      SHA-256      DPoI              NaN   \n",
       "1245        BDX       Beldex  CryptoNight       PoW     9.802226e+08   \n",
       "1246        ZEN      Horizen     Equihash       PoW     7.296538e+06   \n",
       "1247        XBC  BitcoinPlus       Scrypt       PoS     1.283270e+05   \n",
       "\n",
       "     TotalCoinSupply  \n",
       "0                 42  \n",
       "1         2300000000  \n",
       "2          532000000  \n",
       "3             611000  \n",
       "4                  0  \n",
       "...              ...  \n",
       "1243      1000000000  \n",
       "1244      1000000000  \n",
       "1245      1400222610  \n",
       "1246        21000000  \n",
       "1247         1000000  \n",
       "\n",
       "[1144 rows x 6 columns]"
      ]
     },
     "execution_count": 130,
     "metadata": {},
     "output_type": "execute_result"
    }
   ],
   "source": [
    "# Remove the \"IsTrading\" column. \n",
    "crypto_df = crypto_df.drop(['IsTrading'], axis=1)\n",
    "crypto_df"
   ]
  },
  {
   "cell_type": "code",
   "execution_count": 131,
   "metadata": {},
   "outputs": [
    {
     "data": {
      "text/html": [
       "<div>\n",
       "<style scoped>\n",
       "    .dataframe tbody tr th:only-of-type {\n",
       "        vertical-align: middle;\n",
       "    }\n",
       "\n",
       "    .dataframe tbody tr th {\n",
       "        vertical-align: top;\n",
       "    }\n",
       "\n",
       "    .dataframe thead th {\n",
       "        text-align: right;\n",
       "    }\n",
       "</style>\n",
       "<table border=\"1\" class=\"dataframe\">\n",
       "  <thead>\n",
       "    <tr style=\"text-align: right;\">\n",
       "      <th></th>\n",
       "      <th>Unnamed: 0</th>\n",
       "      <th>CoinName</th>\n",
       "      <th>Algorithm</th>\n",
       "      <th>ProofType</th>\n",
       "      <th>TotalCoinsMined</th>\n",
       "      <th>TotalCoinSupply</th>\n",
       "    </tr>\n",
       "  </thead>\n",
       "  <tbody>\n",
       "    <tr>\n",
       "      <th>0</th>\n",
       "      <td>42</td>\n",
       "      <td>42 Coin</td>\n",
       "      <td>Scrypt</td>\n",
       "      <td>PoW/PoS</td>\n",
       "      <td>4.199995e+01</td>\n",
       "      <td>42</td>\n",
       "    </tr>\n",
       "    <tr>\n",
       "      <th>2</th>\n",
       "      <td>404</td>\n",
       "      <td>404Coin</td>\n",
       "      <td>Scrypt</td>\n",
       "      <td>PoW/PoS</td>\n",
       "      <td>1.055185e+09</td>\n",
       "      <td>532000000</td>\n",
       "    </tr>\n",
       "    <tr>\n",
       "      <th>4</th>\n",
       "      <td>808</td>\n",
       "      <td>808</td>\n",
       "      <td>SHA-256</td>\n",
       "      <td>PoW/PoS</td>\n",
       "      <td>0.000000e+00</td>\n",
       "      <td>0</td>\n",
       "    </tr>\n",
       "    <tr>\n",
       "      <th>5</th>\n",
       "      <td>1337</td>\n",
       "      <td>EliteCoin</td>\n",
       "      <td>X13</td>\n",
       "      <td>PoW/PoS</td>\n",
       "      <td>2.927942e+10</td>\n",
       "      <td>314159265359</td>\n",
       "    </tr>\n",
       "    <tr>\n",
       "      <th>7</th>\n",
       "      <td>BTC</td>\n",
       "      <td>Bitcoin</td>\n",
       "      <td>SHA-256</td>\n",
       "      <td>PoW</td>\n",
       "      <td>1.792718e+07</td>\n",
       "      <td>21000000</td>\n",
       "    </tr>\n",
       "    <tr>\n",
       "      <th>...</th>\n",
       "      <td>...</td>\n",
       "      <td>...</td>\n",
       "      <td>...</td>\n",
       "      <td>...</td>\n",
       "      <td>...</td>\n",
       "      <td>...</td>\n",
       "    </tr>\n",
       "    <tr>\n",
       "      <th>1238</th>\n",
       "      <td>ZEPH</td>\n",
       "      <td>ZEPHYR</td>\n",
       "      <td>SHA-256</td>\n",
       "      <td>DPoS</td>\n",
       "      <td>2.000000e+09</td>\n",
       "      <td>2000000000</td>\n",
       "    </tr>\n",
       "    <tr>\n",
       "      <th>1242</th>\n",
       "      <td>GAP</td>\n",
       "      <td>Gapcoin</td>\n",
       "      <td>Scrypt</td>\n",
       "      <td>PoW/PoS</td>\n",
       "      <td>1.493105e+07</td>\n",
       "      <td>250000000</td>\n",
       "    </tr>\n",
       "    <tr>\n",
       "      <th>1245</th>\n",
       "      <td>BDX</td>\n",
       "      <td>Beldex</td>\n",
       "      <td>CryptoNight</td>\n",
       "      <td>PoW</td>\n",
       "      <td>9.802226e+08</td>\n",
       "      <td>1400222610</td>\n",
       "    </tr>\n",
       "    <tr>\n",
       "      <th>1246</th>\n",
       "      <td>ZEN</td>\n",
       "      <td>Horizen</td>\n",
       "      <td>Equihash</td>\n",
       "      <td>PoW</td>\n",
       "      <td>7.296538e+06</td>\n",
       "      <td>21000000</td>\n",
       "    </tr>\n",
       "    <tr>\n",
       "      <th>1247</th>\n",
       "      <td>XBC</td>\n",
       "      <td>BitcoinPlus</td>\n",
       "      <td>Scrypt</td>\n",
       "      <td>PoS</td>\n",
       "      <td>1.283270e+05</td>\n",
       "      <td>1000000</td>\n",
       "    </tr>\n",
       "  </tbody>\n",
       "</table>\n",
       "<p>685 rows × 6 columns</p>\n",
       "</div>"
      ],
      "text/plain": [
       "     Unnamed: 0     CoinName    Algorithm ProofType  TotalCoinsMined  \\\n",
       "0            42      42 Coin       Scrypt   PoW/PoS     4.199995e+01   \n",
       "2           404      404Coin       Scrypt   PoW/PoS     1.055185e+09   \n",
       "4           808          808      SHA-256   PoW/PoS     0.000000e+00   \n",
       "5          1337    EliteCoin          X13   PoW/PoS     2.927942e+10   \n",
       "7           BTC      Bitcoin      SHA-256       PoW     1.792718e+07   \n",
       "...         ...          ...          ...       ...              ...   \n",
       "1238       ZEPH       ZEPHYR      SHA-256      DPoS     2.000000e+09   \n",
       "1242        GAP      Gapcoin       Scrypt   PoW/PoS     1.493105e+07   \n",
       "1245        BDX       Beldex  CryptoNight       PoW     9.802226e+08   \n",
       "1246        ZEN      Horizen     Equihash       PoW     7.296538e+06   \n",
       "1247        XBC  BitcoinPlus       Scrypt       PoS     1.283270e+05   \n",
       "\n",
       "     TotalCoinSupply  \n",
       "0                 42  \n",
       "2          532000000  \n",
       "4                  0  \n",
       "5       314159265359  \n",
       "7           21000000  \n",
       "...              ...  \n",
       "1238      2000000000  \n",
       "1242       250000000  \n",
       "1245      1400222610  \n",
       "1246        21000000  \n",
       "1247         1000000  \n",
       "\n",
       "[685 rows x 6 columns]"
      ]
     },
     "execution_count": 131,
     "metadata": {},
     "output_type": "execute_result"
    }
   ],
   "source": [
    "# Remove rows that have at least 1 null value.\n",
    "crypto_df = crypto_df.dropna()\n",
    "crypto_df"
   ]
  },
  {
   "cell_type": "code",
   "execution_count": 132,
   "metadata": {},
   "outputs": [
    {
     "name": "stderr",
     "output_type": "stream",
     "text": [
      "/Users/robertberger/opt/anaconda3/envs/mlenv/lib/python3.7/site-packages/pandas/core/frame.py:4913: SettingWithCopyWarning:\n",
      "\n",
      "\n",
      "A value is trying to be set on a copy of a slice from a DataFrame\n",
      "\n",
      "See the caveats in the documentation: https://pandas.pydata.org/pandas-docs/stable/user_guide/indexing.html#returning-a-view-versus-a-copy\n",
      "\n"
     ]
    },
    {
     "data": {
      "text/html": [
       "<div>\n",
       "<style scoped>\n",
       "    .dataframe tbody tr th:only-of-type {\n",
       "        vertical-align: middle;\n",
       "    }\n",
       "\n",
       "    .dataframe tbody tr th {\n",
       "        vertical-align: top;\n",
       "    }\n",
       "\n",
       "    .dataframe thead th {\n",
       "        text-align: right;\n",
       "    }\n",
       "</style>\n",
       "<table border=\"1\" class=\"dataframe\">\n",
       "  <thead>\n",
       "    <tr style=\"text-align: right;\">\n",
       "      <th></th>\n",
       "      <th>Unnamed: 0</th>\n",
       "      <th>CoinName</th>\n",
       "      <th>Algorithm</th>\n",
       "      <th>ProofType</th>\n",
       "      <th>TotalCoinsMined</th>\n",
       "      <th>TotalCoinSupply</th>\n",
       "    </tr>\n",
       "  </thead>\n",
       "  <tbody>\n",
       "    <tr>\n",
       "      <th>0</th>\n",
       "      <td>42</td>\n",
       "      <td>42 Coin</td>\n",
       "      <td>Scrypt</td>\n",
       "      <td>PoW/PoS</td>\n",
       "      <td>4.199995e+01</td>\n",
       "      <td>42</td>\n",
       "    </tr>\n",
       "    <tr>\n",
       "      <th>2</th>\n",
       "      <td>404</td>\n",
       "      <td>404Coin</td>\n",
       "      <td>Scrypt</td>\n",
       "      <td>PoW/PoS</td>\n",
       "      <td>1.055185e+09</td>\n",
       "      <td>532000000</td>\n",
       "    </tr>\n",
       "    <tr>\n",
       "      <th>5</th>\n",
       "      <td>1337</td>\n",
       "      <td>EliteCoin</td>\n",
       "      <td>X13</td>\n",
       "      <td>PoW/PoS</td>\n",
       "      <td>2.927942e+10</td>\n",
       "      <td>314159265359</td>\n",
       "    </tr>\n",
       "    <tr>\n",
       "      <th>7</th>\n",
       "      <td>BTC</td>\n",
       "      <td>Bitcoin</td>\n",
       "      <td>SHA-256</td>\n",
       "      <td>PoW</td>\n",
       "      <td>1.792718e+07</td>\n",
       "      <td>21000000</td>\n",
       "    </tr>\n",
       "    <tr>\n",
       "      <th>8</th>\n",
       "      <td>ETH</td>\n",
       "      <td>Ethereum</td>\n",
       "      <td>Ethash</td>\n",
       "      <td>PoW</td>\n",
       "      <td>1.076842e+08</td>\n",
       "      <td>0</td>\n",
       "    </tr>\n",
       "    <tr>\n",
       "      <th>...</th>\n",
       "      <td>...</td>\n",
       "      <td>...</td>\n",
       "      <td>...</td>\n",
       "      <td>...</td>\n",
       "      <td>...</td>\n",
       "      <td>...</td>\n",
       "    </tr>\n",
       "    <tr>\n",
       "      <th>1238</th>\n",
       "      <td>ZEPH</td>\n",
       "      <td>ZEPHYR</td>\n",
       "      <td>SHA-256</td>\n",
       "      <td>DPoS</td>\n",
       "      <td>2.000000e+09</td>\n",
       "      <td>2000000000</td>\n",
       "    </tr>\n",
       "    <tr>\n",
       "      <th>1242</th>\n",
       "      <td>GAP</td>\n",
       "      <td>Gapcoin</td>\n",
       "      <td>Scrypt</td>\n",
       "      <td>PoW/PoS</td>\n",
       "      <td>1.493105e+07</td>\n",
       "      <td>250000000</td>\n",
       "    </tr>\n",
       "    <tr>\n",
       "      <th>1245</th>\n",
       "      <td>BDX</td>\n",
       "      <td>Beldex</td>\n",
       "      <td>CryptoNight</td>\n",
       "      <td>PoW</td>\n",
       "      <td>9.802226e+08</td>\n",
       "      <td>1400222610</td>\n",
       "    </tr>\n",
       "    <tr>\n",
       "      <th>1246</th>\n",
       "      <td>ZEN</td>\n",
       "      <td>Horizen</td>\n",
       "      <td>Equihash</td>\n",
       "      <td>PoW</td>\n",
       "      <td>7.296538e+06</td>\n",
       "      <td>21000000</td>\n",
       "    </tr>\n",
       "    <tr>\n",
       "      <th>1247</th>\n",
       "      <td>XBC</td>\n",
       "      <td>BitcoinPlus</td>\n",
       "      <td>Scrypt</td>\n",
       "      <td>PoS</td>\n",
       "      <td>1.283270e+05</td>\n",
       "      <td>1000000</td>\n",
       "    </tr>\n",
       "  </tbody>\n",
       "</table>\n",
       "<p>532 rows × 6 columns</p>\n",
       "</div>"
      ],
      "text/plain": [
       "     Unnamed: 0     CoinName    Algorithm ProofType  TotalCoinsMined  \\\n",
       "0            42      42 Coin       Scrypt   PoW/PoS     4.199995e+01   \n",
       "2           404      404Coin       Scrypt   PoW/PoS     1.055185e+09   \n",
       "5          1337    EliteCoin          X13   PoW/PoS     2.927942e+10   \n",
       "7           BTC      Bitcoin      SHA-256       PoW     1.792718e+07   \n",
       "8           ETH     Ethereum       Ethash       PoW     1.076842e+08   \n",
       "...         ...          ...          ...       ...              ...   \n",
       "1238       ZEPH       ZEPHYR      SHA-256      DPoS     2.000000e+09   \n",
       "1242        GAP      Gapcoin       Scrypt   PoW/PoS     1.493105e+07   \n",
       "1245        BDX       Beldex  CryptoNight       PoW     9.802226e+08   \n",
       "1246        ZEN      Horizen     Equihash       PoW     7.296538e+06   \n",
       "1247        XBC  BitcoinPlus       Scrypt       PoS     1.283270e+05   \n",
       "\n",
       "     TotalCoinSupply  \n",
       "0                 42  \n",
       "2          532000000  \n",
       "5       314159265359  \n",
       "7           21000000  \n",
       "8                  0  \n",
       "...              ...  \n",
       "1238      2000000000  \n",
       "1242       250000000  \n",
       "1245      1400222610  \n",
       "1246        21000000  \n",
       "1247         1000000  \n",
       "\n",
       "[532 rows x 6 columns]"
      ]
     },
     "execution_count": 132,
     "metadata": {},
     "output_type": "execute_result"
    }
   ],
   "source": [
    "# Keep the rows where coins are mined.\n",
    "crypto_df.drop(crypto_df.loc[crypto_df['TotalCoinsMined'] <= 0].index, inplace=True)\n",
    "crypto_df"
   ]
  },
  {
   "cell_type": "code",
   "execution_count": 133,
   "metadata": {},
   "outputs": [
    {
     "data": {
      "text/html": [
       "<div>\n",
       "<style scoped>\n",
       "    .dataframe tbody tr th:only-of-type {\n",
       "        vertical-align: middle;\n",
       "    }\n",
       "\n",
       "    .dataframe tbody tr th {\n",
       "        vertical-align: top;\n",
       "    }\n",
       "\n",
       "    .dataframe thead th {\n",
       "        text-align: right;\n",
       "    }\n",
       "</style>\n",
       "<table border=\"1\" class=\"dataframe\">\n",
       "  <thead>\n",
       "    <tr style=\"text-align: right;\">\n",
       "      <th></th>\n",
       "      <th>CoinName</th>\n",
       "    </tr>\n",
       "  </thead>\n",
       "  <tbody>\n",
       "    <tr>\n",
       "      <th>0</th>\n",
       "      <td>42 Coin</td>\n",
       "    </tr>\n",
       "    <tr>\n",
       "      <th>2</th>\n",
       "      <td>404Coin</td>\n",
       "    </tr>\n",
       "    <tr>\n",
       "      <th>5</th>\n",
       "      <td>EliteCoin</td>\n",
       "    </tr>\n",
       "    <tr>\n",
       "      <th>7</th>\n",
       "      <td>Bitcoin</td>\n",
       "    </tr>\n",
       "    <tr>\n",
       "      <th>8</th>\n",
       "      <td>Ethereum</td>\n",
       "    </tr>\n",
       "    <tr>\n",
       "      <th>...</th>\n",
       "      <td>...</td>\n",
       "    </tr>\n",
       "    <tr>\n",
       "      <th>1238</th>\n",
       "      <td>ZEPHYR</td>\n",
       "    </tr>\n",
       "    <tr>\n",
       "      <th>1242</th>\n",
       "      <td>Gapcoin</td>\n",
       "    </tr>\n",
       "    <tr>\n",
       "      <th>1245</th>\n",
       "      <td>Beldex</td>\n",
       "    </tr>\n",
       "    <tr>\n",
       "      <th>1246</th>\n",
       "      <td>Horizen</td>\n",
       "    </tr>\n",
       "    <tr>\n",
       "      <th>1247</th>\n",
       "      <td>BitcoinPlus</td>\n",
       "    </tr>\n",
       "  </tbody>\n",
       "</table>\n",
       "<p>532 rows × 1 columns</p>\n",
       "</div>"
      ],
      "text/plain": [
       "         CoinName\n",
       "0         42 Coin\n",
       "2         404Coin\n",
       "5       EliteCoin\n",
       "7         Bitcoin\n",
       "8        Ethereum\n",
       "...           ...\n",
       "1238       ZEPHYR\n",
       "1242      Gapcoin\n",
       "1245       Beldex\n",
       "1246      Horizen\n",
       "1247  BitcoinPlus\n",
       "\n",
       "[532 rows x 1 columns]"
      ]
     },
     "execution_count": 133,
     "metadata": {},
     "output_type": "execute_result"
    }
   ],
   "source": [
    "# Create a new DataFrame that holds only the cryptocurrencies names.\n",
    "new_crypto_df = crypto_df.drop(['Unnamed: 0', 'Algorithm', 'ProofType', 'TotalCoinsMined', 'TotalCoinSupply'], axis=1)\n",
    "new_crypto_df"
   ]
  },
  {
   "cell_type": "code",
   "execution_count": 134,
   "metadata": {},
   "outputs": [
    {
     "data": {
      "text/html": [
       "<div>\n",
       "<style scoped>\n",
       "    .dataframe tbody tr th:only-of-type {\n",
       "        vertical-align: middle;\n",
       "    }\n",
       "\n",
       "    .dataframe tbody tr th {\n",
       "        vertical-align: top;\n",
       "    }\n",
       "\n",
       "    .dataframe thead th {\n",
       "        text-align: right;\n",
       "    }\n",
       "</style>\n",
       "<table border=\"1\" class=\"dataframe\">\n",
       "  <thead>\n",
       "    <tr style=\"text-align: right;\">\n",
       "      <th></th>\n",
       "      <th>Unnamed: 0</th>\n",
       "      <th>Algorithm</th>\n",
       "      <th>ProofType</th>\n",
       "      <th>TotalCoinsMined</th>\n",
       "      <th>TotalCoinSupply</th>\n",
       "    </tr>\n",
       "  </thead>\n",
       "  <tbody>\n",
       "    <tr>\n",
       "      <th>0</th>\n",
       "      <td>42</td>\n",
       "      <td>Scrypt</td>\n",
       "      <td>PoW/PoS</td>\n",
       "      <td>4.199995e+01</td>\n",
       "      <td>42</td>\n",
       "    </tr>\n",
       "    <tr>\n",
       "      <th>2</th>\n",
       "      <td>404</td>\n",
       "      <td>Scrypt</td>\n",
       "      <td>PoW/PoS</td>\n",
       "      <td>1.055185e+09</td>\n",
       "      <td>532000000</td>\n",
       "    </tr>\n",
       "    <tr>\n",
       "      <th>5</th>\n",
       "      <td>1337</td>\n",
       "      <td>X13</td>\n",
       "      <td>PoW/PoS</td>\n",
       "      <td>2.927942e+10</td>\n",
       "      <td>314159265359</td>\n",
       "    </tr>\n",
       "    <tr>\n",
       "      <th>7</th>\n",
       "      <td>BTC</td>\n",
       "      <td>SHA-256</td>\n",
       "      <td>PoW</td>\n",
       "      <td>1.792718e+07</td>\n",
       "      <td>21000000</td>\n",
       "    </tr>\n",
       "    <tr>\n",
       "      <th>8</th>\n",
       "      <td>ETH</td>\n",
       "      <td>Ethash</td>\n",
       "      <td>PoW</td>\n",
       "      <td>1.076842e+08</td>\n",
       "      <td>0</td>\n",
       "    </tr>\n",
       "    <tr>\n",
       "      <th>...</th>\n",
       "      <td>...</td>\n",
       "      <td>...</td>\n",
       "      <td>...</td>\n",
       "      <td>...</td>\n",
       "      <td>...</td>\n",
       "    </tr>\n",
       "    <tr>\n",
       "      <th>1238</th>\n",
       "      <td>ZEPH</td>\n",
       "      <td>SHA-256</td>\n",
       "      <td>DPoS</td>\n",
       "      <td>2.000000e+09</td>\n",
       "      <td>2000000000</td>\n",
       "    </tr>\n",
       "    <tr>\n",
       "      <th>1242</th>\n",
       "      <td>GAP</td>\n",
       "      <td>Scrypt</td>\n",
       "      <td>PoW/PoS</td>\n",
       "      <td>1.493105e+07</td>\n",
       "      <td>250000000</td>\n",
       "    </tr>\n",
       "    <tr>\n",
       "      <th>1245</th>\n",
       "      <td>BDX</td>\n",
       "      <td>CryptoNight</td>\n",
       "      <td>PoW</td>\n",
       "      <td>9.802226e+08</td>\n",
       "      <td>1400222610</td>\n",
       "    </tr>\n",
       "    <tr>\n",
       "      <th>1246</th>\n",
       "      <td>ZEN</td>\n",
       "      <td>Equihash</td>\n",
       "      <td>PoW</td>\n",
       "      <td>7.296538e+06</td>\n",
       "      <td>21000000</td>\n",
       "    </tr>\n",
       "    <tr>\n",
       "      <th>1247</th>\n",
       "      <td>XBC</td>\n",
       "      <td>Scrypt</td>\n",
       "      <td>PoS</td>\n",
       "      <td>1.283270e+05</td>\n",
       "      <td>1000000</td>\n",
       "    </tr>\n",
       "  </tbody>\n",
       "</table>\n",
       "<p>532 rows × 5 columns</p>\n",
       "</div>"
      ],
      "text/plain": [
       "     Unnamed: 0    Algorithm ProofType  TotalCoinsMined TotalCoinSupply\n",
       "0            42       Scrypt   PoW/PoS     4.199995e+01              42\n",
       "2           404       Scrypt   PoW/PoS     1.055185e+09       532000000\n",
       "5          1337          X13   PoW/PoS     2.927942e+10    314159265359\n",
       "7           BTC      SHA-256       PoW     1.792718e+07        21000000\n",
       "8           ETH       Ethash       PoW     1.076842e+08               0\n",
       "...         ...          ...       ...              ...             ...\n",
       "1238       ZEPH      SHA-256      DPoS     2.000000e+09      2000000000\n",
       "1242        GAP       Scrypt   PoW/PoS     1.493105e+07       250000000\n",
       "1245        BDX  CryptoNight       PoW     9.802226e+08      1400222610\n",
       "1246        ZEN     Equihash       PoW     7.296538e+06        21000000\n",
       "1247        XBC       Scrypt       PoS     1.283270e+05         1000000\n",
       "\n",
       "[532 rows x 5 columns]"
      ]
     },
     "execution_count": 134,
     "metadata": {},
     "output_type": "execute_result"
    }
   ],
   "source": [
    "# Drop the 'CoinName' column since it's not going to be used on the clustering algorithm.\n",
    "crypto_df = crypto_df.drop(['CoinName'], axis=1)\n",
    "crypto_df"
   ]
  },
  {
   "cell_type": "code",
   "execution_count": 135,
   "metadata": {},
   "outputs": [
    {
     "data": {
      "text/html": [
       "<div>\n",
       "<style scoped>\n",
       "    .dataframe tbody tr th:only-of-type {\n",
       "        vertical-align: middle;\n",
       "    }\n",
       "\n",
       "    .dataframe tbody tr th {\n",
       "        vertical-align: top;\n",
       "    }\n",
       "\n",
       "    .dataframe thead th {\n",
       "        text-align: right;\n",
       "    }\n",
       "</style>\n",
       "<table border=\"1\" class=\"dataframe\">\n",
       "  <thead>\n",
       "    <tr style=\"text-align: right;\">\n",
       "      <th></th>\n",
       "      <th>TotalCoinsMined</th>\n",
       "      <th>Unnamed: 0_1337</th>\n",
       "      <th>Unnamed: 0_1CR</th>\n",
       "      <th>Unnamed: 0_404</th>\n",
       "      <th>Unnamed: 0_42</th>\n",
       "      <th>Unnamed: 0_8BIT</th>\n",
       "      <th>Unnamed: 0_AAC</th>\n",
       "      <th>Unnamed: 0_ABJ</th>\n",
       "      <th>Unnamed: 0_ABS</th>\n",
       "      <th>Unnamed: 0_ABY</th>\n",
       "      <th>...</th>\n",
       "      <th>TotalCoinSupply_91388946</th>\n",
       "      <th>TotalCoinSupply_92000000000</th>\n",
       "      <th>TotalCoinSupply_9354000</th>\n",
       "      <th>TotalCoinSupply_9507271</th>\n",
       "      <th>TotalCoinSupply_9736000</th>\n",
       "      <th>TotalCoinSupply_98000000</th>\n",
       "      <th>TotalCoinSupply_98100000000</th>\n",
       "      <th>TotalCoinSupply_990000000000</th>\n",
       "      <th>TotalCoinSupply_999481516</th>\n",
       "      <th>TotalCoinSupply_9999999</th>\n",
       "    </tr>\n",
       "  </thead>\n",
       "  <tbody>\n",
       "    <tr>\n",
       "      <th>0</th>\n",
       "      <td>4.199995e+01</td>\n",
       "      <td>0.0</td>\n",
       "      <td>0.0</td>\n",
       "      <td>0.0</td>\n",
       "      <td>1.0</td>\n",
       "      <td>0.0</td>\n",
       "      <td>0.0</td>\n",
       "      <td>0.0</td>\n",
       "      <td>0.0</td>\n",
       "      <td>0.0</td>\n",
       "      <td>...</td>\n",
       "      <td>0.0</td>\n",
       "      <td>0.0</td>\n",
       "      <td>0.0</td>\n",
       "      <td>0.0</td>\n",
       "      <td>0.0</td>\n",
       "      <td>0.0</td>\n",
       "      <td>0.0</td>\n",
       "      <td>0.0</td>\n",
       "      <td>0.0</td>\n",
       "      <td>0.0</td>\n",
       "    </tr>\n",
       "    <tr>\n",
       "      <th>2</th>\n",
       "      <td>1.055185e+09</td>\n",
       "      <td>0.0</td>\n",
       "      <td>0.0</td>\n",
       "      <td>1.0</td>\n",
       "      <td>0.0</td>\n",
       "      <td>0.0</td>\n",
       "      <td>0.0</td>\n",
       "      <td>0.0</td>\n",
       "      <td>0.0</td>\n",
       "      <td>0.0</td>\n",
       "      <td>...</td>\n",
       "      <td>0.0</td>\n",
       "      <td>0.0</td>\n",
       "      <td>0.0</td>\n",
       "      <td>0.0</td>\n",
       "      <td>0.0</td>\n",
       "      <td>0.0</td>\n",
       "      <td>0.0</td>\n",
       "      <td>0.0</td>\n",
       "      <td>0.0</td>\n",
       "      <td>0.0</td>\n",
       "    </tr>\n",
       "    <tr>\n",
       "      <th>5</th>\n",
       "      <td>2.927942e+10</td>\n",
       "      <td>1.0</td>\n",
       "      <td>0.0</td>\n",
       "      <td>0.0</td>\n",
       "      <td>0.0</td>\n",
       "      <td>0.0</td>\n",
       "      <td>0.0</td>\n",
       "      <td>0.0</td>\n",
       "      <td>0.0</td>\n",
       "      <td>0.0</td>\n",
       "      <td>...</td>\n",
       "      <td>0.0</td>\n",
       "      <td>0.0</td>\n",
       "      <td>0.0</td>\n",
       "      <td>0.0</td>\n",
       "      <td>0.0</td>\n",
       "      <td>0.0</td>\n",
       "      <td>0.0</td>\n",
       "      <td>0.0</td>\n",
       "      <td>0.0</td>\n",
       "      <td>0.0</td>\n",
       "    </tr>\n",
       "    <tr>\n",
       "      <th>7</th>\n",
       "      <td>1.792718e+07</td>\n",
       "      <td>0.0</td>\n",
       "      <td>0.0</td>\n",
       "      <td>0.0</td>\n",
       "      <td>0.0</td>\n",
       "      <td>0.0</td>\n",
       "      <td>0.0</td>\n",
       "      <td>0.0</td>\n",
       "      <td>0.0</td>\n",
       "      <td>0.0</td>\n",
       "      <td>...</td>\n",
       "      <td>0.0</td>\n",
       "      <td>0.0</td>\n",
       "      <td>0.0</td>\n",
       "      <td>0.0</td>\n",
       "      <td>0.0</td>\n",
       "      <td>0.0</td>\n",
       "      <td>0.0</td>\n",
       "      <td>0.0</td>\n",
       "      <td>0.0</td>\n",
       "      <td>0.0</td>\n",
       "    </tr>\n",
       "    <tr>\n",
       "      <th>8</th>\n",
       "      <td>1.076842e+08</td>\n",
       "      <td>0.0</td>\n",
       "      <td>0.0</td>\n",
       "      <td>0.0</td>\n",
       "      <td>0.0</td>\n",
       "      <td>0.0</td>\n",
       "      <td>0.0</td>\n",
       "      <td>0.0</td>\n",
       "      <td>0.0</td>\n",
       "      <td>0.0</td>\n",
       "      <td>...</td>\n",
       "      <td>0.0</td>\n",
       "      <td>0.0</td>\n",
       "      <td>0.0</td>\n",
       "      <td>0.0</td>\n",
       "      <td>0.0</td>\n",
       "      <td>0.0</td>\n",
       "      <td>0.0</td>\n",
       "      <td>0.0</td>\n",
       "      <td>0.0</td>\n",
       "      <td>0.0</td>\n",
       "    </tr>\n",
       "    <tr>\n",
       "      <th>...</th>\n",
       "      <td>...</td>\n",
       "      <td>...</td>\n",
       "      <td>...</td>\n",
       "      <td>...</td>\n",
       "      <td>...</td>\n",
       "      <td>...</td>\n",
       "      <td>...</td>\n",
       "      <td>...</td>\n",
       "      <td>...</td>\n",
       "      <td>...</td>\n",
       "      <td>...</td>\n",
       "      <td>...</td>\n",
       "      <td>...</td>\n",
       "      <td>...</td>\n",
       "      <td>...</td>\n",
       "      <td>...</td>\n",
       "      <td>...</td>\n",
       "      <td>...</td>\n",
       "      <td>...</td>\n",
       "      <td>...</td>\n",
       "      <td>...</td>\n",
       "    </tr>\n",
       "    <tr>\n",
       "      <th>1238</th>\n",
       "      <td>2.000000e+09</td>\n",
       "      <td>0.0</td>\n",
       "      <td>0.0</td>\n",
       "      <td>0.0</td>\n",
       "      <td>0.0</td>\n",
       "      <td>0.0</td>\n",
       "      <td>0.0</td>\n",
       "      <td>0.0</td>\n",
       "      <td>0.0</td>\n",
       "      <td>0.0</td>\n",
       "      <td>...</td>\n",
       "      <td>0.0</td>\n",
       "      <td>0.0</td>\n",
       "      <td>0.0</td>\n",
       "      <td>0.0</td>\n",
       "      <td>0.0</td>\n",
       "      <td>0.0</td>\n",
       "      <td>0.0</td>\n",
       "      <td>0.0</td>\n",
       "      <td>0.0</td>\n",
       "      <td>0.0</td>\n",
       "    </tr>\n",
       "    <tr>\n",
       "      <th>1242</th>\n",
       "      <td>1.493105e+07</td>\n",
       "      <td>0.0</td>\n",
       "      <td>0.0</td>\n",
       "      <td>0.0</td>\n",
       "      <td>0.0</td>\n",
       "      <td>0.0</td>\n",
       "      <td>0.0</td>\n",
       "      <td>0.0</td>\n",
       "      <td>0.0</td>\n",
       "      <td>0.0</td>\n",
       "      <td>...</td>\n",
       "      <td>0.0</td>\n",
       "      <td>0.0</td>\n",
       "      <td>0.0</td>\n",
       "      <td>0.0</td>\n",
       "      <td>0.0</td>\n",
       "      <td>0.0</td>\n",
       "      <td>0.0</td>\n",
       "      <td>0.0</td>\n",
       "      <td>0.0</td>\n",
       "      <td>0.0</td>\n",
       "    </tr>\n",
       "    <tr>\n",
       "      <th>1245</th>\n",
       "      <td>9.802226e+08</td>\n",
       "      <td>0.0</td>\n",
       "      <td>0.0</td>\n",
       "      <td>0.0</td>\n",
       "      <td>0.0</td>\n",
       "      <td>0.0</td>\n",
       "      <td>0.0</td>\n",
       "      <td>0.0</td>\n",
       "      <td>0.0</td>\n",
       "      <td>0.0</td>\n",
       "      <td>...</td>\n",
       "      <td>0.0</td>\n",
       "      <td>0.0</td>\n",
       "      <td>0.0</td>\n",
       "      <td>0.0</td>\n",
       "      <td>0.0</td>\n",
       "      <td>0.0</td>\n",
       "      <td>0.0</td>\n",
       "      <td>0.0</td>\n",
       "      <td>0.0</td>\n",
       "      <td>0.0</td>\n",
       "    </tr>\n",
       "    <tr>\n",
       "      <th>1246</th>\n",
       "      <td>7.296538e+06</td>\n",
       "      <td>0.0</td>\n",
       "      <td>0.0</td>\n",
       "      <td>0.0</td>\n",
       "      <td>0.0</td>\n",
       "      <td>0.0</td>\n",
       "      <td>0.0</td>\n",
       "      <td>0.0</td>\n",
       "      <td>0.0</td>\n",
       "      <td>0.0</td>\n",
       "      <td>...</td>\n",
       "      <td>0.0</td>\n",
       "      <td>0.0</td>\n",
       "      <td>0.0</td>\n",
       "      <td>0.0</td>\n",
       "      <td>0.0</td>\n",
       "      <td>0.0</td>\n",
       "      <td>0.0</td>\n",
       "      <td>0.0</td>\n",
       "      <td>0.0</td>\n",
       "      <td>0.0</td>\n",
       "    </tr>\n",
       "    <tr>\n",
       "      <th>1247</th>\n",
       "      <td>1.283270e+05</td>\n",
       "      <td>0.0</td>\n",
       "      <td>0.0</td>\n",
       "      <td>0.0</td>\n",
       "      <td>0.0</td>\n",
       "      <td>0.0</td>\n",
       "      <td>0.0</td>\n",
       "      <td>0.0</td>\n",
       "      <td>0.0</td>\n",
       "      <td>0.0</td>\n",
       "      <td>...</td>\n",
       "      <td>0.0</td>\n",
       "      <td>0.0</td>\n",
       "      <td>0.0</td>\n",
       "      <td>0.0</td>\n",
       "      <td>0.0</td>\n",
       "      <td>0.0</td>\n",
       "      <td>0.0</td>\n",
       "      <td>0.0</td>\n",
       "      <td>0.0</td>\n",
       "      <td>0.0</td>\n",
       "    </tr>\n",
       "  </tbody>\n",
       "</table>\n",
       "<p>532 rows × 909 columns</p>\n",
       "</div>"
      ],
      "text/plain": [
       "      TotalCoinsMined  Unnamed: 0_1337  Unnamed: 0_1CR  Unnamed: 0_404  \\\n",
       "0        4.199995e+01              0.0             0.0             0.0   \n",
       "2        1.055185e+09              0.0             0.0             1.0   \n",
       "5        2.927942e+10              1.0             0.0             0.0   \n",
       "7        1.792718e+07              0.0             0.0             0.0   \n",
       "8        1.076842e+08              0.0             0.0             0.0   \n",
       "...               ...              ...             ...             ...   \n",
       "1238     2.000000e+09              0.0             0.0             0.0   \n",
       "1242     1.493105e+07              0.0             0.0             0.0   \n",
       "1245     9.802226e+08              0.0             0.0             0.0   \n",
       "1246     7.296538e+06              0.0             0.0             0.0   \n",
       "1247     1.283270e+05              0.0             0.0             0.0   \n",
       "\n",
       "      Unnamed: 0_42  Unnamed: 0_8BIT  Unnamed: 0_AAC  Unnamed: 0_ABJ  \\\n",
       "0               1.0              0.0             0.0             0.0   \n",
       "2               0.0              0.0             0.0             0.0   \n",
       "5               0.0              0.0             0.0             0.0   \n",
       "7               0.0              0.0             0.0             0.0   \n",
       "8               0.0              0.0             0.0             0.0   \n",
       "...             ...              ...             ...             ...   \n",
       "1238            0.0              0.0             0.0             0.0   \n",
       "1242            0.0              0.0             0.0             0.0   \n",
       "1245            0.0              0.0             0.0             0.0   \n",
       "1246            0.0              0.0             0.0             0.0   \n",
       "1247            0.0              0.0             0.0             0.0   \n",
       "\n",
       "      Unnamed: 0_ABS  Unnamed: 0_ABY  ...  TotalCoinSupply_91388946  \\\n",
       "0                0.0             0.0  ...                       0.0   \n",
       "2                0.0             0.0  ...                       0.0   \n",
       "5                0.0             0.0  ...                       0.0   \n",
       "7                0.0             0.0  ...                       0.0   \n",
       "8                0.0             0.0  ...                       0.0   \n",
       "...              ...             ...  ...                       ...   \n",
       "1238             0.0             0.0  ...                       0.0   \n",
       "1242             0.0             0.0  ...                       0.0   \n",
       "1245             0.0             0.0  ...                       0.0   \n",
       "1246             0.0             0.0  ...                       0.0   \n",
       "1247             0.0             0.0  ...                       0.0   \n",
       "\n",
       "      TotalCoinSupply_92000000000  TotalCoinSupply_9354000  \\\n",
       "0                             0.0                      0.0   \n",
       "2                             0.0                      0.0   \n",
       "5                             0.0                      0.0   \n",
       "7                             0.0                      0.0   \n",
       "8                             0.0                      0.0   \n",
       "...                           ...                      ...   \n",
       "1238                          0.0                      0.0   \n",
       "1242                          0.0                      0.0   \n",
       "1245                          0.0                      0.0   \n",
       "1246                          0.0                      0.0   \n",
       "1247                          0.0                      0.0   \n",
       "\n",
       "      TotalCoinSupply_9507271  TotalCoinSupply_9736000  \\\n",
       "0                         0.0                      0.0   \n",
       "2                         0.0                      0.0   \n",
       "5                         0.0                      0.0   \n",
       "7                         0.0                      0.0   \n",
       "8                         0.0                      0.0   \n",
       "...                       ...                      ...   \n",
       "1238                      0.0                      0.0   \n",
       "1242                      0.0                      0.0   \n",
       "1245                      0.0                      0.0   \n",
       "1246                      0.0                      0.0   \n",
       "1247                      0.0                      0.0   \n",
       "\n",
       "      TotalCoinSupply_98000000  TotalCoinSupply_98100000000  \\\n",
       "0                          0.0                          0.0   \n",
       "2                          0.0                          0.0   \n",
       "5                          0.0                          0.0   \n",
       "7                          0.0                          0.0   \n",
       "8                          0.0                          0.0   \n",
       "...                        ...                          ...   \n",
       "1238                       0.0                          0.0   \n",
       "1242                       0.0                          0.0   \n",
       "1245                       0.0                          0.0   \n",
       "1246                       0.0                          0.0   \n",
       "1247                       0.0                          0.0   \n",
       "\n",
       "      TotalCoinSupply_990000000000  TotalCoinSupply_999481516  \\\n",
       "0                              0.0                        0.0   \n",
       "2                              0.0                        0.0   \n",
       "5                              0.0                        0.0   \n",
       "7                              0.0                        0.0   \n",
       "8                              0.0                        0.0   \n",
       "...                            ...                        ...   \n",
       "1238                           0.0                        0.0   \n",
       "1242                           0.0                        0.0   \n",
       "1245                           0.0                        0.0   \n",
       "1246                           0.0                        0.0   \n",
       "1247                           0.0                        0.0   \n",
       "\n",
       "      TotalCoinSupply_9999999  \n",
       "0                         0.0  \n",
       "2                         0.0  \n",
       "5                         0.0  \n",
       "7                         0.0  \n",
       "8                         0.0  \n",
       "...                       ...  \n",
       "1238                      0.0  \n",
       "1242                      0.0  \n",
       "1245                      0.0  \n",
       "1246                      0.0  \n",
       "1247                      0.0  \n",
       "\n",
       "[532 rows x 909 columns]"
      ]
     },
     "execution_count": 135,
     "metadata": {},
     "output_type": "execute_result"
    }
   ],
   "source": [
    "# Use get_dummies() to create variables for text features.\n",
    "X = pd.get_dummies(crypto_df, dtype=float)\n",
    "X"
   ]
  },
  {
   "cell_type": "code",
   "execution_count": 136,
   "metadata": {},
   "outputs": [
    {
     "data": {
      "text/plain": [
       "array([[-0.11710817, -0.0433963 , -0.0433963 , ..., -0.0433963 ,\n",
       "        -0.0433963 , -0.0433963 ],\n",
       "       [-0.09396955, -0.0433963 , -0.0433963 , ..., -0.0433963 ,\n",
       "        -0.0433963 , -0.0433963 ],\n",
       "       [ 0.52494561, 23.04343724, -0.0433963 , ..., -0.0433963 ,\n",
       "        -0.0433963 , -0.0433963 ],\n",
       "       ...,\n",
       "       [-0.09561336, -0.0433963 , -0.0433963 , ..., -0.0433963 ,\n",
       "        -0.0433963 , -0.0433963 ],\n",
       "       [-0.11694817, -0.0433963 , -0.0433963 , ..., -0.0433963 ,\n",
       "        -0.0433963 , -0.0433963 ],\n",
       "       [-0.11710536, -0.0433963 , -0.0433963 , ..., -0.0433963 ,\n",
       "        -0.0433963 , -0.0433963 ]])"
      ]
     },
     "execution_count": 136,
     "metadata": {},
     "output_type": "execute_result"
    }
   ],
   "source": [
    "# Standardize the data with StandardScaler().\n",
    "from sklearn.preprocessing import StandardScaler\n",
    "X_scaled = StandardScaler().fit_transform(X)\n",
    "X_scaled"
   ]
  },
  {
   "cell_type": "markdown",
   "metadata": {},
   "source": [
    "### Deliverable 2: Reducing Data Dimensions Using PCA"
   ]
  },
  {
   "cell_type": "code",
   "execution_count": 137,
   "metadata": {},
   "outputs": [],
   "source": [
    "# Using PCA to reduce dimension to three principal components.\n",
    "pca = PCA(n_components=3)"
   ]
  },
  {
   "cell_type": "code",
   "execution_count": 138,
   "metadata": {},
   "outputs": [
    {
     "data": {
      "text/html": [
       "<div>\n",
       "<style scoped>\n",
       "    .dataframe tbody tr th:only-of-type {\n",
       "        vertical-align: middle;\n",
       "    }\n",
       "\n",
       "    .dataframe tbody tr th {\n",
       "        vertical-align: top;\n",
       "    }\n",
       "\n",
       "    .dataframe thead th {\n",
       "        text-align: right;\n",
       "    }\n",
       "</style>\n",
       "<table border=\"1\" class=\"dataframe\">\n",
       "  <thead>\n",
       "    <tr style=\"text-align: right;\">\n",
       "      <th></th>\n",
       "      <th>PC1</th>\n",
       "      <th>PC2</th>\n",
       "      <th>PC3</th>\n",
       "    </tr>\n",
       "  </thead>\n",
       "  <tbody>\n",
       "    <tr>\n",
       "      <th>42</th>\n",
       "      <td>-0.261973</td>\n",
       "      <td>0.085337</td>\n",
       "      <td>0.004343</td>\n",
       "    </tr>\n",
       "    <tr>\n",
       "      <th>404</th>\n",
       "      <td>-0.193341</td>\n",
       "      <td>0.008556</td>\n",
       "      <td>0.012280</td>\n",
       "    </tr>\n",
       "    <tr>\n",
       "      <th>1337</th>\n",
       "      <td>0.471321</td>\n",
       "      <td>0.280366</td>\n",
       "      <td>0.397616</td>\n",
       "    </tr>\n",
       "    <tr>\n",
       "      <th>BTC</th>\n",
       "      <td>-0.243734</td>\n",
       "      <td>-0.234122</td>\n",
       "      <td>0.030140</td>\n",
       "    </tr>\n",
       "    <tr>\n",
       "      <th>ETH</th>\n",
       "      <td>-0.037287</td>\n",
       "      <td>-0.109876</td>\n",
       "      <td>-0.389453</td>\n",
       "    </tr>\n",
       "  </tbody>\n",
       "</table>\n",
       "</div>"
      ],
      "text/plain": [
       "           PC1       PC2       PC3\n",
       "42   -0.261973  0.085337  0.004343\n",
       "404  -0.193341  0.008556  0.012280\n",
       "1337  0.471321  0.280366  0.397616\n",
       "BTC  -0.243734 -0.234122  0.030140\n",
       "ETH  -0.037287 -0.109876 -0.389453"
      ]
     },
     "execution_count": 138,
     "metadata": {},
     "output_type": "execute_result"
    }
   ],
   "source": [
    "# Create a DataFrame with the three principal components.\n",
    "pcs_X = pca.fit_transform(X_scaled)\n",
    "pcs_df = pd.DataFrame(\n",
    "    data=pcs_X, columns=[\"PC1\", \"PC2\", \"PC3\"], index=crypto_df[\"Unnamed: 0\"]\n",
    ")\n",
    "pcs_df.index.name = None\n",
    "pcs_df.head()"
   ]
  },
  {
   "cell_type": "markdown",
   "metadata": {},
   "source": [
    "### Deliverable 3: Clustering Crytocurrencies Using K-Means\n",
    "\n",
    "#### Finding the Best Value for `k` Using the Elbow Curve"
   ]
  },
  {
   "cell_type": "code",
   "execution_count": 139,
   "metadata": {},
   "outputs": [
    {
     "data": {},
     "metadata": {},
     "output_type": "display_data"
    },
    {
     "data": {
      "application/vnd.holoviews_exec.v0+json": "",
      "text/html": [
       "<div id='1636'>\n",
       "\n",
       "\n",
       "\n",
       "\n",
       "\n",
       "  <div class=\"bk-root\" id=\"c8266508-a8e7-4172-86e9-e55d815f40a8\" data-root-id=\"1636\"></div>\n",
       "</div>\n",
       "<script type=\"application/javascript\">(function(root) {\n",
       "  function embed_document(root) {\n",
       "    var docs_json = {\"4fa00e6d-0e39-4b70-b9e7-9a94a2339134\":{\"defs\":[{\"extends\":null,\"module\":null,\"name\":\"ReactiveHTML1\",\"overrides\":[],\"properties\":[]},{\"extends\":null,\"module\":null,\"name\":\"FlexBox1\",\"overrides\":[],\"properties\":[{\"default\":\"flex-start\",\"kind\":null,\"name\":\"align_content\"},{\"default\":\"flex-start\",\"kind\":null,\"name\":\"align_items\"},{\"default\":\"row\",\"kind\":null,\"name\":\"flex_direction\"},{\"default\":\"wrap\",\"kind\":null,\"name\":\"flex_wrap\"},{\"default\":\"flex-start\",\"kind\":null,\"name\":\"justify_content\"}]},{\"extends\":null,\"module\":null,\"name\":\"GridStack1\",\"overrides\":[],\"properties\":[{\"default\":\"warn\",\"kind\":null,\"name\":\"mode\"},{\"default\":null,\"kind\":null,\"name\":\"ncols\"},{\"default\":null,\"kind\":null,\"name\":\"nrows\"},{\"default\":true,\"kind\":null,\"name\":\"allow_resize\"},{\"default\":true,\"kind\":null,\"name\":\"allow_drag\"},{\"default\":[],\"kind\":null,\"name\":\"state\"}]},{\"extends\":null,\"module\":null,\"name\":\"click1\",\"overrides\":[],\"properties\":[{\"default\":\"\",\"kind\":null,\"name\":\"terminal_output\"},{\"default\":\"\",\"kind\":null,\"name\":\"debug_name\"},{\"default\":0,\"kind\":null,\"name\":\"clears\"}]},{\"extends\":null,\"module\":null,\"name\":\"TemplateActions1\",\"overrides\":[],\"properties\":[{\"default\":0,\"kind\":null,\"name\":\"open_modal\"},{\"default\":0,\"kind\":null,\"name\":\"close_modal\"}]},{\"extends\":null,\"module\":null,\"name\":\"MaterialTemplateActions1\",\"overrides\":[],\"properties\":[{\"default\":0,\"kind\":null,\"name\":\"open_modal\"},{\"default\":0,\"kind\":null,\"name\":\"close_modal\"}]}],\"roots\":{\"references\":[{\"attributes\":{},\"id\":\"1662\",\"type\":\"ResetTool\"},{\"attributes\":{\"bottom_units\":\"screen\",\"coordinates\":null,\"fill_alpha\":0.5,\"fill_color\":\"lightgrey\",\"group\":null,\"left_units\":\"screen\",\"level\":\"overlay\",\"line_alpha\":1.0,\"line_color\":\"black\",\"line_dash\":[4,4],\"line_width\":2,\"right_units\":\"screen\",\"syncable\":false,\"top_units\":\"screen\"},\"id\":\"1663\",\"type\":\"BoxAnnotation\"},{\"attributes\":{\"axis\":{\"id\":\"1654\"},\"coordinates\":null,\"dimension\":1,\"grid_line_color\":null,\"group\":null,\"ticker\":null},\"id\":\"1657\",\"type\":\"Grid\"},{\"attributes\":{\"data\":{\"inertia\":{\"__ndarray__\":\"sixemysmuUBAN0QWt+2xQMvWyHA8T6VAVka1Mur5kUCNM03Gl5V/QAk2EVFqNXZAy60vq4BoZEAd48E+AJpgQJ/r3GQs2FpAu3m/L4tEVkA=\",\"dtype\":\"float64\",\"order\":\"little\",\"shape\":[10]},\"k\":[1,2,3,4,5,6,7,8,9,10]},\"selected\":{\"id\":\"1672\"},\"selection_policy\":{\"id\":\"1695\"}},\"id\":\"1671\",\"type\":\"ColumnDataSource\"},{\"attributes\":{\"axis_label\":\"k\",\"coordinates\":null,\"formatter\":{\"id\":\"1682\"},\"group\":null,\"major_label_policy\":{\"id\":\"1683\"},\"ticker\":{\"id\":\"1680\"}},\"id\":\"1650\",\"type\":\"LinearAxis\"},{\"attributes\":{\"end\":10.0,\"reset_end\":10.0,\"reset_start\":1.0,\"start\":1.0,\"tags\":[[[\"k\",\"k\",null]]]},\"id\":\"1638\",\"type\":\"Range1d\"},{\"attributes\":{},\"id\":\"1687\",\"type\":\"BasicTickFormatter\"},{\"attributes\":{\"below\":[{\"id\":\"1650\"}],\"center\":[{\"id\":\"1653\"},{\"id\":\"1657\"}],\"height\":300,\"left\":[{\"id\":\"1654\"}],\"margin\":[5,5,5,5],\"min_border_bottom\":10,\"min_border_left\":10,\"min_border_right\":10,\"min_border_top\":10,\"renderers\":[{\"id\":\"1677\"}],\"sizing_mode\":\"fixed\",\"title\":{\"id\":\"1642\"},\"toolbar\":{\"id\":\"1664\"},\"width\":700,\"x_range\":{\"id\":\"1638\"},\"x_scale\":{\"id\":\"1646\"},\"y_range\":{\"id\":\"1639\"},\"y_scale\":{\"id\":\"1648\"}},\"id\":\"1641\",\"subtype\":\"Figure\",\"type\":\"Plot\"},{\"attributes\":{\"axis\":{\"id\":\"1650\"},\"coordinates\":null,\"grid_line_color\":null,\"group\":null,\"ticker\":null},\"id\":\"1653\",\"type\":\"Grid\"},{\"attributes\":{},\"id\":\"1695\",\"type\":\"UnionRenderers\"},{\"attributes\":{},\"id\":\"1655\",\"type\":\"BasicTicker\"},{\"attributes\":{\"axis_label\":\"inertia\",\"coordinates\":null,\"formatter\":{\"id\":\"1687\"},\"group\":null,\"major_label_policy\":{\"id\":\"1688\"},\"ticker\":{\"id\":\"1655\"}},\"id\":\"1654\",\"type\":\"LinearAxis\"},{\"attributes\":{\"line_color\":\"#30a2da\",\"line_width\":2,\"x\":{\"field\":\"k\"},\"y\":{\"field\":\"inertia\"}},\"id\":\"1674\",\"type\":\"Line\"},{\"attributes\":{\"line_alpha\":0.2,\"line_color\":\"#30a2da\",\"line_width\":2,\"x\":{\"field\":\"k\"},\"y\":{\"field\":\"inertia\"}},\"id\":\"1676\",\"type\":\"Line\"},{\"attributes\":{\"children\":[{\"id\":\"1637\"},{\"id\":\"1641\"},{\"id\":\"1707\"}],\"margin\":[0,0,0,0],\"name\":\"Row03129\",\"tags\":[\"embedded\"]},\"id\":\"1636\",\"type\":\"Row\"},{\"attributes\":{\"end\":7073.080273896031,\"reset_end\":7073.080273896031,\"reset_start\":-545.8389391497657,\"start\":-545.8389391497657,\"tags\":[[[\"inertia\",\"inertia\",null]]]},\"id\":\"1639\",\"type\":\"Range1d\"},{\"attributes\":{\"source\":{\"id\":\"1671\"}},\"id\":\"1678\",\"type\":\"CDSView\"},{\"attributes\":{},\"id\":\"1672\",\"type\":\"Selection\"},{\"attributes\":{},\"id\":\"1683\",\"type\":\"AllLabels\"},{\"attributes\":{\"line_color\":\"#30a2da\",\"line_width\":2,\"x\":{\"field\":\"k\"},\"y\":{\"field\":\"inertia\"}},\"id\":\"1679\",\"type\":\"Line\"},{\"attributes\":{},\"id\":\"1682\",\"type\":\"BasicTickFormatter\"},{\"attributes\":{\"coordinates\":null,\"data_source\":{\"id\":\"1671\"},\"glyph\":{\"id\":\"1674\"},\"group\":null,\"hover_glyph\":null,\"muted_glyph\":{\"id\":\"1676\"},\"nonselection_glyph\":{\"id\":\"1675\"},\"selection_glyph\":{\"id\":\"1679\"},\"view\":{\"id\":\"1678\"}},\"id\":\"1677\",\"type\":\"GlyphRenderer\"},{\"attributes\":{\"line_alpha\":0.1,\"line_color\":\"#30a2da\",\"line_width\":2,\"x\":{\"field\":\"k\"},\"y\":{\"field\":\"inertia\"}},\"id\":\"1675\",\"type\":\"Line\"},{\"attributes\":{},\"id\":\"1658\",\"type\":\"SaveTool\"},{\"attributes\":{\"callback\":null,\"renderers\":[{\"id\":\"1677\"}],\"tags\":[\"hv_created\"],\"tooltips\":[[\"k\",\"@{k}\"],[\"inertia\",\"@{inertia}\"]]},\"id\":\"1640\",\"type\":\"HoverTool\"},{\"attributes\":{},\"id\":\"1659\",\"type\":\"PanTool\"},{\"attributes\":{\"ticks\":[1,2,3,4,5,6,7,8,9,10]},\"id\":\"1680\",\"type\":\"FixedTicker\"},{\"attributes\":{\"coordinates\":null,\"group\":null,\"text\":\"Elbow Curve\",\"text_color\":\"black\",\"text_font_size\":\"12pt\"},\"id\":\"1642\",\"type\":\"Title\"},{\"attributes\":{},\"id\":\"1660\",\"type\":\"WheelZoomTool\"},{\"attributes\":{\"margin\":[5,5,5,5],\"name\":\"HSpacer03133\",\"sizing_mode\":\"stretch_width\"},\"id\":\"1637\",\"type\":\"Spacer\"},{\"attributes\":{\"tools\":[{\"id\":\"1640\"},{\"id\":\"1658\"},{\"id\":\"1659\"},{\"id\":\"1660\"},{\"id\":\"1661\"},{\"id\":\"1662\"}]},\"id\":\"1664\",\"type\":\"Toolbar\"},{\"attributes\":{},\"id\":\"1646\",\"type\":\"LinearScale\"},{\"attributes\":{\"overlay\":{\"id\":\"1663\"}},\"id\":\"1661\",\"type\":\"BoxZoomTool\"},{\"attributes\":{\"margin\":[5,5,5,5],\"name\":\"HSpacer03134\",\"sizing_mode\":\"stretch_width\"},\"id\":\"1707\",\"type\":\"Spacer\"},{\"attributes\":{},\"id\":\"1648\",\"type\":\"LinearScale\"},{\"attributes\":{},\"id\":\"1688\",\"type\":\"AllLabels\"}],\"root_ids\":[\"1636\"]},\"title\":\"Bokeh Application\",\"version\":\"2.4.2\"}};\n",
       "    var render_items = [{\"docid\":\"4fa00e6d-0e39-4b70-b9e7-9a94a2339134\",\"root_ids\":[\"1636\"],\"roots\":{\"1636\":\"c8266508-a8e7-4172-86e9-e55d815f40a8\"}}];\n",
       "    root.Bokeh.embed.embed_items_notebook(docs_json, render_items);\n",
       "  }\n",
       "  if (root.Bokeh !== undefined && root.Bokeh.Panel !== undefined) {\n",
       "    embed_document(root);\n",
       "  } else {\n",
       "    var attempts = 0;\n",
       "    var timer = setInterval(function(root) {\n",
       "      if (root.Bokeh !== undefined && root.Bokeh.Panel !== undefined) {\n",
       "        clearInterval(timer);\n",
       "        embed_document(root);\n",
       "      } else if (document.readyState == \"complete\") {\n",
       "        attempts++;\n",
       "        if (attempts > 200) {\n",
       "          clearInterval(timer);\n",
       "          console.log(\"Bokeh: ERROR: Unable to run BokehJS code because BokehJS library is missing\");\n",
       "        }\n",
       "      }\n",
       "    }, 25, root)\n",
       "  }\n",
       "})(window);</script>"
      ],
      "text/plain": [
       ":Curve   [k]   (inertia)"
      ]
     },
     "execution_count": 139,
     "metadata": {
      "application/vnd.holoviews_exec.v0+json": {
       "id": "1636"
      }
     },
     "output_type": "execute_result"
    }
   ],
   "source": [
    "# Create an elbow curve to find the best value for K.\n",
    "inertia = []\n",
    "k = list(range(1,11))\n",
    "for i in k:\n",
    "    km = KMeans(n_clusters=i, random_state=0)\n",
    "    km.fit(pcs_df)\n",
    "    inertia.append(km.inertia_)\n",
    "elbow_data = {\"k\": k, \"inertia\": inertia}\n",
    "df_elbow = pd.DataFrame(elbow_data)\n",
    "df_elbow.hvplot.line(x=\"k\", y=\"inertia\", title=\"Elbow Curve\", xticks=k)\n"
   ]
  },
  {
   "cell_type": "markdown",
   "metadata": {},
   "source": [
    "Running K-Means with `k=4`"
   ]
  },
  {
   "cell_type": "code",
   "execution_count": 140,
   "metadata": {},
   "outputs": [
    {
     "name": "stdout",
     "output_type": "stream",
     "text": [
      "[0 0 0 0 0 0 0 0 0 0 0 0 0 0 0 0 0 0 0 0 0 0 0 0 0 0 0 0 0 0 0 0 0 0 0 0 0\n",
      " 0 0 0 0 0 0 0 0 0 0 0 0 0 0 0 0 0 0 0 0 0 0 0 0 0 0 0 0 0 0 0 0 0 0 0 0 0\n",
      " 0 0 0 0 0 0 0 0 0 0 0 0 0 0 0 0 0 0 0 0 0 0 0 0 0 0 0 0 0 0 0 0 0 0 0 0 0\n",
      " 0 0 0 0 0 0 0 0 0 0 0 0 0 0 0 0 0 0 0 0 0 0 0 0 0 0 0 0 0 0 0 0 0 0 0 0 0\n",
      " 0 0 0 0 0 0 0 0 0 0 0 0 0 0 0 0 0 0 0 0 0 0 0 0 0 0 0 0 0 0 0 0 0 0 0 0 0\n",
      " 0 0 0 0 0 0 0 0 0 0 0 0 0 0 0 0 0 0 0 0 0 0 0 0 0 0 0 0 0 0 0 0 0 0 0 0 0\n",
      " 0 0 0 0 0 0 0 0 0 0 0 0 0 0 0 0 0 0 0 0 0 0 0 0 0 0 0 0 0 0 0 0 0 0 0 0 0\n",
      " 0 0 0 0 0 0 0 0 0 0 0 0 0 0 0 0 0 0 0 0 0 0 0 0 0 0 0 0 0 0 0 0 0 0 0 0 0\n",
      " 0 0 0 0 0 0 3 0 0 0 0 0 0 0 0 0 0 0 0 0 0 0 0 0 0 0 0 0 0 0 0 0 0 0 0 0 0\n",
      " 0 0 0 0 0 0 0 0 0 0 0 0 0 0 0 0 0 0 0 0 0 0 0 0 0 0 0 0 0 0 0 0 0 0 0 0 0\n",
      " 0 0 0 0 0 0 0 0 0 2 0 0 0 0 3 0 0 0 0 0 0 0 0 0 0 0 0 0 0 0 0 0 0 0 0 0 0\n",
      " 0 0 0 0 0 0 0 0 0 0 0 0 0 0 0 0 0 0 0 0 0 0 0 0 0 0 0 0 0 0 0 0 0 0 0 0 0\n",
      " 0 0 0 0 0 0 0 0 0 0 0 0 0 0 0 0 0 0 0 0 0 0 0 0 0 0 0 0 0 0 0 0 0 0 0 0 0\n",
      " 0 0 0 0 0 0 0 0 0 0 0 0 0 0 0 0 0 0 0 0 0 0 0 0 0 0 0 0 0 0 0 0 0 0 0 0 0\n",
      " 0 0 0 0 0 0 0 1 0 0 0 0 0 0]\n"
     ]
    }
   ],
   "source": [
    "# Initialize the K-Means model.\n",
    "model = KMeans(n_clusters=4, random_state=0)\n",
    "\n",
    "# Fit the model\n",
    "model.fit(pcs_df)\n",
    "\n",
    "# Predict clusters\n",
    "predictions= model.predict(pcs_df)\n",
    "print(predictions)"
   ]
  },
  {
   "cell_type": "code",
   "execution_count": 141,
   "metadata": {},
   "outputs": [
    {
     "name": "stdout",
     "output_type": "stream",
     "text": [
      "(532, 9)\n"
     ]
    },
    {
     "data": {
      "text/html": [
       "<div>\n",
       "<style scoped>\n",
       "    .dataframe tbody tr th:only-of-type {\n",
       "        vertical-align: middle;\n",
       "    }\n",
       "\n",
       "    .dataframe tbody tr th {\n",
       "        vertical-align: top;\n",
       "    }\n",
       "\n",
       "    .dataframe thead th {\n",
       "        text-align: right;\n",
       "    }\n",
       "</style>\n",
       "<table border=\"1\" class=\"dataframe\">\n",
       "  <thead>\n",
       "    <tr style=\"text-align: right;\">\n",
       "      <th></th>\n",
       "      <th>Algorithm</th>\n",
       "      <th>ProofType</th>\n",
       "      <th>TotalCoinsMined</th>\n",
       "      <th>TotalCoinSupply</th>\n",
       "      <th>PC1</th>\n",
       "      <th>PC2</th>\n",
       "      <th>PC3</th>\n",
       "      <th>CoinName</th>\n",
       "      <th>Class</th>\n",
       "    </tr>\n",
       "  </thead>\n",
       "  <tbody>\n",
       "    <tr>\n",
       "      <th>0</th>\n",
       "      <td>Scrypt</td>\n",
       "      <td>PoW/PoS</td>\n",
       "      <td>4.199995e+01</td>\n",
       "      <td>42</td>\n",
       "      <td>-0.261973</td>\n",
       "      <td>0.085337</td>\n",
       "      <td>0.004343</td>\n",
       "      <td>42 Coin</td>\n",
       "      <td>0</td>\n",
       "    </tr>\n",
       "    <tr>\n",
       "      <th>2</th>\n",
       "      <td>Scrypt</td>\n",
       "      <td>PoW/PoS</td>\n",
       "      <td>1.055185e+09</td>\n",
       "      <td>532000000</td>\n",
       "      <td>-0.193341</td>\n",
       "      <td>0.008556</td>\n",
       "      <td>0.012280</td>\n",
       "      <td>404Coin</td>\n",
       "      <td>0</td>\n",
       "    </tr>\n",
       "    <tr>\n",
       "      <th>5</th>\n",
       "      <td>X13</td>\n",
       "      <td>PoW/PoS</td>\n",
       "      <td>2.927942e+10</td>\n",
       "      <td>314159265359</td>\n",
       "      <td>0.471321</td>\n",
       "      <td>0.280366</td>\n",
       "      <td>0.397616</td>\n",
       "      <td>EliteCoin</td>\n",
       "      <td>0</td>\n",
       "    </tr>\n",
       "    <tr>\n",
       "      <th>7</th>\n",
       "      <td>SHA-256</td>\n",
       "      <td>PoW</td>\n",
       "      <td>1.792718e+07</td>\n",
       "      <td>21000000</td>\n",
       "      <td>-0.243734</td>\n",
       "      <td>-0.234122</td>\n",
       "      <td>0.030140</td>\n",
       "      <td>Bitcoin</td>\n",
       "      <td>0</td>\n",
       "    </tr>\n",
       "    <tr>\n",
       "      <th>8</th>\n",
       "      <td>Ethash</td>\n",
       "      <td>PoW</td>\n",
       "      <td>1.076842e+08</td>\n",
       "      <td>0</td>\n",
       "      <td>-0.037287</td>\n",
       "      <td>-0.109876</td>\n",
       "      <td>-0.389453</td>\n",
       "      <td>Ethereum</td>\n",
       "      <td>0</td>\n",
       "    </tr>\n",
       "    <tr>\n",
       "      <th>9</th>\n",
       "      <td>Scrypt</td>\n",
       "      <td>PoW</td>\n",
       "      <td>6.303924e+07</td>\n",
       "      <td>84000000</td>\n",
       "      <td>-0.246876</td>\n",
       "      <td>-0.192788</td>\n",
       "      <td>-0.151550</td>\n",
       "      <td>Litecoin</td>\n",
       "      <td>0</td>\n",
       "    </tr>\n",
       "    <tr>\n",
       "      <th>10</th>\n",
       "      <td>X11</td>\n",
       "      <td>PoW/PoS</td>\n",
       "      <td>9.031294e+06</td>\n",
       "      <td>22000000</td>\n",
       "      <td>-0.293042</td>\n",
       "      <td>-0.126505</td>\n",
       "      <td>0.117259</td>\n",
       "      <td>Dash</td>\n",
       "      <td>0</td>\n",
       "    </tr>\n",
       "    <tr>\n",
       "      <th>11</th>\n",
       "      <td>CryptoNight-V7</td>\n",
       "      <td>PoW</td>\n",
       "      <td>1.720114e+07</td>\n",
       "      <td>0</td>\n",
       "      <td>0.052480</td>\n",
       "      <td>-0.164244</td>\n",
       "      <td>-0.285034</td>\n",
       "      <td>Monero</td>\n",
       "      <td>0</td>\n",
       "    </tr>\n",
       "    <tr>\n",
       "      <th>12</th>\n",
       "      <td>Ethash</td>\n",
       "      <td>PoW</td>\n",
       "      <td>1.133597e+08</td>\n",
       "      <td>210000000</td>\n",
       "      <td>-0.187832</td>\n",
       "      <td>-0.091033</td>\n",
       "      <td>-0.468058</td>\n",
       "      <td>Ethereum Classic</td>\n",
       "      <td>0</td>\n",
       "    </tr>\n",
       "    <tr>\n",
       "      <th>13</th>\n",
       "      <td>Equihash</td>\n",
       "      <td>PoW</td>\n",
       "      <td>7.383056e+06</td>\n",
       "      <td>21000000</td>\n",
       "      <td>-0.387785</td>\n",
       "      <td>-0.380495</td>\n",
       "      <td>0.013787</td>\n",
       "      <td>ZCash</td>\n",
       "      <td>0</td>\n",
       "    </tr>\n",
       "  </tbody>\n",
       "</table>\n",
       "</div>"
      ],
      "text/plain": [
       "         Algorithm ProofType  TotalCoinsMined TotalCoinSupply       PC1  \\\n",
       "0           Scrypt   PoW/PoS     4.199995e+01              42 -0.261973   \n",
       "2           Scrypt   PoW/PoS     1.055185e+09       532000000 -0.193341   \n",
       "5              X13   PoW/PoS     2.927942e+10    314159265359  0.471321   \n",
       "7          SHA-256       PoW     1.792718e+07        21000000 -0.243734   \n",
       "8           Ethash       PoW     1.076842e+08               0 -0.037287   \n",
       "9           Scrypt       PoW     6.303924e+07        84000000 -0.246876   \n",
       "10             X11   PoW/PoS     9.031294e+06        22000000 -0.293042   \n",
       "11  CryptoNight-V7       PoW     1.720114e+07               0  0.052480   \n",
       "12          Ethash       PoW     1.133597e+08       210000000 -0.187832   \n",
       "13        Equihash       PoW     7.383056e+06        21000000 -0.387785   \n",
       "\n",
       "         PC2       PC3          CoinName  Class  \n",
       "0   0.085337  0.004343           42 Coin      0  \n",
       "2   0.008556  0.012280           404Coin      0  \n",
       "5   0.280366  0.397616         EliteCoin      0  \n",
       "7  -0.234122  0.030140           Bitcoin      0  \n",
       "8  -0.109876 -0.389453          Ethereum      0  \n",
       "9  -0.192788 -0.151550          Litecoin      0  \n",
       "10 -0.126505  0.117259              Dash      0  \n",
       "11 -0.164244 -0.285034            Monero      0  \n",
       "12 -0.091033 -0.468058  Ethereum Classic      0  \n",
       "13 -0.380495  0.013787             ZCash      0  "
      ]
     },
     "execution_count": 141,
     "metadata": {},
     "output_type": "execute_result"
    }
   ],
   "source": [
    "# Create a new DataFrame including predicted clusters and cryptocurrencies features.\n",
    "# Concatentate the crypto_df and pcs_df DataFrames on the same columns.\n",
    "clustered_df = pd.DataFrame(crypto_df, columns=['Algorithm', 'ProofType', 'TotalCoinsMined', 'TotalCoinSupply'])\n",
    "clustered_df['PC1'] = pcs_df['PC1'].values\n",
    "clustered_df['PC2'] = pcs_df['PC2'].values\n",
    "clustered_df['PC3'] = pcs_df['PC3'].values\n",
    "\n",
    "\n",
    "\n",
    "#  Add a new column, \"CoinName\" to the clustered_df DataFrame that holds the names of the cryptocurrencies. \n",
    "clustered_df['CoinName'] = new_crypto_df['CoinName'].values\n",
    "\n",
    "#  Add a new column, \"Class\" to the clustered_df DataFrame that holds the predictions.\n",
    "clustered_df[\"Class\"] = model.labels_\n",
    "\n",
    "# Print the shape of the clustered_df\n",
    "print(clustered_df.shape)\n",
    "clustered_df.head(10)"
   ]
  },
  {
   "cell_type": "markdown",
   "metadata": {},
   "source": [
    "### Deliverable 4: Visualizing Cryptocurrencies Results\n",
    "\n",
    "#### 3D-Scatter with Clusters"
   ]
  },
  {
   "cell_type": "code",
   "execution_count": 142,
   "metadata": {},
   "outputs": [
    {
     "data": {
      "application/vnd.plotly.v1+json": {
       "config": {
        "plotlyServerURL": "https://plot.ly"
       },
       "data": [
        {
         "customdata": [
          [
           "Scrypt"
          ],
          [
           "Scrypt"
          ],
          [
           "X13"
          ],
          [
           "SHA-256"
          ],
          [
           "Ethash"
          ],
          [
           "Scrypt"
          ],
          [
           "X11"
          ],
          [
           "CryptoNight-V7"
          ],
          [
           "Ethash"
          ],
          [
           "Equihash"
          ],
          [
           "SHA-512"
          ],
          [
           "Multiple"
          ],
          [
           "SHA-256"
          ],
          [
           "SHA-256"
          ],
          [
           "Scrypt"
          ],
          [
           "X15"
          ],
          [
           "X11"
          ],
          [
           "Scrypt"
          ],
          [
           "Scrypt"
          ],
          [
           "Scrypt"
          ],
          [
           "Multiple"
          ],
          [
           "Scrypt"
          ],
          [
           "SHA-256"
          ],
          [
           "Scrypt"
          ],
          [
           "Scrypt"
          ],
          [
           "Scrypt"
          ],
          [
           "Quark"
          ],
          [
           "Groestl"
          ],
          [
           "Scrypt"
          ],
          [
           "Scrypt"
          ],
          [
           "Scrypt"
          ],
          [
           "Scrypt"
          ],
          [
           "Scrypt"
          ],
          [
           "X11"
          ],
          [
           "Scrypt"
          ],
          [
           "Groestl"
          ],
          [
           "Multiple"
          ],
          [
           "SHA-256"
          ],
          [
           "Scrypt"
          ],
          [
           "Scrypt"
          ],
          [
           "Scrypt"
          ],
          [
           "Scrypt"
          ],
          [
           "PoS"
          ],
          [
           "Scrypt"
          ],
          [
           "Scrypt"
          ],
          [
           "NeoScrypt"
          ],
          [
           "Scrypt"
          ],
          [
           "Scrypt"
          ],
          [
           "Scrypt"
          ],
          [
           "Scrypt"
          ],
          [
           "X11"
          ],
          [
           "Scrypt"
          ],
          [
           "X11"
          ],
          [
           "SHA-256"
          ],
          [
           "Scrypt"
          ],
          [
           "Scrypt"
          ],
          [
           "Scrypt"
          ],
          [
           "SHA3"
          ],
          [
           "Scrypt"
          ],
          [
           "HybridScryptHash256"
          ],
          [
           "Scrypt"
          ],
          [
           "Scrypt"
          ],
          [
           "SHA-256"
          ],
          [
           "Scrypt"
          ],
          [
           "X13"
          ],
          [
           "Scrypt"
          ],
          [
           "SHA-256"
          ],
          [
           "Scrypt"
          ],
          [
           "X13"
          ],
          [
           "NeoScrypt"
          ],
          [
           "Scrypt"
          ],
          [
           "Scrypt"
          ],
          [
           "Scrypt"
          ],
          [
           "Scrypt"
          ],
          [
           "Scrypt"
          ],
          [
           "Scrypt"
          ],
          [
           "X11"
          ],
          [
           "X11"
          ],
          [
           "SHA-256"
          ],
          [
           "Multiple"
          ],
          [
           "SHA-256"
          ],
          [
           "PHI1612"
          ],
          [
           "X11"
          ],
          [
           "SHA-256"
          ],
          [
           "SHA-256"
          ],
          [
           "SHA-256"
          ],
          [
           "X11"
          ],
          [
           "Scrypt"
          ],
          [
           "Scrypt"
          ],
          [
           "Scrypt"
          ],
          [
           "Scrypt"
          ],
          [
           "Lyra2REv2"
          ],
          [
           "Scrypt"
          ],
          [
           "X11"
          ],
          [
           "Multiple"
          ],
          [
           "SHA-256"
          ],
          [
           "X13"
          ],
          [
           "Scrypt"
          ],
          [
           "CryptoNight"
          ],
          [
           "CryptoNight"
          ],
          [
           "Shabal256"
          ],
          [
           "Counterparty"
          ],
          [
           "Scrypt"
          ],
          [
           "SHA-256"
          ],
          [
           "Groestl"
          ],
          [
           "Scrypt"
          ],
          [
           "Scrypt"
          ],
          [
           "Scrypt"
          ],
          [
           "X13"
          ],
          [
           "Scrypt"
          ],
          [
           "Scrypt"
          ],
          [
           "Scrypt"
          ],
          [
           "Scrypt"
          ],
          [
           "X13"
          ],
          [
           "Scrypt"
          ],
          [
           "Stanford Folding"
          ],
          [
           "X11"
          ],
          [
           "Multiple"
          ],
          [
           "QuBit"
          ],
          [
           "Scrypt"
          ],
          [
           "Scrypt"
          ],
          [
           "Scrypt"
          ],
          [
           "M7 POW"
          ],
          [
           "Scrypt"
          ],
          [
           "SHA-256"
          ],
          [
           "Scrypt"
          ],
          [
           "X11"
          ],
          [
           "SHA3"
          ],
          [
           "X11"
          ],
          [
           "Lyra2RE"
          ],
          [
           "SHA-256"
          ],
          [
           "QUAIT"
          ],
          [
           "X11"
          ],
          [
           "X11"
          ],
          [
           "Scrypt"
          ],
          [
           "Scrypt"
          ],
          [
           "Scrypt"
          ],
          [
           "Ethash"
          ],
          [
           "X13"
          ],
          [
           "Blake2b"
          ],
          [
           "SHA-256"
          ],
          [
           "X15"
          ],
          [
           "X11"
          ],
          [
           "SHA-256"
          ],
          [
           "BLAKE256"
          ],
          [
           "Scrypt"
          ],
          [
           "1GB AES Pattern Search"
          ],
          [
           "SHA-256"
          ],
          [
           "X11"
          ],
          [
           "Scrypt"
          ],
          [
           "SHA-256"
          ],
          [
           "SHA-256"
          ],
          [
           "NIST5"
          ],
          [
           "Scrypt"
          ],
          [
           "Scrypt"
          ],
          [
           "X11"
          ],
          [
           "Dagger"
          ],
          [
           "Scrypt"
          ],
          [
           "X11GOST"
          ],
          [
           "X11"
          ],
          [
           "Scrypt"
          ],
          [
           "SHA-256"
          ],
          [
           "Scrypt"
          ],
          [
           "PoS"
          ],
          [
           "Scrypt"
          ],
          [
           "X11"
          ],
          [
           "X11"
          ],
          [
           "SHA-256"
          ],
          [
           "SHA-256"
          ],
          [
           "NIST5"
          ],
          [
           "X11"
          ],
          [
           "Scrypt"
          ],
          [
           "POS 3.0"
          ],
          [
           "Scrypt"
          ],
          [
           "Scrypt"
          ],
          [
           "Scrypt"
          ],
          [
           "X13"
          ],
          [
           "X11"
          ],
          [
           "X11"
          ],
          [
           "Equihash"
          ],
          [
           "X11"
          ],
          [
           "Scrypt"
          ],
          [
           "CryptoNight"
          ],
          [
           "SHA-256"
          ],
          [
           "SHA-256"
          ],
          [
           "X11"
          ],
          [
           "Scrypt"
          ],
          [
           "Multiple"
          ],
          [
           "Scrypt"
          ],
          [
           "Scrypt"
          ],
          [
           "Scrypt"
          ],
          [
           "SHA-256"
          ],
          [
           "Scrypt"
          ],
          [
           "Scrypt"
          ],
          [
           "SHA-256D"
          ],
          [
           "PoS"
          ],
          [
           "Scrypt"
          ],
          [
           "X11"
          ],
          [
           "Lyra2Z"
          ],
          [
           "PoS"
          ],
          [
           "X13"
          ],
          [
           "X14"
          ],
          [
           "PoS"
          ],
          [
           "SHA-256D"
          ],
          [
           "Ethash"
          ],
          [
           "Equihash"
          ],
          [
           "DPoS"
          ],
          [
           "X11"
          ],
          [
           "Scrypt"
          ],
          [
           "X11"
          ],
          [
           "X13"
          ],
          [
           "X11"
          ],
          [
           "PoS"
          ],
          [
           "Scrypt"
          ],
          [
           "Scrypt"
          ],
          [
           "X11"
          ],
          [
           "PoS"
          ],
          [
           "X11"
          ],
          [
           "SHA-256"
          ],
          [
           "Scrypt"
          ],
          [
           "X11"
          ],
          [
           "Scrypt"
          ],
          [
           "Scrypt"
          ],
          [
           "X11"
          ],
          [
           "CryptoNight"
          ],
          [
           "Scrypt"
          ],
          [
           "Scrypt"
          ],
          [
           "Scrypt"
          ],
          [
           "Scrypt"
          ],
          [
           "Quark"
          ],
          [
           "QuBit"
          ],
          [
           "Scrypt"
          ],
          [
           "CryptoNight"
          ],
          [
           "Lyra2RE"
          ],
          [
           "Scrypt"
          ],
          [
           "SHA-256"
          ],
          [
           "X11"
          ],
          [
           "Scrypt"
          ],
          [
           "X11"
          ],
          [
           "Scrypt"
          ],
          [
           "CryptoNight-V7"
          ],
          [
           "Scrypt"
          ],
          [
           "Scrypt"
          ],
          [
           "Scrypt"
          ],
          [
           "X13"
          ],
          [
           "X11"
          ],
          [
           "Equihash"
          ],
          [
           "Scrypt"
          ],
          [
           "Scrypt"
          ],
          [
           "Lyra2RE"
          ],
          [
           "Scrypt"
          ],
          [
           "Dagger-Hashimoto"
          ],
          [
           "X11"
          ],
          [
           "Blake2S"
          ],
          [
           "X11"
          ],
          [
           "Scrypt"
          ],
          [
           "PoS"
          ],
          [
           "X11"
          ],
          [
           "NIST5"
          ],
          [
           "PoS"
          ],
          [
           "X11"
          ],
          [
           "Scrypt"
          ],
          [
           "Scrypt"
          ],
          [
           "Scrypt"
          ],
          [
           "SHA-256"
          ],
          [
           "X11"
          ],
          [
           "Scrypt"
          ],
          [
           "Scrypt"
          ],
          [
           "SHA-256"
          ],
          [
           "PoS"
          ],
          [
           "Scrypt"
          ],
          [
           "X15"
          ],
          [
           "SHA-256"
          ],
          [
           "Scrypt"
          ],
          [
           "POS 3.0"
          ],
          [
           "CryptoNight-V7"
          ],
          [
           "536"
          ],
          [
           "Argon2d"
          ],
          [
           "Blake2b"
          ],
          [
           "Cloverhash"
          ],
          [
           "CryptoNight"
          ],
          [
           "NIST5"
          ],
          [
           "X11"
          ],
          [
           "NIST5"
          ],
          [
           "Skein"
          ],
          [
           "Scrypt"
          ],
          [
           "X13"
          ],
          [
           "Scrypt"
          ],
          [
           "X11"
          ],
          [
           "X11"
          ],
          [
           "Scrypt"
          ],
          [
           "CryptoNight"
          ],
          [
           "X13"
          ],
          [
           "Time Travel"
          ],
          [
           "Scrypt"
          ],
          [
           "Keccak"
          ],
          [
           "SkunkHash v2 Raptor"
          ],
          [
           "X11"
          ],
          [
           "Skein"
          ],
          [
           "SHA-256"
          ],
          [
           "X11"
          ],
          [
           "Scrypt"
          ],
          [
           "Scrypt"
          ],
          [
           "PoS"
          ],
          [
           "Scrypt"
          ],
          [
           "Scrypt"
          ],
          [
           "Scrypt"
          ],
          [
           "Scrypt"
          ],
          [
           "Scrypt"
          ],
          [
           "Scrypt"
          ],
          [
           "Scrypt"
          ],
          [
           "CryptoNight"
          ],
          [
           "SHA-512"
          ],
          [
           "Ouroboros"
          ],
          [
           "X11"
          ],
          [
           "Equihash"
          ],
          [
           "NeoScrypt"
          ],
          [
           "X11"
          ],
          [
           "Scrypt"
          ],
          [
           "NeoScrypt"
          ],
          [
           "Lyra2REv2"
          ],
          [
           "Equihash"
          ],
          [
           "Scrypt"
          ],
          [
           "SHA-256"
          ],
          [
           "NIST5"
          ],
          [
           "PHI1612"
          ],
          [
           "Dagger"
          ],
          [
           "Scrypt"
          ],
          [
           "Quark"
          ],
          [
           "Scrypt"
          ],
          [
           "POS 2.0"
          ],
          [
           "Scrypt"
          ],
          [
           "SHA-256"
          ],
          [
           "X11"
          ],
          [
           "NeoScrypt"
          ],
          [
           "Ethash"
          ],
          [
           "NeoScrypt"
          ],
          [
           "X11"
          ],
          [
           "DPoS"
          ],
          [
           "NIST5"
          ],
          [
           "X13"
          ],
          [
           "Multiple"
          ],
          [
           "Scrypt"
          ],
          [
           "CryptoNight"
          ],
          [
           "CryptoNight"
          ],
          [
           "Ethash"
          ],
          [
           "NIST5"
          ],
          [
           "Quark"
          ],
          [
           "X11"
          ],
          [
           "CryptoNight-V7"
          ],
          [
           "Scrypt"
          ],
          [
           "Scrypt"
          ],
          [
           "Scrypt"
          ],
          [
           "X11"
          ],
          [
           "BLAKE256"
          ],
          [
           "X11"
          ],
          [
           "NeoScrypt"
          ],
          [
           "Quark"
          ],
          [
           "NeoScrypt"
          ],
          [
           "Scrypt"
          ],
          [
           "Scrypt"
          ],
          [
           "Scrypt"
          ],
          [
           "X11"
          ],
          [
           "X11"
          ],
          [
           "SHA-256"
          ],
          [
           "C11"
          ],
          [
           "POS 3.0"
          ],
          [
           "Ethash"
          ],
          [
           "Scrypt"
          ],
          [
           "CryptoNight"
          ],
          [
           "SkunkHash"
          ],
          [
           "Scrypt"
          ],
          [
           "CryptoNight"
          ],
          [
           "Scrypt"
          ],
          [
           "Dagger"
          ],
          [
           "Lyra2REv2"
          ],
          [
           "X13"
          ],
          [
           "Proof-of-BibleHash"
          ],
          [
           "Scrypt"
          ],
          [
           "Scrypt"
          ],
          [
           "X11"
          ],
          [
           "C11"
          ],
          [
           "X11"
          ],
          [
           "XEVAN"
          ],
          [
           "Scrypt"
          ],
          [
           "VBFT"
          ],
          [
           "Ethash"
          ],
          [
           "CryptoNight"
          ],
          [
           "Scrypt"
          ],
          [
           "IMesh"
          ],
          [
           "NIST5"
          ],
          [
           "Scrypt"
          ],
          [
           "Scrypt"
          ],
          [
           "Equihash"
          ],
          [
           "Scrypt"
          ],
          [
           "Lyra2Z"
          ],
          [
           "Green Protocol"
          ],
          [
           "PoS"
          ],
          [
           "Scrypt"
          ],
          [
           "Semux BFT consensus"
          ],
          [
           "X11"
          ],
          [
           "Quark"
          ],
          [
           "PoS"
          ],
          [
           "CryptoNight"
          ],
          [
           "X16R"
          ],
          [
           "Scrypt"
          ],
          [
           "NIST5"
          ],
          [
           "Lyra2RE"
          ],
          [
           "XEVAN"
          ],
          [
           "Tribus"
          ],
          [
           "Scrypt"
          ],
          [
           "Lyra2Z"
          ],
          [
           "CryptoNight"
          ],
          [
           "CryptoNight Heavy"
          ],
          [
           "CryptoNight"
          ],
          [
           "Scrypt"
          ],
          [
           "Scrypt"
          ],
          [
           "Jump Consistent Hash"
          ],
          [
           "SHA-256D"
          ],
          [
           "CryptoNight"
          ],
          [
           "Scrypt"
          ],
          [
           "X15"
          ],
          [
           "Scrypt"
          ],
          [
           "Quark"
          ],
          [
           "SHA-256"
          ],
          [
           "DPoS"
          ],
          [
           "X16R"
          ],
          [
           "HMQ1725"
          ],
          [
           "X11"
          ],
          [
           "X16R"
          ],
          [
           "Quark"
          ],
          [
           "Quark"
          ],
          [
           "Scrypt"
          ],
          [
           "Lyra2REv2"
          ],
          [
           "Quark"
          ],
          [
           "Scrypt"
          ],
          [
           "Scrypt"
          ],
          [
           "CryptoNight-V7"
          ],
          [
           "Cryptonight-GPU"
          ],
          [
           "XEVAN"
          ],
          [
           "CryptoNight Heavy"
          ],
          [
           "X11"
          ],
          [
           "X11"
          ],
          [
           "Scrypt"
          ],
          [
           "PoS"
          ],
          [
           "SHA-256"
          ],
          [
           "Keccak"
          ],
          [
           "X11"
          ],
          [
           "X11"
          ],
          [
           "Scrypt"
          ],
          [
           "SHA-512"
          ],
          [
           "X16R"
          ],
          [
           "ECC 256K1"
          ],
          [
           "Equihash"
          ],
          [
           "XEVAN"
          ],
          [
           "Lyra2Z"
          ],
          [
           "SHA-256"
          ],
          [
           "XEVAN"
          ],
          [
           "X11"
          ],
          [
           "CryptoNight"
          ],
          [
           "Quark"
          ],
          [
           "Blake"
          ],
          [
           "Blake"
          ],
          [
           "Equihash"
          ],
          [
           "Exosis"
          ],
          [
           "Scrypt"
          ],
          [
           "Scrypt"
          ],
          [
           "Equihash"
          ],
          [
           "Quark"
          ],
          [
           "Equihash"
          ],
          [
           "Quark"
          ],
          [
           "Scrypt"
          ],
          [
           "QuBit"
          ],
          [
           "X11"
          ],
          [
           "Scrypt"
          ],
          [
           "XEVAN"
          ],
          [
           "SHA-256D"
          ],
          [
           "X11"
          ],
          [
           "SHA-256"
          ],
          [
           "X13"
          ],
          [
           "SHA-256"
          ],
          [
           "X11"
          ],
          [
           "DPoS"
          ],
          [
           "Scrypt"
          ],
          [
           "Scrypt"
          ],
          [
           "X11"
          ],
          [
           "NeoScrypt"
          ],
          [
           "Scrypt"
          ],
          [
           "Blake"
          ],
          [
           "Scrypt"
          ],
          [
           "SHA-256"
          ],
          [
           "Scrypt"
          ],
          [
           "X11"
          ],
          [
           "Scrypt"
          ],
          [
           "Scrypt"
          ],
          [
           "SHA-256"
          ],
          [
           "X11"
          ],
          [
           "SHA-256"
          ],
          [
           "Scrypt"
          ],
          [
           "Scrypt"
          ],
          [
           "Scrypt"
          ],
          [
           "Groestl"
          ],
          [
           "X11"
          ],
          [
           "Scrypt"
          ],
          [
           "PoS"
          ],
          [
           "Scrypt"
          ],
          [
           "Scrypt"
          ],
          [
           "X11"
          ],
          [
           "SHA-256"
          ],
          [
           "DPoS"
          ],
          [
           "Scrypt"
          ],
          [
           "Scrypt"
          ],
          [
           "NeoScrypt"
          ],
          [
           "Multiple"
          ],
          [
           "X13"
          ],
          [
           "Equihash+Scrypt"
          ],
          [
           "DPoS"
          ],
          [
           "Ethash"
          ],
          [
           "DPoS"
          ],
          [
           "SHA-256"
          ],
          [
           "Leased POS"
          ],
          [
           "PoS"
          ],
          [
           "PoS"
          ],
          [
           "SHA-256"
          ],
          [
           "Scrypt"
          ],
          [
           "CryptoNight"
          ],
          [
           "Equihash"
          ],
          [
           "Scrypt"
          ]
         ],
         "hovertemplate": "<b>%{hovertext}</b><br><br>Class=%{marker.color}<br>PC1=%{x}<br>PC2=%{y}<br>PC3=%{z}<br>Algorithm=%{customdata[0]}<extra></extra>",
         "hovertext": [
          "42 Coin",
          "404Coin",
          "EliteCoin",
          "Bitcoin",
          "Ethereum",
          "Litecoin",
          "Dash",
          "Monero",
          "Ethereum Classic",
          "ZCash",
          "Bitshares",
          "DigiByte",
          "BitcoinDark",
          "PayCoin",
          "ProsperCoin",
          "KoboCoin",
          "Spreadcoin",
          "Argentum",
          "Aurora Coin",
          "BlueCoin",
          "MyriadCoin",
          "MoonCoin",
          "ZetaCoin",
          "SexCoin",
          "Quatloo",
          "EnergyCoin",
          "QuarkCoin",
          "Riecoin",
          "Digitalcoin ",
          "BitBar",
          "Catcoin",
          "CryptoBullion",
          "CannaCoin",
          "CryptCoin",
          "CasinoCoin",
          "Diamond",
          "Verge",
          "DevCoin",
          "EarthCoin",
          "E-Gulden",
          "Einsteinium",
          "Emerald",
          "Exclusive Coin",
          "FlutterCoin",
          "Franko",
          "FeatherCoin",
          "GrandCoin",
          "GlobalCoin",
          "GoldCoin",
          "HoboNickels",
          "HyperStake",
          "Infinite Coin",
          "IOCoin",
          "IXcoin",
          "KrugerCoin",
          "LuckyCoin",
          "Litebar ",
          "MaxCoin",
          "MegaCoin",
          "MediterraneanCoin",
          "MintCoin",
          "MinCoin",
          "MazaCoin",
          "Nautilus Coin",
          "NavCoin",
          "NobleCoin",
          "Namecoin",
          "NyanCoin",
          "OpalCoin",
          "Orbitcoin",
          "PotCoin",
          "PhoenixCoin",
          "Reddcoin",
          "RonPaulCoin",
          "StableCoin",
          "SmartCoin",
          "SuperCoin",
          "SyncCoin",
          "SysCoin",
          "TeslaCoin",
          "TigerCoin",
          "TittieCoin",
          "TorCoin",
          "TerraCoin",
          "UnbreakableCoin",
          "Unobtanium",
          "UroCoin",
          "UnitaryStatus Dollar",
          "UltraCoin",
          "ViaCoin",
          "VeriCoin",
          "Vertcoin",
          "WorldCoin",
          "X11 Coin",
          "Crypti",
          "JouleCoin",
          "StealthCoin",
          "ZCC Coin",
          "ByteCoin",
          "DigitalNote ",
          "BurstCoin",
          "StorjCoin",
          "MonaCoin",
          "Neutron",
          "FairCoin",
          "Gulden",
          "RubyCoin",
          "PesetaCoin",
          "Kore",
          "Wild Beast Coin",
          "Dnotes",
          "Flo",
          "8BIT Coin",
          "Sativa Coin",
          "ArtByte",
          "Folding Coin",
          "Ucoin",
          "Unitus",
          "CypherPunkCoin",
          "OmniCron",
          "Vtorrent",
          "GreenCoin",
          "Cryptonite",
          "MasterCoin",
          "SoonCoin",
          "1Credit",
          "IslaCoin",
          "Nexus",
          "MarsCoin ",
          "Crypto",
          "Anarchists Prime",
          "Droidz",
          "BowsCoin",
          "Squall Coin",
          "Song Coin",
          "BitZeny",
          "Diggits",
          "Expanse",
          "Paycon",
          "Siacoin",
          "Emercoin",
          "EverGreenCoin",
          "MindCoin",
          "I0coin",
          "Decred",
          "Revolution VR",
          "HOdlcoin",
          "EDRCoin",
          "Hitcoin",
          "Gamecredits",
          "DubaiCoin",
          "CarpeDiemCoin",
          "PWR Coin",
          "BillaryCoin",
          "GPU Coin",
          "Adzcoin",
          "SoilCoin",
          "YoCoin",
          "SibCoin",
          "EuropeCoin",
          "ZeitCoin",
          "SwingCoin",
          "SafeExchangeCoin",
          "Nebuchadnezzar",
          "Francs",
          "BolivarCoin",
          "Ratecoin",
          "Revenu",
          "Clockcoin",
          "VIP Tokens",
          "BitSend",
          "Omni",
          "Let it Ride",
          "PutinCoin",
          "iBankCoin",
          "Frankywillcoin",
          "MudraCoin",
          "PizzaCoin",
          "Lutetium Coin",
          "Komodo",
          "GoldBlocks",
          "CarterCoin",
          "Karbo",
          "BitTokens",
          "ZayedCoin",
          "MustangCoin",
          "ZoneCoin",
          "Circuits of Value",
          "RootCoin",
          "DopeCoin",
          "BitCurrency",
          "DollarCoin",
          "Swiscoin",
          "Shilling",
          "BuzzCoin",
          "Opair",
          "PesoBit",
          "Halloween Coin",
          "ZCoin",
          "CoffeeCoin",
          "RoyalCoin",
          "GanjaCoin V2",
          "TeamUP",
          "LanaCoin",
          "Elementrem",
          "ZClassic",
          "ARK",
          "InsaneCoin",
          "KiloCoin",
          "ArtexCoin",
          "EmberCoin",
          "XenixCoin",
          "FreeCoin",
          "PLNCoin",
          "AquariusCoin",
          "Kurrent",
          "Creatio",
          "Eternity",
          "Eurocoin",
          "BitcoinFast",
          "Stakenet",
          "BitConnect Coin",
          "MoneyCoin",
          "Enigma",
          "Cannabis Industry Coin",
          "Russiacoin",
          "PandaCoin",
          "GameUnits",
          "GAKHcoin",
          "Allsafe",
          "LiteCreed",
          "OsmiumCoin",
          "Bikercoins",
          "HexxCoin",
          "Klingon Empire Darsek",
          "Internet of People",
          "KushCoin",
          "Printerium",
          "PacCoin",
          "Impeach",
          "Citadel",
          "Zilbercoin",
          "FirstCoin",
          "BeaverCoin",
          "FindCoin",
          "VaultCoin",
          "Zero",
          "OpenChat",
          "Canada eCoin",
          "Zoin",
          "RenosCoin",
          "DubaiCoin",
          "VirtacoinPlus",
          "TajCoin",
          "Impact",
          "EB3coin",
          "Atmos",
          "HappyCoin",
          "Coinonat",
          "MacronCoin",
          "Condensate",
          "Independent Money System",
          "ArgusCoin",
          "LomoCoin",
          "ProCurrency",
          "GoldReserve",
          "BenjiRolls",
          "GrowthCoin",
          "ILCoin",
          "Phreak",
          "Degas Coin",
          "HTML5 Coin",
          "Ultimate Secure Cash",
          "EquiTrader",
          "QTUM",
          "Quantum Resistant Ledger",
          "Espers",
          "Dynamic",
          "Nano",
          "ChanCoin",
          "Dinastycoin",
          "Denarius",
          "DigitalPrice",
          "Virta Unique Coin",
          "Bitcoin Planet",
          "Unify",
          "BritCoin",
          "SocialCoin",
          "ArcticCoin",
          "DAS",
          "Linda",
          "LeviarCoin",
          "DeepOnion",
          "Bitcore",
          "gCn Coin",
          "SmartCash",
          "Signatum",
          "Onix",
          "Cream",
          "Bitcoin Cash",
          "Monoeci",
          "Draftcoin",
          "Sojourn Coin",
          "Stakecoin",
          "NewYorkCoin",
          "FrazCoin",
          "Kronecoin",
          "AdCoin",
          "Linx",
          "CoinonatX",
          "Ethereum Dark",
          "Sumokoin",
          "Obsidian",
          "Cardano",
          "Regalcoin",
          "BitcoinZ",
          "TrezarCoin",
          "Elements",
          "TerraNovaCoin",
          "VIVO Coin",
          "Rupee",
          "Bitcoin Gold",
          "WomenCoin",
          "Theresa May Coin",
          "NamoCoin",
          "LUXCoin",
          "Pirl",
          "Xios",
          "Bitcloud 2.0",
          "eBoost",
          "KekCoin",
          "BlackholeCoin",
          "Infinity Economics",
          "Pura",
          "Innova",
          "Ellaism",
          "GoByte",
          "Magnet",
          "Lamden Tau",
          "Electra",
          "Bitcoin Diamond",
          "SHIELD",
          "Cash & Back Coin",
          "UltraNote",
          "BitCoal",
          "DaxxCoin",
          "Bulwark",
          "Kalkulus",
          "AC3",
          "Lethean",
          "GermanCoin",
          "LiteCoin Ultra",
          "PopularCoin",
          "PhantomX",
          "Photon",
          "Sucre",
          "SparksPay",
          "Digiwage",
          "GunCoin",
          "IrishCoin",
          "Trollcoin",
          "Litecoin Plus",
          "Monkey Project",
          "Pioneer Coin",
          "UnitedBitcoin",
          "Interzone",
          "TokenPay",
          "1717 Masonic Commemorative Token",
          "My Big Coin",
          "TurtleCoin",
          "MUNcoin",
          "Unified Society USDEX",
          "Niobio Cash",
          "ShareChain",
          "Travelflex",
          "KREDS",
          "Tokyo Coin",
          "BiblePay",
          "BitFlip",
          "LottoCoin",
          "Crypto Improvement Fund",
          "Stipend",
          "Pushi",
          "Ellerium",
          "Velox",
          "Ontology",
          "Callisto Network",
          "BitTube",
          "Poseidon",
          "Aidos Kuneen",
          "Bitspace",
          "Briacoin",
          "Ignition",
          "Bitrolium",
          "MedicCoin",
          "Alpenschillling",
          "Bitcoin Green",
          "Deviant Coin",
          "Abjcoin",
          "Semux",
          "FuturoCoin",
          "Carebit",
          "Zealium",
          "Monero Classic",
          "Proton",
          "iDealCash",
          "Jumpcoin",
          "Infinex",
          "Bitcoin Incognito",
          "KEYCO",
          "HollyWoodCoin",
          "GINcoin",
          "PlatinCoin",
          "Loki",
          "Newton Coin",
          "Swisscoin",
          "Xt3ch",
          "MassGrid",
          "TheVig",
          "PluraCoin",
          "EmaratCoin",
          "Dekado",
          "Lynx",
          "Poseidon Quark",
          "BitcoinWSpectrum",
          "Muse",
          "Motion",
          "PlusOneCoin",
          "Axe",
          "Trivechain",
          "Dystem",
          "Giant",
          "Peony Coin",
          "Absolute Coin",
          "Vitae",
          "HexCoin",
          "TPCash",
          "Webchain",
          "Ryo",
          "Urals Coin",
          "Qwertycoin",
          "ARENON",
          "EUNO",
          "MMOCoin",
          "Ketan",
          "Project Pai",
          "XDNA",
          "PAXEX",
          "Azart",
          "ThunderStake",
          "Kcash",
          "Xchange",
          "Acute Angle Cloud",
          "CrypticCoin",
          "Bettex coin",
          "Actinium",
          "Bitcoin SV",
          "BitMoney",
          "Junson Ming Chan Coin",
          "FREDEnergy",
          "HerbCoin",
          "Universal Molecule",
          "Lithium",
          "PirateCash",
          "Exosis",
          "Block-Logic",
          "Oduwa",
          "Beam",
          "Galilel",
          "Bithereum",
          "Crypto Sports",
          "Credit",
          "SLICE",
          "Dash Platinum",
          "Nasdacoin",
          "Beetle Coin",
          "Titan Coin",
          "Award",
          "BLAST",
          "Bitcoin Rhodium",
          "GlobalToken",
          "Insane Coin",
          "ALAX",
          "LiteDoge",
          "SolarCoin",
          "TruckCoin",
          "UFO Coin",
          "OrangeCoin",
          "BlakeCoin",
          "BitstarCoin",
          "NeosCoin",
          "HyperCoin",
          "PinkCoin",
          "Crypto Escudo",
          "AudioCoin",
          "IncaKoin",
          "Piggy Coin",
          "Crown Coin",
          "Genstake",
          "SmileyCoin",
          "XiaoMiCoin",
          "Groestlcoin",
          "CapriCoin",
          " ClubCoin",
          "Radium",
          "Bata",
          "Pakcoin",
          "Creditbit ",
          "OKCash",
          "Lisk",
          "HiCoin",
          "WhiteCoin",
          "FriendshipCoin",
          "JoinCoin",
          "Triangles Coin",
          "Vollar",
          "EOS",
          "Reality Clash",
          "Oxycoin",
          "TigerCash",
          "Waves",
          "Particl",
          "Nxt",
          "ZEPHYR",
          "Gapcoin",
          "Beldex",
          "Horizen",
          "BitcoinPlus"
         ],
         "legendgroup": "0",
         "marker": {
          "color": [
           0,
           0,
           0,
           0,
           0,
           0,
           0,
           0,
           0,
           0,
           0,
           0,
           0,
           0,
           0,
           0,
           0,
           0,
           0,
           0,
           0,
           0,
           0,
           0,
           0,
           0,
           0,
           0,
           0,
           0,
           0,
           0,
           0,
           0,
           0,
           0,
           0,
           0,
           0,
           0,
           0,
           0,
           0,
           0,
           0,
           0,
           0,
           0,
           0,
           0,
           0,
           0,
           0,
           0,
           0,
           0,
           0,
           0,
           0,
           0,
           0,
           0,
           0,
           0,
           0,
           0,
           0,
           0,
           0,
           0,
           0,
           0,
           0,
           0,
           0,
           0,
           0,
           0,
           0,
           0,
           0,
           0,
           0,
           0,
           0,
           0,
           0,
           0,
           0,
           0,
           0,
           0,
           0,
           0,
           0,
           0,
           0,
           0,
           0,
           0,
           0,
           0,
           0,
           0,
           0,
           0,
           0,
           0,
           0,
           0,
           0,
           0,
           0,
           0,
           0,
           0,
           0,
           0,
           0,
           0,
           0,
           0,
           0,
           0,
           0,
           0,
           0,
           0,
           0,
           0,
           0,
           0,
           0,
           0,
           0,
           0,
           0,
           0,
           0,
           0,
           0,
           0,
           0,
           0,
           0,
           0,
           0,
           0,
           0,
           0,
           0,
           0,
           0,
           0,
           0,
           0,
           0,
           0,
           0,
           0,
           0,
           0,
           0,
           0,
           0,
           0,
           0,
           0,
           0,
           0,
           0,
           0,
           0,
           0,
           0,
           0,
           0,
           0,
           0,
           0,
           0,
           0,
           0,
           0,
           0,
           0,
           0,
           0,
           0,
           0,
           0,
           0,
           0,
           0,
           0,
           0,
           0,
           0,
           0,
           0,
           0,
           0,
           0,
           0,
           0,
           0,
           0,
           0,
           0,
           0,
           0,
           0,
           0,
           0,
           0,
           0,
           0,
           0,
           0,
           0,
           0,
           0,
           0,
           0,
           0,
           0,
           0,
           0,
           0,
           0,
           0,
           0,
           0,
           0,
           0,
           0,
           0,
           0,
           0,
           0,
           0,
           0,
           0,
           0,
           0,
           0,
           0,
           0,
           0,
           0,
           0,
           0,
           0,
           0,
           0,
           0,
           0,
           0,
           0,
           0,
           0,
           0,
           0,
           0,
           0,
           0,
           0,
           0,
           0,
           0,
           0,
           0,
           0,
           0,
           0,
           0,
           0,
           0,
           0,
           0,
           0,
           0,
           0,
           0,
           0,
           0,
           0,
           0,
           0,
           0,
           0,
           0,
           0,
           0,
           0,
           0,
           0,
           0,
           0,
           0,
           0,
           0,
           0,
           0,
           0,
           0,
           0,
           0,
           0,
           0,
           0,
           0,
           0,
           0,
           0,
           0,
           0,
           0,
           0,
           0,
           0,
           0,
           0,
           0,
           0,
           0,
           0,
           0,
           0,
           0,
           0,
           0,
           0,
           0,
           0,
           0,
           0,
           0,
           0,
           0,
           0,
           0,
           0,
           0,
           0,
           0,
           0,
           0,
           0,
           0,
           0,
           0,
           0,
           0,
           0,
           0,
           0,
           0,
           0,
           0,
           0,
           0,
           0,
           0,
           0,
           0,
           0,
           0,
           0,
           0,
           0,
           0,
           0,
           0,
           0,
           0,
           0,
           0,
           0,
           0,
           0,
           0,
           0,
           0,
           0,
           0,
           0,
           0,
           0,
           0,
           0,
           0,
           0,
           0,
           0,
           0,
           0,
           0,
           0,
           0,
           0,
           0,
           0,
           0,
           0,
           0,
           0,
           0,
           0,
           0,
           0,
           0,
           0,
           0,
           0,
           0,
           0,
           0,
           0,
           0,
           0,
           0,
           0,
           0,
           0,
           0,
           0,
           0,
           0,
           0,
           0,
           0,
           0,
           0,
           0,
           0,
           0,
           0,
           0,
           0,
           0,
           0,
           0,
           0,
           0,
           0,
           0,
           0,
           0,
           0,
           0,
           0,
           0,
           0,
           0,
           0,
           0,
           0,
           0,
           0,
           0,
           0,
           0,
           0,
           0,
           0,
           0,
           0,
           0,
           0,
           0,
           0,
           0,
           0,
           0,
           0,
           0,
           0,
           0,
           0,
           0,
           0,
           0,
           0,
           0,
           0,
           0,
           0,
           0,
           0,
           0,
           0,
           0,
           0,
           0,
           0,
           0,
           0,
           0,
           0,
           0,
           0,
           0,
           0,
           0,
           0,
           0,
           0,
           0,
           0,
           0,
           0,
           0,
           0,
           0,
           0,
           0,
           0,
           0,
           0,
           0,
           0,
           0,
           0,
           0,
           0,
           0,
           0
          ],
          "coloraxis": "coloraxis",
          "symbol": "circle"
         },
         "mode": "markers",
         "name": "0",
         "scene": "scene",
         "showlegend": true,
         "type": "scatter3d",
         "x": [
          -0.26197312514184956,
          -0.19334099695217233,
          0.47132094669482805,
          -0.24373400525601627,
          -0.0372869154590198,
          -0.24687613125927757,
          -0.2930419438204533,
          0.05248004696503141,
          -0.18783228574522667,
          -0.38778533872270327,
          0.09964631910966919,
          -0.12230567103675123,
          -0.2095482368813205,
          -0.22812401464408907,
          -0.28587612668857076,
          -0.12647233710141106,
          -0.3306634825075996,
          -0.22082724009967025,
          -0.23464279814769468,
          -0.06832875965487553,
          -0.019409516816159468,
          -0.2009880579535494,
          -0.22339001267002453,
          -0.2619301684706406,
          -0.18807212725138275,
          -0.07463831652451312,
          -0.35200718436236395,
          -0.22015859514056793,
          -0.28199954912701747,
          -0.2758712838549128,
          -0.2625886291997343,
          -0.2706051335502072,
          -0.1989837050439492,
          -0.3899175695459154,
          0.1254596836871642,
          -0.2122561379525564,
          -0.05171707247301406,
          0.03060270987743862,
          -0.06588223648362225,
          -0.2622074637770172,
          -0.27211357892013177,
          -0.2003986544578042,
          -0.10177127520299004,
          0.05688756691193318,
          -0.29561354120052435,
          -0.13548552272770614,
          -0.2563861425279333,
          -0.3276327516522399,
          -0.2005059481152427,
          -0.2957820448704809,
          -0.10035735292650656,
          1.4364898900880392,
          -0.29279438553471354,
          -0.24396344496175207,
          -0.25800928880950647,
          -0.2886849947403994,
          -0.21782943356662768,
          0.04386510187992939,
          -0.2575732401157225,
          -0.340084630452256,
          0.1884698585789593,
          -0.24999359804170937,
          -0.14507837050717282,
          -0.2987657560094361,
          0.06159821070661248,
          -0.1593991023861125,
          -0.24392101068946728,
          -0.2598789103598716,
          0.06119371068243019,
          -0.006937810686064086,
          -0.2551557126821904,
          -0.27368268170517007,
          0.2933670047658961,
          -0.28595158397491,
          -0.26323307899720805,
          -0.153242400045887,
          -0.1207262133553549,
          -0.3435003731412525,
          -0.22284776450348442,
          -0.2096575293898667,
          -0.19421813451392622,
          -0.3236417981660196,
          -0.29181040139228454,
          -0.2161236356160941,
          -0.2638007043417556,
          -0.2053311716535772,
          -0.11718642360252143,
          -0.24841830273833543,
          -0.18807204923218462,
          -0.34848358473931645,
          0.016995197685270174,
          -0.23716786006924118,
          -0.2583334946737254,
          -0.2988843745532752,
          -0.09657224663031877,
          -0.0630796326868267,
          0.061090404162942265,
          -0.10565133998348228,
          3.236619701563237,
          -0.019957809116779607,
          -1.116836971603569,
          -0.07886658840575334,
          -0.26727554059078007,
          -0.21226637319817226,
          -0.04893645565407896,
          -0.23294373625578263,
          -0.07977668452709383,
          -0.25793280905715416,
          0.0345744974478846,
          -0.2778818309971367,
          -0.102541441806704,
          -0.2499298574560124,
          -0.07624353632695546,
          -0.11343516711062726,
          -0.09711788685184057,
          -0.013866398111739972,
          -0.33483313423464817,
          -0.09281434125220249,
          -0.044805211153117065,
          -0.24581298861020986,
          -0.28944406657653143,
          -0.14089778635737563,
          -0.39718334651874593,
          -0.25808371162946686,
          -0.24423509292075204,
          0.05706118738920191,
          -0.11800287017039425,
          0.6931650751720964,
          -0.3118434221707761,
          0.32462123308574614,
          -0.1652623834147429,
          -1.0588992523814058,
          -0.3275228836890481,
          -0.19789782454770583,
          -0.2207423180532991,
          -0.26276580837610247,
          -0.19131640551685264,
          -0.1997797729720522,
          -0.12883225216955313,
          0.7950755705901257,
          -0.06545469826213568,
          -0.10611811125115893,
          -0.30956909374607844,
          -0.24387201888612783,
          -0.05437471016928872,
          -0.22380002587650724,
          -0.064173072523712,
          -0.20980692899684605,
          -0.1784884172106751,
          -0.2467941382092094,
          -0.13538840033590874,
          0.24031011577698294,
          0.03220476510037175,
          -0.25858914397543653,
          -0.2554127821526927,
          -0.2885052013958206,
          -0.46464846098980206,
          -0.292107871229732,
          0.21044742424532892,
          -0.36814546326657815,
          0.481587124849273,
          -0.21870491417485502,
          -0.5770752833540826,
          -0.3148423510605204,
          -0.289166798266463,
          -0.35328709506624134,
          -0.2866210610183772,
          -0.2314481646999888,
          -0.16678364492567407,
          -0.23941192782405954,
          -0.3548432510064536,
          -0.2325184694006114,
          -0.6167629673715276,
          -0.013087686131866096,
          -0.3328454077813621,
          -0.1876822926811825,
          -0.15574130785794155,
          -0.35375078231723867,
          -0.3735518992859267,
          -0.49402004668375504,
          -0.3076666767340106,
          -0.22145232090303,
          -0.15784217686993185,
          -0.24475955970768387,
          -0.1557178638557009,
          -0.30313879242105635,
          -0.286150852931652,
          -0.31364658636168635,
          -0.0761418406693731,
          -0.28732013728321093,
          -0.07766323205615189,
          -0.14819364784917288,
          -1.1582841677151996,
          -0.29636652603678265,
          -0.06042537640471477,
          -0.2758995938148719,
          -0.07566676399175956,
          -0.3299187956617093,
          -0.033610436073382204,
          -0.2567036152398907,
          0.0364979453319482,
          -0.18906891779801965,
          -0.39369030232762103,
          -0.3466595504593688,
          -0.16467675198693144,
          -0.38809575951605124,
          5.719510580770132,
          -0.33850309332131423,
          -0.19633462238140695,
          -0.13207291731517862,
          1.619430035680814,
          -0.3578469169738577,
          -0.29140033245207764,
          -0.2736213521411101,
          -0.25847587427089674,
          -0.35074532037131373,
          -0.31500742500336104,
          -0.35323176192707684,
          -0.24764681781735676,
          -0.2708302152662568,
          0.033417136984622564,
          -0.20048254916296784,
          -0.2148637965454574,
          -0.313577597596948,
          -0.19397410441166396,
          -0.2732397610485948,
          0.3450658322476564,
          -0.22961607319407823,
          -0.28183040650579183,
          -0.34201070897343583,
          -0.22185227422890277,
          -0.3070788600178694,
          -0.2195980556471309,
          0.31827265522119785,
          -0.10061006112592505,
          -0.2447594579749916,
          -0.31684837751518524,
          -0.2895242695009275,
          -0.3532362099913106,
          -0.24180658305900418,
          0.01995667023885282,
          -0.31583675136210865,
          -0.2975944894572249,
          -0.22797970959439895,
          0.003499840594564398,
          -0.14833685804854907,
          -0.5368647507954145,
          -0.0951324665440327,
          -0.2805174822278182,
          -0.02357400874182989,
          -0.3222548206281098,
          -1.4939639837421355,
          -0.23013241731398804,
          -0.18746599865244926,
          -0.32038793433505364,
          -0.22040054940279555,
          -0.3140464809324751,
          -0.23002386231143127,
          -0.337006061097238,
          -0.2509574733736993,
          -0.14087495479148052,
          -0.24846493922702337,
          -0.2358334335315269,
          -0.10747786065756028,
          -0.18379881283030086,
          -0.3020401034667763,
          -0.27282436134931387,
          -0.02327521147757077,
          -0.1445990044627036,
          -0.3225948466218624,
          -0.256351925109875,
          0.6297650284824421,
          -0.18636958018076796,
          -0.2822818547879847,
          -0.3310589821888308,
          -0.12755593459568376,
          0.5057437802291788,
          0.07352821821694773,
          0.6906629559911159,
          -0.32586556285825724,
          0.09206915671012963,
          -0.26853003926383445,
          -0.22957672220883896,
          -0.31448190899583744,
          -0.17313258754912075,
          -0.2763968226239553,
          -0.159828618787313,
          -0.30601205093762934,
          -0.3531245363498718,
          -0.31528610922817424,
          0.03360446683607308,
          -0.1714340709318958,
          0.02150543216022107,
          -0.2919865091035033,
          2.822655380029162,
          0.09894617182201282,
          -0.46247161371609863,
          -0.2749561790190167,
          -0.17260520613131117,
          -0.24381001267925145,
          -0.348952777570191,
          -0.30035917228793335,
          -0.27925190038215786,
          -0.28944948433465384,
          1.7278939754876634,
          -0.2890727340488481,
          -0.24758387297041573,
          -0.18791671421677741,
          -0.18776615183132397,
          -0.3189176608554594,
          -0.26518766843464686,
          -0.2028803888502818,
          -0.026826791393268355,
          -0.2214727318950477,
          -0.23998466433316884,
          -0.2846141529202509,
          -0.12948622645531332,
          -0.1942956065566486,
          -0.2422712605693327,
          -0.09938593176040066,
          -0.06317230399264084,
          -0.3877360550396457,
          0.6182586156752002,
          -0.14546316118722535,
          -0.31999113095045995,
          -0.36037130385793964,
          -0.7077213638256452,
          -0.2864731514565054,
          -0.3411437980471649,
          -0.1871451981862101,
          -0.3289467327465722,
          -0.25530968129570536,
          -0.013456545176384576,
          -0.27070227117910267,
          -0.007061614708892982,
          -0.18872400257468172,
          -0.02366281958184013,
          -0.3144706797201513,
          4.04760660137984,
          0.1943247359187317,
          -0.08775357008318077,
          -0.3549477498679029,
          -0.22564528934832603,
          0.18868634148448787,
          -0.17398134408801233,
          -0.15573716983346247,
          -0.3923041400348205,
          -0.3456749837586942,
          -0.3035832623338509,
          0.018673496549960103,
          -0.018369879665459336,
          -0.19127355885672329,
          -0.23114963487679843,
          -0.30735202475391366,
          0.7389983897701047,
          -0.34851789416647183,
          -0.18730111045433362,
          -0.3528845426993188,
          0.001947930534936034,
          -0.2205262186500311,
          -0.29698779319921736,
          -0.28229183778820893,
          -0.33169249677885854,
          -0.39054400816629203,
          -0.14416487120868982,
          -0.5359248029004657,
          -0.4559304940597545,
          -0.2011382148274984,
          -0.3588917269279859,
          0.7627381819900636,
          1.3027667574103114,
          -0.22229199596678334,
          -0.14304837163761075,
          -0.0727589536840763,
          -0.3547000438637239,
          -0.2168296472693375,
          -0.04731880869381483,
          -0.9927729396223903,
          -0.26017780645,
          0.0650808113763133,
          -0.1393948930037963,
          -0.6643942054816827,
          -0.35397831017561737,
          -0.3585055732647365,
          -0.2984549997678085,
          -0.0871246123722387,
          -0.20914549552645872,
          -0.014163874697520876,
          -0.28611258873682394,
          -0.35142668033858715,
          -0.2843187341968929,
          -0.2611731909343236,
          -0.27194043814075775,
          -0.42972196215537095,
          -0.10134035330698386,
          -0.15075300818183981,
          -0.36203071258887504,
          -0.33851534214529005,
          -0.29710515406178656,
          3.845953023666559,
          -0.2293224189667629,
          -0.3398174246941553,
          -0.33122651554775034,
          -0.21624455727430197,
          0.08920548257797896,
          -0.10750807627604946,
          -0.3039364318829292,
          0.30287313373084823,
          -0.41268229072498375,
          -0.46424970044702035,
          -0.29568610248851024,
          -0.09340530600237337,
          -0.160010092128442,
          0.23784059073203698,
          0.5279455720296061,
          -0.07397466930069174,
          -0.33841828938924284,
          -0.5726661479682814,
          -0.21817661849703499,
          -0.008314567107550071,
          -0.2481610284315648,
          -0.120868555700774,
          1.582164947299706,
          -0.37453685460471037,
          -0.1837042018618947,
          1.7415225389291036,
          0.1737671361702357,
          -0.32820152870844826,
          -0.327605693103783,
          0.1903724900085767,
          -0.3424944109807092,
          -0.3628749354046669,
          -0.2934932877718373,
          -0.32615380286907864,
          -0.2439027268471802,
          -0.27873978955557654,
          -0.10756519769131108,
          0.03161648611337848,
          -2.191424739140127,
          -0.2729812850165883,
          2.1636363540775814,
          -0.3571113143475878,
          -0.3072599051478854,
          -0.19552695755836935,
          -0.2522204854195067,
          -0.10440789400421824,
          0.28537871720930996,
          -0.23379774251039093,
          -0.353801360700533,
          -0.2422397567192242,
          0.23762479342365034,
          0.010813455801539293,
          0.7143422243320224,
          -0.4174970471462266,
          -0.3166594154075,
          -0.16412674831392668,
          -0.24400996841064784,
          -0.4024758017906734,
          0.09560058727805443,
          -0.16117212799012798,
          -0.3160899662722505,
          -0.4684665948626223,
          -0.4463133726220211,
          -0.36220447438081727,
          -0.3795108482771375,
          -0.2960113564339285,
          -0.2862450331523078,
          -0.4479386181473828,
          -0.37283403933515796,
          -0.49507238650584795,
          -0.36821736321662685,
          0.2801285258244358,
          -0.1573027645385162,
          -0.38503923397692447,
          -0.24782577807861747,
          -0.14496507445054224,
          -0.18628397190206897,
          -0.2996658036587855,
          -0.1785494431657937,
          -0.018067935270113113,
          -0.3368341722348287,
          -0.3382716146612689,
          4.050209659863188,
          0.033169748620618125,
          -0.3267977242180964,
          -0.11481776185493833,
          -0.0745503662816723,
          -0.28916308983930644,
          -0.45393880469414555,
          -0.30733322063296137,
          -0.24824989690435795,
          -0.07606605101915827,
          -0.13705334427581572,
          -0.09732308635090815,
          -0.2672264681534261,
          0.10914533614852849,
          -0.14298382163228962,
          -0.21638352458063168,
          -0.28511783488489184,
          0.2929221562545411,
          -0.22538088780587215,
          -0.22844896299285242,
          -0.2844457702326964,
          -0.2507374500660409,
          -0.29950186495008785,
          -0.2716659180340857,
          -0.28721773279639407,
          -1.602789785568633,
          -0.2138072844181286,
          5.703958463543361,
          -0.1027812982840042,
          -0.23177713086447266,
          -0.0030093825206302365,
          -0.36726192277019687,
          0.005557928236179609,
          -0.07375248572998833,
          4.081886700137994,
          -0.17243423920817946,
          4.0827900494651255,
          -0.05709908417700665,
          0.4082837205494822,
          -0.2941776795428508,
          -0.05086241249285075,
          2.8031912587293886,
          -0.2639186305748329,
          -0.13193513949912405,
          -0.3877874218234311,
          -0.2746400130338284
         ],
         "y": [
          0.08533733054386725,
          0.008555806194821197,
          0.2803660576411872,
          -0.23412241559160202,
          -0.10987610649493815,
          -0.19278804240936553,
          -0.12650492232955163,
          -0.16424428732625407,
          -0.0910326517289618,
          -0.3804946385961705,
          -0.3720979023914915,
          -0.38718666997904444,
          -0.11715866357774811,
          -0.23341115894451273,
          -0.18152853677491745,
          -0.13413899493794246,
          -0.12687348896931533,
          -0.12950406491764296,
          0.009611471664126788,
          -0.05032824837488923,
          -0.3088744379147201,
          -0.06008348216736592,
          -0.21225142337305533,
          -0.1236521496311081,
          -0.12876417843582158,
          -0.05047929114403204,
          0.08054368173043182,
          -0.41958931651773923,
          -0.12367104969741546,
          -0.03527435023786442,
          -0.11277613340034884,
          0.006583771816963602,
          -0.0689565548924298,
          -0.12943614013719554,
          0.28671353788000903,
          -0.5678878106565666,
          -0.3390219262062243,
          -0.3145192254822254,
          -0.11392910771534055,
          -0.11358058310717703,
          -0.16648281319831942,
          -0.09759414899937806,
          -0.12322418932314128,
          0.020621560594930553,
          -0.14345409615479437,
          -0.2796152072868383,
          -0.10708724999491527,
          -0.18206750397753604,
          -0.11130231419004766,
          0.033729556367352656,
          -0.14352204173492208,
          -0.12307004659938682,
          -0.1266362006198314,
          -0.23418928879974862,
          -0.15698186190704022,
          -0.06490407223380872,
          -0.10743453125796835,
          0.1952377367307325,
          -0.10815095201015201,
          0.009082632936652544,
          -0.08747060065547652,
          -0.12539992677156134,
          -0.0338322842439292,
          -0.03565145248515635,
          0.04126396892385299,
          -0.04979506733668561,
          -0.23405326560587578,
          -0.1224415316540035,
          0.041431538615137736,
          -0.043206484523679096,
          -0.05849110444176333,
          -0.004947781534047547,
          -0.059308232848020004,
          -0.18157846652450743,
          -0.12322185452839927,
          -0.10741854127520822,
          -0.14299943634572723,
          -0.14643597870541858,
          -0.23238601092338884,
          -0.19851203229527192,
          -0.253367891502975,
          -1.1544749605441635,
          -0.09863739815139952,
          -0.16078949450298805,
          -0.19109077436436908,
          -0.294718730421542,
          -0.2010236377896127,
          0.021273938931065706,
          -0.040016208257469474,
          -0.22897900271105545,
          0.06307766023703734,
          -0.4164921358808015,
          -0.156805301597156,
          -0.13141075113024653,
          -0.2090505168247541,
          -0.11579974077879802,
          0.04091164112493429,
          0.008974857212500043,
          -0.39172769417697634,
          -0.21047546291736532,
          0.5348769433197872,
          -0.15145777780642916,
          -0.05279674313281957,
          -0.1236496544827133,
          -0.27685852103590797,
          -0.09711455098387152,
          -0.08113640702467964,
          -0.08869414640394348,
          0.17370493802934578,
          -0.1364694684373999,
          -0.11694696358205345,
          -0.07073524399675683,
          -0.05027642745807371,
          0.05427055829293185,
          -0.08040749276575462,
          -0.08344928798595275,
          -0.06896967343885162,
          -0.2666667850670293,
          -0.12363463918913174,
          -0.14974611345727978,
          0.02371936277654639,
          -0.08573305218910168,
          0.03395022498336425,
          -0.10962628950127304,
          -0.2340491667680992,
          -0.22601241373800493,
          -0.11206098458402514,
          1.0171166456738383,
          -0.17796422549267243,
          0.036735357960531345,
          -0.23056217112678679,
          -1.6187836218260203,
          -0.2436969223179916,
          -0.1722177488214245,
          -0.14082454465759375,
          -0.12348129376978223,
          -0.07083769985889891,
          -0.017380988105027684,
          0.03799907017317047,
          -0.06254497339225201,
          -0.04379134466679875,
          0.05237219611484155,
          -0.2722652665296907,
          -0.2341461575747678,
          -0.5331836871012656,
          -0.12075788458148205,
          -0.11154101039405401,
          -0.11721128661084318,
          -0.10870321519964578,
          -0.19299697018193515,
          -0.08400644023153311,
          -0.22128020256266687,
          -0.027014024432337136,
          -0.01941012523928575,
          -0.002835594701305469,
          -0.25521086802346976,
          0.031798316048592304,
          -0.16864497552045682,
          -1.011421516719974,
          -0.14799590105397575,
          -0.023881178479208245,
          -0.05307246684850005,
          0.2899980961309035,
          -0.04954636383676254,
          -0.0651969854224733,
          -0.21518872928432714,
          -0.10675932710984916,
          -0.08299885442081643,
          -0.09997214491315218,
          2.2451590399564397e-05,
          -0.07458879490189853,
          -0.1341346196227805,
          -0.5193128656087886,
          -0.09209072635222318,
          0.06407193965054662,
          -0.040116514701866356,
          0.08218734030085006,
          -0.21533904343903573,
          -0.15534062995679904,
          -0.32619796785116073,
          -0.11535696536244598,
          -0.026033263814382555,
          -0.24921772239081186,
          -0.145145769244066,
          -0.1496257291834205,
          -0.10412401677834701,
          -0.0926041838432812,
          -0.28100325879597754,
          -0.05001580806726031,
          -0.06708699285778304,
          -0.08091672681913685,
          -0.1798733902424161,
          0.39663477552737936,
          -4.858865448411116e-05,
          -0.11352236599693107,
          -0.11127904927119812,
          -0.05036387468657242,
          -0.10260901022543485,
          -0.1443340313281445,
          -0.1782810796584968,
          0.1794941271266438,
          0.013306598280025821,
          -0.20180227179625557,
          -0.08605188067718353,
          -0.060177556848534826,
          -0.3806531898243879,
          -1.1113053417497456,
          0.02642690062647701,
          -0.08424889296642835,
          -0.23674928581215335,
          0.10720555857707718,
          -0.026769191897599572,
          -0.1262921965294409,
          0.03360282356946381,
          -0.019923090988994252,
          -0.2359260983247373,
          -0.04941229794943493,
          -0.26964178353359947,
          -0.028795760392560873,
          -0.027243887528721512,
          0.28290256273924996,
          -0.05500227312304631,
          -0.04246717930642528,
          -0.07470007700636713,
          -0.3048566136690179,
          0.018379275669953364,
          0.012566123249030942,
          -0.02966594521650128,
          -0.0689675530316293,
          0.1133735273180322,
          0.07165641909420221,
          -0.08021090073780221,
          -0.27645620885959005,
          -0.1033252104253549,
          -0.08552281332201618,
          -0.14531000508474265,
          -0.0852671286667214,
          0.023871637585337613,
          -0.25400819755662607,
          0.043866963443074086,
          -0.09985793719705094,
          -0.03125168371291532,
          -0.04529066551748045,
          -0.14003533806157295,
          0.23002447830982117,
          -0.14198750900407692,
          -0.6085653124651529,
          0.008014300404257633,
          -0.13032863301625278,
          -0.1506919118742179,
          -0.05513656567727235,
          -2.1290861788913658,
          -0.10210139660771667,
          -0.9783704165099941,
          -0.10231519033384474,
          -0.15948000332282708,
          -0.11066125992882023,
          -0.10185689270988568,
          -0.03372138926621251,
          -0.08736837029013464,
          -0.14750817028893348,
          0.07489217298236787,
          0.10018365089016944,
          0.008645828691407648,
          -0.11016342724352843,
          -0.06260822722522479,
          -0.15067790172420262,
          -0.12306831257033278,
          -0.13238522240928055,
          0.015756814244508532,
          -0.12952620438596504,
          -0.09310849540019374,
          -0.16707422715692077,
          -0.12872833400291617,
          -0.24984927908776577,
          -0.24345265462362872,
          -0.1219690496742945,
          -0.23518195835687797,
          0.13413957848642555,
          0.1319076737941534,
          -0.3048211669071895,
          -0.010222253782948856,
          -0.1912842370090776,
          0.05995339530040444,
          -0.0052156800050059396,
          -0.10999632420470012,
          0.18027075879076823,
          -0.106950431492049,
          -0.3588068229866982,
          -0.17568408320226434,
          -0.04209071053827266,
          -0.24039412790565942,
          0.21650932751387092,
          -0.27691840455307765,
          -0.20093796798863678,
          0.36937511161468045,
          0.21215810459043064,
          -0.30237000093365424,
          -0.004884484248335752,
          -0.23404924322581383,
          -0.014542846818897323,
          -0.03355313972553029,
          -0.05958004265477686,
          -0.2138373323307155,
          -0.18470492878809644,
          -0.06501628929654582,
          -0.1929379587950316,
          -0.12832865147892625,
          -0.12852481996687182,
          0.028302141247403594,
          -0.013674521838846905,
          -0.3979975884094423,
          -0.367756399420935,
          -1.6160014208936018,
          -0.12276222321715104,
          -0.456182433093599,
          -0.06705486584048381,
          -0.18202220020116358,
          -0.00856278563627807,
          -0.20243783826759548,
          -0.6832087935519578,
          -0.3804280318160617,
          -0.010576031189140885,
          -0.09233965364146383,
          -0.03817370375431444,
          -0.7021494854285681,
          -0.05638377165056916,
          -0.09265392906957645,
          0.12213960907832132,
          -0.129001538569827,
          -0.20956298939702497,
          -0.033820102687092304,
          -0.1891725238998916,
          -0.263370182780159,
          -0.11641661472424202,
          0.05735756942981654,
          -0.2533418408569876,
          -0.04422285375288548,
          -0.7026700520452512,
          0.11395070882428601,
          0.05925204478210384,
          -0.4209204446622463,
          -0.03153377084404712,
          -0.2623282158660929,
          -0.36294756539081163,
          -0.055434597036633,
          0.06006430575041036,
          0.09258420117404657,
          -0.1718467393496013,
          -0.11404070887712588,
          -0.04084236266613046,
          0.06913969902667935,
          -0.08927308078725736,
          -0.11565075365335485,
          -1.1624301892204418,
          -0.17439821457572705,
          -0.23482500392563177,
          0.10279768642023383,
          -0.22794554236101547,
          -0.12946750521603098,
          -0.0337360427570209,
          0.01449457558081293,
          -0.1855691510203598,
          -0.2916426260980431,
          -0.18123064750762152,
          -0.45103706287600254,
          -0.27374234162046124,
          0.02554850569675503,
          0.3599521150194181,
          -0.46986052232550907,
          0.21836853847703186,
          0.003965581901112116,
          -0.35025911086275086,
          -0.08750768223616505,
          -0.09685877633016195,
          -0.46381527390474975,
          0.09034910958154452,
          -0.7344780363477216,
          -0.0892083816989618,
          -0.15671561964901082,
          -0.2364646684811317,
          -0.48066619528120164,
          -0.1261911482348347,
          -0.29243395964913044,
          -0.04134751046150568,
          -0.09872044348751066,
          -0.003073848849424998,
          -0.20373842640945367,
          -0.18154180841936207,
          -0.11074824012721558,
          -0.026864954194622613,
          -0.04198167602776217,
          -0.012849666025462633,
          -0.381188666072131,
          -0.11658808023741389,
          -0.15815276759165695,
          -0.17152547029517878,
          -0.135267107588959,
          0.08884066631065084,
          -0.43842418043694875,
          -0.1910016028743157,
          0.12202665131721475,
          -0.1228801967020257,
          -0.3809102321097946,
          0.1755820148147597,
          -0.0011502161188636,
          -0.15528183001823773,
          -0.0015118454662422798,
          -0.2375466854726119,
          0.00511268021848011,
          -0.03866997205834085,
          -0.15833361380505176,
          -0.342627695538218,
          0.08903488521359634,
          -0.3894032669703058,
          -0.04839335346004008,
          -0.04285206731174755,
          -0.06501942875186849,
          -0.0568118047047665,
          -0.20412741114064437,
          -0.10440539472862813,
          -0.0786804745098234,
          -0.3065667235834812,
          0.23030777923128903,
          -0.11054468578646393,
          -0.5654622627429904,
          0.33508273930968835,
          -0.2733646977483136,
          -0.24362079395386627,
          0.4182201459788258,
          -0.023483693245736546,
          0.16929968660288025,
          -0.025240304908695447,
          -0.41584372441194206,
          0.02948573405428766,
          -0.10639952098627677,
          0.008416640970981942,
          -0.1713233818743372,
          -0.6352152663236859,
          -0.20502550564584543,
          0.0929267153619901,
          -0.09301320385310535,
          -0.11507098465332317,
          0.016935079393875962,
          -0.10502281912310725,
          -0.04248272403946556,
          0.6482790984613719,
          -0.13255484058871758,
          -0.2154290359085138,
          0.012459979449907762,
          -0.30920749902176137,
          0.05276460982440953,
          2.0039620746457554,
          -0.547429426610554,
          -0.1688181443763343,
          -0.2313011395240961,
          -0.23414129929254313,
          -0.1012370244289128,
          -0.14840740062809665,
          -0.4119949033613273,
          0.0724878943089405,
          -0.7537282024505134,
          -0.8525921551666515,
          -0.35940199824423447,
          -0.2860854353549516,
          -0.055319171930639045,
          -0.09271986683997983,
          -0.5680233008306681,
          0.2882982877149992,
          -0.5278430760101215,
          0.21687084283015137,
          -0.003717107523618122,
          -0.1132889903015257,
          -0.10274287124457451,
          -0.10419760050447945,
          -0.17034722068822544,
          0.13903905380411463,
          -0.12111756591940193,
          -0.1818766844579599,
          0.0430842095560962,
          -0.1495898204432631,
          0.026552661927812474,
          -0.6087347424821531,
          -0.007069839503383272,
          -0.04856718508074948,
          -0.11253219288051668,
          -0.21366311832628773,
          0.022299242055396337,
          -0.8300063989754477,
          -0.05554555062130883,
          -0.17621398677323072,
          -0.05013863762232679,
          -0.14766935847473273,
          -0.08059749847345211,
          0.02891995509136893,
          -0.16373104237001568,
          -0.05352357742295253,
          -0.1608657491554936,
          0.04390944580665724,
          -0.13699847606723145,
          -0.014400453656222025,
          -0.44522814006903105,
          -0.1489619772254237,
          0.01782572347328708,
          -0.11556264595325205,
          -0.10151841189597247,
          -0.11571992803303946,
          -2.205622423341066,
          -0.1820761363954251,
          -1.0517553621577047,
          0.025447098453812773,
          -0.03130534091187149,
          -0.10410030709355325,
          -0.42400302023269054,
          0.2636999734769301,
          0.18664095527699526,
          -0.6672834447078912,
          -0.1393159141612569,
          -0.6673792194308731,
          -0.07518642642562394,
          -1.0472383086836772,
          -0.19321679927657426,
          -0.018501991462759167,
          -0.4466712989334143,
          -0.03472562744571016,
          -0.3636287265599284,
          -0.38044974901028245,
          -0.024581747637065707
         ],
         "z": [
          0.004342616830496372,
          0.012279777008961535,
          0.3976157072570209,
          0.030139568674862414,
          -0.38945279079796746,
          -0.15155023001695758,
          0.1172586589639752,
          -0.2850335988548763,
          -0.4680575407229729,
          0.013786982536971908,
          0.8370424389696584,
          -0.12516750343452532,
          0.2548674481149361,
          0.06580682794307302,
          -0.12639603624812615,
          -0.18163649719608937,
          -0.17944653238981884,
          -0.14573354423618606,
          -0.011011340399353798,
          0.03110541293480929,
          -0.1699342609736774,
          -0.12153876673789607,
          0.0791180472257089,
          -0.14802944470082138,
          -0.1857038964691612,
          0.030726231934960026,
          0.13043291889022474,
          -0.14347397609044196,
          -0.17772765833330217,
          -0.006546566395695533,
          -0.20916989213512296,
          -0.04269760693740854,
          -0.12659040002664582,
          -0.7257895357066845,
          -0.19282441763388927,
          -0.006252662985985425,
          -0.24953812544284493,
          0.07979134951052874,
          -0.1758023653009453,
          -0.20894832775118927,
          -0.11085439815104976,
          -0.23484393372736032,
          0.04343157332646068,
          -0.05378532189716637,
          -0.20181403811727364,
          -0.2869814786461999,
          -0.09875052305185793,
          -0.13195882495263164,
          -0.14316627974633,
          0.009514054412441875,
          -0.0033498766315002175,
          0.04897913940003162,
          0.11770929329071733,
          0.029444599144774396,
          -0.22903925163192326,
          -0.19711616270173826,
          -0.25253151445949534,
          0.30554399292841145,
          -0.10157793414111035,
          -0.06211660356235378,
          0.011584713328267321,
          -0.09766855276645249,
          0.423001168038796,
          -0.01039539992024222,
          0.2083632244231478,
          -0.21657771842618692,
          0.029729394351036355,
          -0.11968229650591393,
          0.20878054365770937,
          -0.012126510954964968,
          -5.344514925185883e-05,
          0.032359961705852786,
          0.0789665265289237,
          -0.12601718561529324,
          -0.14807972739014133,
          -0.20116347596454376,
          -0.00569755237211297,
          0.09381766318703205,
          0.11559527525876082,
          -0.13251596639505037,
          0.16375641871748767,
          -0.16092067466479001,
          0.06441859470647837,
          0.053750347214980246,
          0.07722601859626198,
          0.062150044096068294,
          -0.0961337036229682,
          -0.18815633188747116,
          -0.040930749773561315,
          -0.31869691316157556,
          -0.09399013197688917,
          -0.24688980646513184,
          -0.2295769158189381,
          0.11715708940263903,
          -0.06086255341103003,
          0.010671950504560622,
          0.2085874955104027,
          0.13023532408726862,
          0.06011220256556523,
          -0.34423409384183884,
          -0.21123287246012104,
          -0.20137423858027714,
          -0.26301840474437194,
          0.3477418677677803,
          0.03829799671327381,
          -0.15611799425648767,
          -0.023504342599495284,
          -0.24581002215489697,
          0.4459954346654572,
          -0.11325253681218167,
          -0.06722916423204953,
          -0.13632960019340223,
          0.030472052229875618,
          0.22424169024797008,
          -0.013092530122438313,
          0.15146233635541828,
          -0.08945443325230037,
          -0.15102089340723499,
          0.056249141928169696,
          -0.10884953771193101,
          -0.05303732358031856,
          -0.25936971457173064,
          -0.16694394576145122,
          -0.25170499752971887,
          0.029157100347050845,
          -0.17175307754084232,
          0.048240180110308374,
          1.3016368261528892,
          -0.23721180386967583,
          -0.307474526623293,
          0.08864224271744527,
          -1.8765482804520637,
          -0.10808570191332877,
          -0.13850785640992938,
          -0.24071836903356483,
          -0.14785887546243345,
          -0.09523105163022094,
          -0.7840984776621028,
          0.2634133440183145,
          0.3677206489689334,
          0.28548709347849566,
          -0.25998790447537606,
          -0.24028753319817528,
          0.02954166936290159,
          0.29103838319727104,
          -0.19303522141960663,
          -0.5214141715040231,
          0.2546061256610921,
          -0.07838118479602824,
          -0.15186785737135425,
          0.43219648298004576,
          0.20072567157828902,
          0.15062077217860373,
          0.04259478950354417,
          -0.10923205694702617,
          -0.13330906598723005,
          -0.3493273708084084,
          -0.2939496229410079,
          0.4384556405163069,
          0.06559601695190748,
          0.04399318435519174,
          0.15973337316978303,
          -0.29118449113775163,
          -0.04028655776459937,
          -0.19696707718878434,
          -0.1991526385967076,
          0.09539065246138058,
          0.2937914156599787,
          0.4062172788208785,
          0.1270040032853445,
          -0.023478154627449874,
          -0.1939795967443051,
          -0.4641323209680443,
          0.010177804047065107,
          -0.11589720123499303,
          -0.04136060997797833,
          0.21315801206615484,
          -0.19990905889032798,
          -0.19502320429112624,
          0.45932719896156515,
          0.10319678753958939,
          0.022961271868908156,
          -0.18700665598780405,
          0.1737609912199669,
          0.038109845837528036,
          0.036290544324742526,
          0.01836915311293226,
          -0.1044362206597814,
          0.02997888467740583,
          -0.05540293552769731,
          -0.023555128926526343,
          0.12004042011036693,
          -2.640566861344655,
          -0.20047675574794524,
          0.43680140367385906,
          -0.03495784998384313,
          0.030493426121190423,
          0.013148125426622331,
          0.7240465745133887,
          0.09649914501684094,
          0.26550960346414254,
          -0.12463365583312645,
          0.009094914187821553,
          0.3641065192388486,
          -0.7876310106860345,
          0.013454175535941708,
          2.1983322458396026,
          -0.03829644906268559,
          -0.26661864936142404,
          -0.1391840611749258,
          0.5042251526579822,
          0.015616945708391308,
          0.09848277029671418,
          -0.05111250701336472,
          0.04299183472983156,
          -0.11723729330384204,
          -0.03961608879642599,
          -0.028508797864944615,
          0.10275932355677898,
          -0.11115991775172479,
          2.1828471951313384,
          0.08206470888265165,
          0.11134822611595353,
          0.04772983522818625,
          -0.2156326575611978,
          0.006289452745933185,
          -0.045667196621034044,
          -0.0007697019230672326,
          0.13081313323316562,
          0.15792163396096373,
          0.45868348248441493,
          -0.3270987241709595,
          -0.306724282628617,
          -0.29634472647272253,
          -0.013755869664580025,
          0.17409856540725133,
          0.03643608884916621,
          -0.05272773662043359,
          -0.2408832259641333,
          0.02914109344445863,
          -0.5996872363309402,
          -0.12455708185016015,
          0.4774084547783489,
          -0.12889369766281972,
          0.2073476083924297,
          0.0032546403578681735,
          0.12054989481162055,
          0.13175591879449375,
          -0.20577884817109976,
          -0.18089244461844997,
          -0.0525183240413027,
          -0.7609713030624019,
          -0.02339527005537516,
          -0.6287692833179429,
          0.23358324544627496,
          -0.3020855465192092,
          0.11898187281812031,
          -0.023254356599741666,
          -0.0788603330854645,
          0.023604300343557344,
          0.004518667972578616,
          -0.07639423424282585,
          -0.013877603983492432,
          0.12984235313385,
          0.19492572516230489,
          0.02145904896134655,
          -0.3247939993020319,
          -0.04463735045862733,
          -0.00026219475446292035,
          -0.04386358221957007,
          -0.06293677123356976,
          -0.22015679046095904,
          0.17743334264242122,
          -0.14406950786965309,
          -0.23917466936776724,
          -0.3779706064037483,
          0.4938208327021808,
          -0.15417062093044606,
          0.8223566494033825,
          -0.21198774621370123,
          -0.22181708718605356,
          0.1505486941420767,
          -0.16769525326646514,
          0.11322939554097373,
          -0.09454333410192987,
          -0.18945908817135004,
          0.12174697482212463,
          -0.320501258285478,
          -0.17298199291149338,
          -0.2615509526871761,
          0.1395187540681265,
          -0.22672762890908008,
          0.31741240190423053,
          -0.04641821849338671,
          0.13445393987624238,
          0.3453116938478489,
          -0.7185691224792791,
          -0.27688305407223635,
          -0.09438714663052203,
          0.02936260335987885,
          -0.020209808905820113,
          -0.0874280403714672,
          -0.23930114315244108,
          0.10834728736808943,
          0.12470464232014954,
          -0.19723450074496565,
          -0.15166655801707996,
          -0.1853280058359867,
          -0.1856080076084649,
          -0.03847089399589605,
          0.07094695752626946,
          -0.4642581259521362,
          0.8605680064153814,
          -0.6394872790410548,
          -0.0729851994092618,
          0.04140629625686772,
          -0.02235544989559566,
          -0.06831265969043236,
          -0.006182969749338911,
          -0.26694079420349803,
          0.041893560816802816,
          0.014110663514145487,
          0.15737647824276632,
          0.11445660048040332,
          0.18089815441168242,
          -0.066410874208081,
          -0.55551737026866,
          0.018253674312601123,
          0.23610560390883684,
          -0.1855263043779364,
          -0.013698385699007033,
          0.032305756564085034,
          0.30144423010895366,
          -0.2199246959950451,
          -0.17748030141134508,
          -0.797383283469846,
          -0.3064845819603529,
          0.024034700501792152,
          1.3147864701316316,
          0.22076042043811014,
          0.12933413714114722,
          -0.3568949478050929,
          -0.04849229328723621,
          -0.5051733291495838,
          -0.26904062457143557,
          -0.5411232356135779,
          0.03852757976324837,
          0.04006441056696591,
          -0.18078419957553335,
          -0.612078570968063,
          0.13316566710606034,
          -0.4385556535008155,
          -0.2374908662477832,
          0.10280731000342502,
          0.46977982081639974,
          -0.18837303010902995,
          -0.15874547576092293,
          0.10243813060271566,
          -0.1897711343093589,
          -0.14532988186118714,
          0.03063374552975309,
          0.05412740399975843,
          -0.01784043756792679,
          -0.3007355315657471,
          0.31367477359862217,
          -0.4045825115683721,
          -0.2714995300508692,
          -0.6570786601261644,
          -0.26115824147509303,
          -0.2231785958075651,
          0.043948536608497735,
          -0.031597627463173655,
          -0.3441059149682536,
          -0.25003696069901066,
          -0.3341108434730573,
          -0.3889438776293528,
          0.2519409753872292,
          25.373934094574018,
          -0.14017965146401076,
          -0.14959335664912987,
          -0.13949738044763815,
          -0.1414069680541751,
          -0.05504305504356188,
          -0.03639132023953568,
          -0.07711047109691213,
          0.2972842312194257,
          -0.8509486131986331,
          -0.10315277640712765,
          -0.12634140136248956,
          -0.18655431777087386,
          0.18939281235170746,
          0.018342602798608512,
          0.02991666377220248,
          0.008082820901525227,
          -0.06719358501800766,
          0.46301334792532145,
          0.08879614280707902,
          -0.08063415006327802,
          -0.05703518683115223,
          1.127449678703714,
          -0.1673830537702892,
          0.23539633316952327,
          0.07974617169320596,
          -0.4349523462083535,
          0.011710198201601327,
          0.16279271117239416,
          -0.02222399162821143,
          -0.330571619031677,
          -0.159217208388719,
          -1.5152201107897256,
          -0.15393398124684446,
          0.5059117125660428,
          -0.4360515223161046,
          -1.287700219611551,
          -0.4099242763108527,
          0.16894865620040034,
          -0.2156393959026231,
          0.14689019267805015,
          0.1621796907321049,
          -0.10225662293083773,
          -0.007352668972668564,
          -0.12028562038802597,
          0.0478745707741938,
          0.1387238418104924,
          0.24014294106361944,
          0.8709266600162746,
          -0.1106823728023615,
          -0.11138072762520487,
          -0.10843351267092304,
          0.20796770070098558,
          0.11133148763074854,
          0.44233725708189325,
          -0.16628468611379302,
          -0.3921593796578509,
          0.051762790996612566,
          -0.1281063192329657,
          0.13011061229950258,
          -0.48715660844208925,
          -1.0895499781196658,
          -0.1834237076101188,
          -1.5268198124338552,
          -0.10681013744078886,
          0.10287563922276406,
          -0.13416205268667447,
          -0.03597123056359667,
          -0.028123538970534885,
          0.5455240735430223,
          -0.07755351640273479,
          -0.1999207929077285,
          0.19666354045371595,
          1.1665815633480145,
          -0.11912991398119588,
          0.22981983954862906,
          0.11988476057877788,
          0.04064506342503557,
          0.22236066867738952,
          0.02944412940141346,
          0.07235131334762498,
          0.0226547542200583,
          -0.42855639600236917,
          0.15322991464836913,
          0.1338086598889163,
          0.07256117751263345,
          0.022786408356713285,
          -0.08174176219358957,
          -0.13483601166131154,
          0.01824545168056882,
          0.18361906094953614,
          0.2760923307558841,
          0.10961543566847175,
          0.25828928911780036,
          0.1142986536785186,
          -0.015087351422086165,
          -0.09002050086249785,
          -0.007155838328020282,
          -0.0037271114616192758,
          0.41091194902605305,
          0.017511262556297803,
          0.009682795208641721,
          0.22211830176341182,
          0.13092607482766677,
          -0.0379261183551373,
          1.459682940212472,
          0.11871852097489673,
          -0.24285179257354,
          0.04859880248805518,
          -0.3283447037539585,
          0.08834897194390987,
          0.20314382121259542,
          -0.01618844971718134,
          0.11967589018472712,
          0.03018153051104061,
          0.005499181537003082,
          -0.013188807846380329,
          -0.09300050548936777,
          0.2765002377519774,
          0.14907670342804907,
          0.05398434584603555,
          0.0654949020461986,
          0.029713221017919924,
          0.01020685383686106,
          -0.19901034954102062,
          -0.021214446885444514,
          0.007890270723399685,
          0.009843587803022845,
          -0.11451548136895376,
          -0.15349301442158225,
          -1.0832222517796297,
          0.09263856980676621,
          2.13765734294505,
          -0.11819655496939993,
          0.23279959078646967,
          -0.074295909016437,
          -0.3348163929561369,
          0.278306594227951,
          -0.24525347143361595,
          1.360362603935166,
          -0.7805595723278397,
          1.3596710216263745,
          0.23322620793160792,
          -0.5751993875111606,
          0.003833642398384312,
          0.35099102114274666,
          0.8730208009624485,
          -0.0034006671497702925,
          -0.3342029558614726,
          0.01385778718428745,
          -0.097584971348718
         ]
        },
        {
         "customdata": [
          [
           "VeChainThor Authority"
          ],
          [
           "Proof-of-Authority"
          ]
         ],
         "hovertemplate": "<b>%{hovertext}</b><br><br>Class=%{marker.color}<br>PC1=%{x}<br>PC2=%{y}<br>PC3=%{z}<br>Algorithm=%{customdata[0]}<extra></extra>",
         "hovertext": [
          "Vechain",
          "Poa Network"
         ],
         "legendgroup": "3",
         "marker": {
          "color": [
           3,
           3
          ],
          "coloraxis": "coloraxis",
          "symbol": "diamond"
         },
         "mode": "markers",
         "name": "3",
         "scene": "scene",
         "showlegend": true,
         "type": "scatter3d",
         "x": [
          14.843356883922304,
          -0.8442540817157977
         ],
         "y": [
          17.798704509627065,
          20.60161966306236
         ],
         "z": [
          -16.884458217992858,
          -23.67155812122367
         ]
        },
        {
         "customdata": [
          [
           "SHA-256 + Hive"
          ]
         ],
         "hovertemplate": "<b>%{hovertext}</b><br><br>Class=%{marker.color}<br>PC1=%{x}<br>PC2=%{y}<br>PC3=%{z}<br>Algorithm=%{customdata[0]}<extra></extra>",
         "hovertext": [
          "LitecoinCash"
         ],
         "legendgroup": "2",
         "marker": {
          "color": [
           2
          ],
          "coloraxis": "coloraxis",
          "symbol": "square"
         },
         "mode": "markers",
         "name": "2",
         "scene": "scene",
         "showlegend": true,
         "type": "scatter3d",
         "x": [
          -4.620312607857458
         ],
         "y": [
          36.38573558875516
         ],
         "z": [
          22.35422942689433
         ]
        },
        {
         "customdata": [
          [
           "TRC10"
          ]
         ],
         "hovertemplate": "<b>%{hovertext}</b><br><br>Class=%{marker.color}<br>PC1=%{x}<br>PC2=%{y}<br>PC3=%{z}<br>Algorithm=%{customdata[0]}<extra></extra>",
         "hovertext": [
          "BitTorrent"
         ],
         "legendgroup": "1",
         "marker": {
          "color": [
           1
          ],
          "coloraxis": "coloraxis",
          "symbol": "x"
         },
         "mode": "markers",
         "name": "1",
         "scene": "scene",
         "showlegend": true,
         "type": "scatter3d",
         "x": [
          41.46512017821825
         ],
         "y": [
          -1.7914896421131847
         ],
         "z": [
          6.873126888727157
         ]
        }
       ],
       "layout": {
        "coloraxis": {
         "colorbar": {
          "title": {
           "text": "Class"
          }
         },
         "colorscale": [
          [
           0,
           "#0d0887"
          ],
          [
           0.1111111111111111,
           "#46039f"
          ],
          [
           0.2222222222222222,
           "#7201a8"
          ],
          [
           0.3333333333333333,
           "#9c179e"
          ],
          [
           0.4444444444444444,
           "#bd3786"
          ],
          [
           0.5555555555555556,
           "#d8576b"
          ],
          [
           0.6666666666666666,
           "#ed7953"
          ],
          [
           0.7777777777777778,
           "#fb9f3a"
          ],
          [
           0.8888888888888888,
           "#fdca26"
          ],
          [
           1,
           "#f0f921"
          ]
         ]
        },
        "legend": {
         "title": {
          "text": "Class"
         },
         "tracegroupgap": 0,
         "x": 0,
         "y": 1
        },
        "margin": {
         "t": 60
        },
        "scene": {
         "domain": {
          "x": [
           0,
           1
          ],
          "y": [
           0,
           1
          ]
         },
         "xaxis": {
          "title": {
           "text": "PC1"
          }
         },
         "yaxis": {
          "title": {
           "text": "PC2"
          }
         },
         "zaxis": {
          "title": {
           "text": "PC3"
          }
         }
        },
        "template": {
         "data": {
          "bar": [
           {
            "error_x": {
             "color": "#2a3f5f"
            },
            "error_y": {
             "color": "#2a3f5f"
            },
            "marker": {
             "line": {
              "color": "#E5ECF6",
              "width": 0.5
             },
             "pattern": {
              "fillmode": "overlay",
              "size": 10,
              "solidity": 0.2
             }
            },
            "type": "bar"
           }
          ],
          "barpolar": [
           {
            "marker": {
             "line": {
              "color": "#E5ECF6",
              "width": 0.5
             },
             "pattern": {
              "fillmode": "overlay",
              "size": 10,
              "solidity": 0.2
             }
            },
            "type": "barpolar"
           }
          ],
          "carpet": [
           {
            "aaxis": {
             "endlinecolor": "#2a3f5f",
             "gridcolor": "white",
             "linecolor": "white",
             "minorgridcolor": "white",
             "startlinecolor": "#2a3f5f"
            },
            "baxis": {
             "endlinecolor": "#2a3f5f",
             "gridcolor": "white",
             "linecolor": "white",
             "minorgridcolor": "white",
             "startlinecolor": "#2a3f5f"
            },
            "type": "carpet"
           }
          ],
          "choropleth": [
           {
            "colorbar": {
             "outlinewidth": 0,
             "ticks": ""
            },
            "type": "choropleth"
           }
          ],
          "contour": [
           {
            "colorbar": {
             "outlinewidth": 0,
             "ticks": ""
            },
            "colorscale": [
             [
              0,
              "#0d0887"
             ],
             [
              0.1111111111111111,
              "#46039f"
             ],
             [
              0.2222222222222222,
              "#7201a8"
             ],
             [
              0.3333333333333333,
              "#9c179e"
             ],
             [
              0.4444444444444444,
              "#bd3786"
             ],
             [
              0.5555555555555556,
              "#d8576b"
             ],
             [
              0.6666666666666666,
              "#ed7953"
             ],
             [
              0.7777777777777778,
              "#fb9f3a"
             ],
             [
              0.8888888888888888,
              "#fdca26"
             ],
             [
              1,
              "#f0f921"
             ]
            ],
            "type": "contour"
           }
          ],
          "contourcarpet": [
           {
            "colorbar": {
             "outlinewidth": 0,
             "ticks": ""
            },
            "type": "contourcarpet"
           }
          ],
          "heatmap": [
           {
            "colorbar": {
             "outlinewidth": 0,
             "ticks": ""
            },
            "colorscale": [
             [
              0,
              "#0d0887"
             ],
             [
              0.1111111111111111,
              "#46039f"
             ],
             [
              0.2222222222222222,
              "#7201a8"
             ],
             [
              0.3333333333333333,
              "#9c179e"
             ],
             [
              0.4444444444444444,
              "#bd3786"
             ],
             [
              0.5555555555555556,
              "#d8576b"
             ],
             [
              0.6666666666666666,
              "#ed7953"
             ],
             [
              0.7777777777777778,
              "#fb9f3a"
             ],
             [
              0.8888888888888888,
              "#fdca26"
             ],
             [
              1,
              "#f0f921"
             ]
            ],
            "type": "heatmap"
           }
          ],
          "heatmapgl": [
           {
            "colorbar": {
             "outlinewidth": 0,
             "ticks": ""
            },
            "colorscale": [
             [
              0,
              "#0d0887"
             ],
             [
              0.1111111111111111,
              "#46039f"
             ],
             [
              0.2222222222222222,
              "#7201a8"
             ],
             [
              0.3333333333333333,
              "#9c179e"
             ],
             [
              0.4444444444444444,
              "#bd3786"
             ],
             [
              0.5555555555555556,
              "#d8576b"
             ],
             [
              0.6666666666666666,
              "#ed7953"
             ],
             [
              0.7777777777777778,
              "#fb9f3a"
             ],
             [
              0.8888888888888888,
              "#fdca26"
             ],
             [
              1,
              "#f0f921"
             ]
            ],
            "type": "heatmapgl"
           }
          ],
          "histogram": [
           {
            "marker": {
             "pattern": {
              "fillmode": "overlay",
              "size": 10,
              "solidity": 0.2
             }
            },
            "type": "histogram"
           }
          ],
          "histogram2d": [
           {
            "colorbar": {
             "outlinewidth": 0,
             "ticks": ""
            },
            "colorscale": [
             [
              0,
              "#0d0887"
             ],
             [
              0.1111111111111111,
              "#46039f"
             ],
             [
              0.2222222222222222,
              "#7201a8"
             ],
             [
              0.3333333333333333,
              "#9c179e"
             ],
             [
              0.4444444444444444,
              "#bd3786"
             ],
             [
              0.5555555555555556,
              "#d8576b"
             ],
             [
              0.6666666666666666,
              "#ed7953"
             ],
             [
              0.7777777777777778,
              "#fb9f3a"
             ],
             [
              0.8888888888888888,
              "#fdca26"
             ],
             [
              1,
              "#f0f921"
             ]
            ],
            "type": "histogram2d"
           }
          ],
          "histogram2dcontour": [
           {
            "colorbar": {
             "outlinewidth": 0,
             "ticks": ""
            },
            "colorscale": [
             [
              0,
              "#0d0887"
             ],
             [
              0.1111111111111111,
              "#46039f"
             ],
             [
              0.2222222222222222,
              "#7201a8"
             ],
             [
              0.3333333333333333,
              "#9c179e"
             ],
             [
              0.4444444444444444,
              "#bd3786"
             ],
             [
              0.5555555555555556,
              "#d8576b"
             ],
             [
              0.6666666666666666,
              "#ed7953"
             ],
             [
              0.7777777777777778,
              "#fb9f3a"
             ],
             [
              0.8888888888888888,
              "#fdca26"
             ],
             [
              1,
              "#f0f921"
             ]
            ],
            "type": "histogram2dcontour"
           }
          ],
          "mesh3d": [
           {
            "colorbar": {
             "outlinewidth": 0,
             "ticks": ""
            },
            "type": "mesh3d"
           }
          ],
          "parcoords": [
           {
            "line": {
             "colorbar": {
              "outlinewidth": 0,
              "ticks": ""
             }
            },
            "type": "parcoords"
           }
          ],
          "pie": [
           {
            "automargin": true,
            "type": "pie"
           }
          ],
          "scatter": [
           {
            "marker": {
             "colorbar": {
              "outlinewidth": 0,
              "ticks": ""
             }
            },
            "type": "scatter"
           }
          ],
          "scatter3d": [
           {
            "line": {
             "colorbar": {
              "outlinewidth": 0,
              "ticks": ""
             }
            },
            "marker": {
             "colorbar": {
              "outlinewidth": 0,
              "ticks": ""
             }
            },
            "type": "scatter3d"
           }
          ],
          "scattercarpet": [
           {
            "marker": {
             "colorbar": {
              "outlinewidth": 0,
              "ticks": ""
             }
            },
            "type": "scattercarpet"
           }
          ],
          "scattergeo": [
           {
            "marker": {
             "colorbar": {
              "outlinewidth": 0,
              "ticks": ""
             }
            },
            "type": "scattergeo"
           }
          ],
          "scattergl": [
           {
            "marker": {
             "colorbar": {
              "outlinewidth": 0,
              "ticks": ""
             }
            },
            "type": "scattergl"
           }
          ],
          "scattermapbox": [
           {
            "marker": {
             "colorbar": {
              "outlinewidth": 0,
              "ticks": ""
             }
            },
            "type": "scattermapbox"
           }
          ],
          "scatterpolar": [
           {
            "marker": {
             "colorbar": {
              "outlinewidth": 0,
              "ticks": ""
             }
            },
            "type": "scatterpolar"
           }
          ],
          "scatterpolargl": [
           {
            "marker": {
             "colorbar": {
              "outlinewidth": 0,
              "ticks": ""
             }
            },
            "type": "scatterpolargl"
           }
          ],
          "scatterternary": [
           {
            "marker": {
             "colorbar": {
              "outlinewidth": 0,
              "ticks": ""
             }
            },
            "type": "scatterternary"
           }
          ],
          "surface": [
           {
            "colorbar": {
             "outlinewidth": 0,
             "ticks": ""
            },
            "colorscale": [
             [
              0,
              "#0d0887"
             ],
             [
              0.1111111111111111,
              "#46039f"
             ],
             [
              0.2222222222222222,
              "#7201a8"
             ],
             [
              0.3333333333333333,
              "#9c179e"
             ],
             [
              0.4444444444444444,
              "#bd3786"
             ],
             [
              0.5555555555555556,
              "#d8576b"
             ],
             [
              0.6666666666666666,
              "#ed7953"
             ],
             [
              0.7777777777777778,
              "#fb9f3a"
             ],
             [
              0.8888888888888888,
              "#fdca26"
             ],
             [
              1,
              "#f0f921"
             ]
            ],
            "type": "surface"
           }
          ],
          "table": [
           {
            "cells": {
             "fill": {
              "color": "#EBF0F8"
             },
             "line": {
              "color": "white"
             }
            },
            "header": {
             "fill": {
              "color": "#C8D4E3"
             },
             "line": {
              "color": "white"
             }
            },
            "type": "table"
           }
          ]
         },
         "layout": {
          "annotationdefaults": {
           "arrowcolor": "#2a3f5f",
           "arrowhead": 0,
           "arrowwidth": 1
          },
          "autotypenumbers": "strict",
          "coloraxis": {
           "colorbar": {
            "outlinewidth": 0,
            "ticks": ""
           }
          },
          "colorscale": {
           "diverging": [
            [
             0,
             "#8e0152"
            ],
            [
             0.1,
             "#c51b7d"
            ],
            [
             0.2,
             "#de77ae"
            ],
            [
             0.3,
             "#f1b6da"
            ],
            [
             0.4,
             "#fde0ef"
            ],
            [
             0.5,
             "#f7f7f7"
            ],
            [
             0.6,
             "#e6f5d0"
            ],
            [
             0.7,
             "#b8e186"
            ],
            [
             0.8,
             "#7fbc41"
            ],
            [
             0.9,
             "#4d9221"
            ],
            [
             1,
             "#276419"
            ]
           ],
           "sequential": [
            [
             0,
             "#0d0887"
            ],
            [
             0.1111111111111111,
             "#46039f"
            ],
            [
             0.2222222222222222,
             "#7201a8"
            ],
            [
             0.3333333333333333,
             "#9c179e"
            ],
            [
             0.4444444444444444,
             "#bd3786"
            ],
            [
             0.5555555555555556,
             "#d8576b"
            ],
            [
             0.6666666666666666,
             "#ed7953"
            ],
            [
             0.7777777777777778,
             "#fb9f3a"
            ],
            [
             0.8888888888888888,
             "#fdca26"
            ],
            [
             1,
             "#f0f921"
            ]
           ],
           "sequentialminus": [
            [
             0,
             "#0d0887"
            ],
            [
             0.1111111111111111,
             "#46039f"
            ],
            [
             0.2222222222222222,
             "#7201a8"
            ],
            [
             0.3333333333333333,
             "#9c179e"
            ],
            [
             0.4444444444444444,
             "#bd3786"
            ],
            [
             0.5555555555555556,
             "#d8576b"
            ],
            [
             0.6666666666666666,
             "#ed7953"
            ],
            [
             0.7777777777777778,
             "#fb9f3a"
            ],
            [
             0.8888888888888888,
             "#fdca26"
            ],
            [
             1,
             "#f0f921"
            ]
           ]
          },
          "colorway": [
           "#636efa",
           "#EF553B",
           "#00cc96",
           "#ab63fa",
           "#FFA15A",
           "#19d3f3",
           "#FF6692",
           "#B6E880",
           "#FF97FF",
           "#FECB52"
          ],
          "font": {
           "color": "#2a3f5f"
          },
          "geo": {
           "bgcolor": "white",
           "lakecolor": "white",
           "landcolor": "#E5ECF6",
           "showlakes": true,
           "showland": true,
           "subunitcolor": "white"
          },
          "hoverlabel": {
           "align": "left"
          },
          "hovermode": "closest",
          "mapbox": {
           "style": "light"
          },
          "paper_bgcolor": "white",
          "plot_bgcolor": "#E5ECF6",
          "polar": {
           "angularaxis": {
            "gridcolor": "white",
            "linecolor": "white",
            "ticks": ""
           },
           "bgcolor": "#E5ECF6",
           "radialaxis": {
            "gridcolor": "white",
            "linecolor": "white",
            "ticks": ""
           }
          },
          "scene": {
           "xaxis": {
            "backgroundcolor": "#E5ECF6",
            "gridcolor": "white",
            "gridwidth": 2,
            "linecolor": "white",
            "showbackground": true,
            "ticks": "",
            "zerolinecolor": "white"
           },
           "yaxis": {
            "backgroundcolor": "#E5ECF6",
            "gridcolor": "white",
            "gridwidth": 2,
            "linecolor": "white",
            "showbackground": true,
            "ticks": "",
            "zerolinecolor": "white"
           },
           "zaxis": {
            "backgroundcolor": "#E5ECF6",
            "gridcolor": "white",
            "gridwidth": 2,
            "linecolor": "white",
            "showbackground": true,
            "ticks": "",
            "zerolinecolor": "white"
           }
          },
          "shapedefaults": {
           "line": {
            "color": "#2a3f5f"
           }
          },
          "ternary": {
           "aaxis": {
            "gridcolor": "white",
            "linecolor": "white",
            "ticks": ""
           },
           "baxis": {
            "gridcolor": "white",
            "linecolor": "white",
            "ticks": ""
           },
           "bgcolor": "#E5ECF6",
           "caxis": {
            "gridcolor": "white",
            "linecolor": "white",
            "ticks": ""
           }
          },
          "title": {
           "x": 0.05
          },
          "xaxis": {
           "automargin": true,
           "gridcolor": "white",
           "linecolor": "white",
           "ticks": "",
           "title": {
            "standoff": 15
           },
           "zerolinecolor": "white",
           "zerolinewidth": 2
          },
          "yaxis": {
           "automargin": true,
           "gridcolor": "white",
           "linecolor": "white",
           "ticks": "",
           "title": {
            "standoff": 15
           },
           "zerolinecolor": "white",
           "zerolinewidth": 2
          }
         }
        },
        "width": 800
       }
      },
      "text/html": [
       "<div>                            <div id=\"3d1d4daa-0a33-4511-b729-0e7f99c7a585\" class=\"plotly-graph-div\" style=\"height:525px; width:800px;\"></div>            <script type=\"text/javascript\">                require([\"plotly\"], function(Plotly) {                    window.PLOTLYENV=window.PLOTLYENV || {};                                    if (document.getElementById(\"3d1d4daa-0a33-4511-b729-0e7f99c7a585\")) {                    Plotly.newPlot(                        \"3d1d4daa-0a33-4511-b729-0e7f99c7a585\",                        [{\"customdata\":[[\"Scrypt\"],[\"Scrypt\"],[\"X13\"],[\"SHA-256\"],[\"Ethash\"],[\"Scrypt\"],[\"X11\"],[\"CryptoNight-V7\"],[\"Ethash\"],[\"Equihash\"],[\"SHA-512\"],[\"Multiple\"],[\"SHA-256\"],[\"SHA-256\"],[\"Scrypt\"],[\"X15\"],[\"X11\"],[\"Scrypt\"],[\"Scrypt\"],[\"Scrypt\"],[\"Multiple\"],[\"Scrypt\"],[\"SHA-256\"],[\"Scrypt\"],[\"Scrypt\"],[\"Scrypt\"],[\"Quark\"],[\"Groestl\"],[\"Scrypt\"],[\"Scrypt\"],[\"Scrypt\"],[\"Scrypt\"],[\"Scrypt\"],[\"X11\"],[\"Scrypt\"],[\"Groestl\"],[\"Multiple\"],[\"SHA-256\"],[\"Scrypt\"],[\"Scrypt\"],[\"Scrypt\"],[\"Scrypt\"],[\"PoS\"],[\"Scrypt\"],[\"Scrypt\"],[\"NeoScrypt\"],[\"Scrypt\"],[\"Scrypt\"],[\"Scrypt\"],[\"Scrypt\"],[\"X11\"],[\"Scrypt\"],[\"X11\"],[\"SHA-256\"],[\"Scrypt\"],[\"Scrypt\"],[\"Scrypt\"],[\"SHA3\"],[\"Scrypt\"],[\"HybridScryptHash256\"],[\"Scrypt\"],[\"Scrypt\"],[\"SHA-256\"],[\"Scrypt\"],[\"X13\"],[\"Scrypt\"],[\"SHA-256\"],[\"Scrypt\"],[\"X13\"],[\"NeoScrypt\"],[\"Scrypt\"],[\"Scrypt\"],[\"Scrypt\"],[\"Scrypt\"],[\"Scrypt\"],[\"Scrypt\"],[\"X11\"],[\"X11\"],[\"SHA-256\"],[\"Multiple\"],[\"SHA-256\"],[\"PHI1612\"],[\"X11\"],[\"SHA-256\"],[\"SHA-256\"],[\"SHA-256\"],[\"X11\"],[\"Scrypt\"],[\"Scrypt\"],[\"Scrypt\"],[\"Scrypt\"],[\"Lyra2REv2\"],[\"Scrypt\"],[\"X11\"],[\"Multiple\"],[\"SHA-256\"],[\"X13\"],[\"Scrypt\"],[\"CryptoNight\"],[\"CryptoNight\"],[\"Shabal256\"],[\"Counterparty\"],[\"Scrypt\"],[\"SHA-256\"],[\"Groestl\"],[\"Scrypt\"],[\"Scrypt\"],[\"Scrypt\"],[\"X13\"],[\"Scrypt\"],[\"Scrypt\"],[\"Scrypt\"],[\"Scrypt\"],[\"X13\"],[\"Scrypt\"],[\"Stanford Folding\"],[\"X11\"],[\"Multiple\"],[\"QuBit\"],[\"Scrypt\"],[\"Scrypt\"],[\"Scrypt\"],[\"M7 POW\"],[\"Scrypt\"],[\"SHA-256\"],[\"Scrypt\"],[\"X11\"],[\"SHA3\"],[\"X11\"],[\"Lyra2RE\"],[\"SHA-256\"],[\"QUAIT\"],[\"X11\"],[\"X11\"],[\"Scrypt\"],[\"Scrypt\"],[\"Scrypt\"],[\"Ethash\"],[\"X13\"],[\"Blake2b\"],[\"SHA-256\"],[\"X15\"],[\"X11\"],[\"SHA-256\"],[\"BLAKE256\"],[\"Scrypt\"],[\"1GB AES Pattern Search\"],[\"SHA-256\"],[\"X11\"],[\"Scrypt\"],[\"SHA-256\"],[\"SHA-256\"],[\"NIST5\"],[\"Scrypt\"],[\"Scrypt\"],[\"X11\"],[\"Dagger\"],[\"Scrypt\"],[\"X11GOST\"],[\"X11\"],[\"Scrypt\"],[\"SHA-256\"],[\"Scrypt\"],[\"PoS\"],[\"Scrypt\"],[\"X11\"],[\"X11\"],[\"SHA-256\"],[\"SHA-256\"],[\"NIST5\"],[\"X11\"],[\"Scrypt\"],[\"POS 3.0\"],[\"Scrypt\"],[\"Scrypt\"],[\"Scrypt\"],[\"X13\"],[\"X11\"],[\"X11\"],[\"Equihash\"],[\"X11\"],[\"Scrypt\"],[\"CryptoNight\"],[\"SHA-256\"],[\"SHA-256\"],[\"X11\"],[\"Scrypt\"],[\"Multiple\"],[\"Scrypt\"],[\"Scrypt\"],[\"Scrypt\"],[\"SHA-256\"],[\"Scrypt\"],[\"Scrypt\"],[\"SHA-256D\"],[\"PoS\"],[\"Scrypt\"],[\"X11\"],[\"Lyra2Z\"],[\"PoS\"],[\"X13\"],[\"X14\"],[\"PoS\"],[\"SHA-256D\"],[\"Ethash\"],[\"Equihash\"],[\"DPoS\"],[\"X11\"],[\"Scrypt\"],[\"X11\"],[\"X13\"],[\"X11\"],[\"PoS\"],[\"Scrypt\"],[\"Scrypt\"],[\"X11\"],[\"PoS\"],[\"X11\"],[\"SHA-256\"],[\"Scrypt\"],[\"X11\"],[\"Scrypt\"],[\"Scrypt\"],[\"X11\"],[\"CryptoNight\"],[\"Scrypt\"],[\"Scrypt\"],[\"Scrypt\"],[\"Scrypt\"],[\"Quark\"],[\"QuBit\"],[\"Scrypt\"],[\"CryptoNight\"],[\"Lyra2RE\"],[\"Scrypt\"],[\"SHA-256\"],[\"X11\"],[\"Scrypt\"],[\"X11\"],[\"Scrypt\"],[\"CryptoNight-V7\"],[\"Scrypt\"],[\"Scrypt\"],[\"Scrypt\"],[\"X13\"],[\"X11\"],[\"Equihash\"],[\"Scrypt\"],[\"Scrypt\"],[\"Lyra2RE\"],[\"Scrypt\"],[\"Dagger-Hashimoto\"],[\"X11\"],[\"Blake2S\"],[\"X11\"],[\"Scrypt\"],[\"PoS\"],[\"X11\"],[\"NIST5\"],[\"PoS\"],[\"X11\"],[\"Scrypt\"],[\"Scrypt\"],[\"Scrypt\"],[\"SHA-256\"],[\"X11\"],[\"Scrypt\"],[\"Scrypt\"],[\"SHA-256\"],[\"PoS\"],[\"Scrypt\"],[\"X15\"],[\"SHA-256\"],[\"Scrypt\"],[\"POS 3.0\"],[\"CryptoNight-V7\"],[\"536\"],[\"Argon2d\"],[\"Blake2b\"],[\"Cloverhash\"],[\"CryptoNight\"],[\"NIST5\"],[\"X11\"],[\"NIST5\"],[\"Skein\"],[\"Scrypt\"],[\"X13\"],[\"Scrypt\"],[\"X11\"],[\"X11\"],[\"Scrypt\"],[\"CryptoNight\"],[\"X13\"],[\"Time Travel\"],[\"Scrypt\"],[\"Keccak\"],[\"SkunkHash v2 Raptor\"],[\"X11\"],[\"Skein\"],[\"SHA-256\"],[\"X11\"],[\"Scrypt\"],[\"Scrypt\"],[\"PoS\"],[\"Scrypt\"],[\"Scrypt\"],[\"Scrypt\"],[\"Scrypt\"],[\"Scrypt\"],[\"Scrypt\"],[\"Scrypt\"],[\"CryptoNight\"],[\"SHA-512\"],[\"Ouroboros\"],[\"X11\"],[\"Equihash\"],[\"NeoScrypt\"],[\"X11\"],[\"Scrypt\"],[\"NeoScrypt\"],[\"Lyra2REv2\"],[\"Equihash\"],[\"Scrypt\"],[\"SHA-256\"],[\"NIST5\"],[\"PHI1612\"],[\"Dagger\"],[\"Scrypt\"],[\"Quark\"],[\"Scrypt\"],[\"POS 2.0\"],[\"Scrypt\"],[\"SHA-256\"],[\"X11\"],[\"NeoScrypt\"],[\"Ethash\"],[\"NeoScrypt\"],[\"X11\"],[\"DPoS\"],[\"NIST5\"],[\"X13\"],[\"Multiple\"],[\"Scrypt\"],[\"CryptoNight\"],[\"CryptoNight\"],[\"Ethash\"],[\"NIST5\"],[\"Quark\"],[\"X11\"],[\"CryptoNight-V7\"],[\"Scrypt\"],[\"Scrypt\"],[\"Scrypt\"],[\"X11\"],[\"BLAKE256\"],[\"X11\"],[\"NeoScrypt\"],[\"Quark\"],[\"NeoScrypt\"],[\"Scrypt\"],[\"Scrypt\"],[\"Scrypt\"],[\"X11\"],[\"X11\"],[\"SHA-256\"],[\"C11\"],[\"POS 3.0\"],[\"Ethash\"],[\"Scrypt\"],[\"CryptoNight\"],[\"SkunkHash\"],[\"Scrypt\"],[\"CryptoNight\"],[\"Scrypt\"],[\"Dagger\"],[\"Lyra2REv2\"],[\"X13\"],[\"Proof-of-BibleHash\"],[\"Scrypt\"],[\"Scrypt\"],[\"X11\"],[\"C11\"],[\"X11\"],[\"XEVAN\"],[\"Scrypt\"],[\"VBFT\"],[\"Ethash\"],[\"CryptoNight\"],[\"Scrypt\"],[\"IMesh\"],[\"NIST5\"],[\"Scrypt\"],[\"Scrypt\"],[\"Equihash\"],[\"Scrypt\"],[\"Lyra2Z\"],[\"Green Protocol\"],[\"PoS\"],[\"Scrypt\"],[\"Semux BFT consensus\"],[\"X11\"],[\"Quark\"],[\"PoS\"],[\"CryptoNight\"],[\"X16R\"],[\"Scrypt\"],[\"NIST5\"],[\"Lyra2RE\"],[\"XEVAN\"],[\"Tribus\"],[\"Scrypt\"],[\"Lyra2Z\"],[\"CryptoNight\"],[\"CryptoNight Heavy\"],[\"CryptoNight\"],[\"Scrypt\"],[\"Scrypt\"],[\"Jump Consistent Hash\"],[\"SHA-256D\"],[\"CryptoNight\"],[\"Scrypt\"],[\"X15\"],[\"Scrypt\"],[\"Quark\"],[\"SHA-256\"],[\"DPoS\"],[\"X16R\"],[\"HMQ1725\"],[\"X11\"],[\"X16R\"],[\"Quark\"],[\"Quark\"],[\"Scrypt\"],[\"Lyra2REv2\"],[\"Quark\"],[\"Scrypt\"],[\"Scrypt\"],[\"CryptoNight-V7\"],[\"Cryptonight-GPU\"],[\"XEVAN\"],[\"CryptoNight Heavy\"],[\"X11\"],[\"X11\"],[\"Scrypt\"],[\"PoS\"],[\"SHA-256\"],[\"Keccak\"],[\"X11\"],[\"X11\"],[\"Scrypt\"],[\"SHA-512\"],[\"X16R\"],[\"ECC 256K1\"],[\"Equihash\"],[\"XEVAN\"],[\"Lyra2Z\"],[\"SHA-256\"],[\"XEVAN\"],[\"X11\"],[\"CryptoNight\"],[\"Quark\"],[\"Blake\"],[\"Blake\"],[\"Equihash\"],[\"Exosis\"],[\"Scrypt\"],[\"Scrypt\"],[\"Equihash\"],[\"Quark\"],[\"Equihash\"],[\"Quark\"],[\"Scrypt\"],[\"QuBit\"],[\"X11\"],[\"Scrypt\"],[\"XEVAN\"],[\"SHA-256D\"],[\"X11\"],[\"SHA-256\"],[\"X13\"],[\"SHA-256\"],[\"X11\"],[\"DPoS\"],[\"Scrypt\"],[\"Scrypt\"],[\"X11\"],[\"NeoScrypt\"],[\"Scrypt\"],[\"Blake\"],[\"Scrypt\"],[\"SHA-256\"],[\"Scrypt\"],[\"X11\"],[\"Scrypt\"],[\"Scrypt\"],[\"SHA-256\"],[\"X11\"],[\"SHA-256\"],[\"Scrypt\"],[\"Scrypt\"],[\"Scrypt\"],[\"Groestl\"],[\"X11\"],[\"Scrypt\"],[\"PoS\"],[\"Scrypt\"],[\"Scrypt\"],[\"X11\"],[\"SHA-256\"],[\"DPoS\"],[\"Scrypt\"],[\"Scrypt\"],[\"NeoScrypt\"],[\"Multiple\"],[\"X13\"],[\"Equihash+Scrypt\"],[\"DPoS\"],[\"Ethash\"],[\"DPoS\"],[\"SHA-256\"],[\"Leased POS\"],[\"PoS\"],[\"PoS\"],[\"SHA-256\"],[\"Scrypt\"],[\"CryptoNight\"],[\"Equihash\"],[\"Scrypt\"]],\"hovertemplate\":\"<b>%{hovertext}</b><br><br>Class=%{marker.color}<br>PC1=%{x}<br>PC2=%{y}<br>PC3=%{z}<br>Algorithm=%{customdata[0]}<extra></extra>\",\"hovertext\":[\"42 Coin\",\"404Coin\",\"EliteCoin\",\"Bitcoin\",\"Ethereum\",\"Litecoin\",\"Dash\",\"Monero\",\"Ethereum Classic\",\"ZCash\",\"Bitshares\",\"DigiByte\",\"BitcoinDark\",\"PayCoin\",\"ProsperCoin\",\"KoboCoin\",\"Spreadcoin\",\"Argentum\",\"Aurora Coin\",\"BlueCoin\",\"MyriadCoin\",\"MoonCoin\",\"ZetaCoin\",\"SexCoin\",\"Quatloo\",\"EnergyCoin\",\"QuarkCoin\",\"Riecoin\",\"Digitalcoin \",\"BitBar\",\"Catcoin\",\"CryptoBullion\",\"CannaCoin\",\"CryptCoin\",\"CasinoCoin\",\"Diamond\",\"Verge\",\"DevCoin\",\"EarthCoin\",\"E-Gulden\",\"Einsteinium\",\"Emerald\",\"Exclusive Coin\",\"FlutterCoin\",\"Franko\",\"FeatherCoin\",\"GrandCoin\",\"GlobalCoin\",\"GoldCoin\",\"HoboNickels\",\"HyperStake\",\"Infinite Coin\",\"IOCoin\",\"IXcoin\",\"KrugerCoin\",\"LuckyCoin\",\"Litebar \",\"MaxCoin\",\"MegaCoin\",\"MediterraneanCoin\",\"MintCoin\",\"MinCoin\",\"MazaCoin\",\"Nautilus Coin\",\"NavCoin\",\"NobleCoin\",\"Namecoin\",\"NyanCoin\",\"OpalCoin\",\"Orbitcoin\",\"PotCoin\",\"PhoenixCoin\",\"Reddcoin\",\"RonPaulCoin\",\"StableCoin\",\"SmartCoin\",\"SuperCoin\",\"SyncCoin\",\"SysCoin\",\"TeslaCoin\",\"TigerCoin\",\"TittieCoin\",\"TorCoin\",\"TerraCoin\",\"UnbreakableCoin\",\"Unobtanium\",\"UroCoin\",\"UnitaryStatus Dollar\",\"UltraCoin\",\"ViaCoin\",\"VeriCoin\",\"Vertcoin\",\"WorldCoin\",\"X11 Coin\",\"Crypti\",\"JouleCoin\",\"StealthCoin\",\"ZCC Coin\",\"ByteCoin\",\"DigitalNote \",\"BurstCoin\",\"StorjCoin\",\"MonaCoin\",\"Neutron\",\"FairCoin\",\"Gulden\",\"RubyCoin\",\"PesetaCoin\",\"Kore\",\"Wild Beast Coin\",\"Dnotes\",\"Flo\",\"8BIT Coin\",\"Sativa Coin\",\"ArtByte\",\"Folding Coin\",\"Ucoin\",\"Unitus\",\"CypherPunkCoin\",\"OmniCron\",\"Vtorrent\",\"GreenCoin\",\"Cryptonite\",\"MasterCoin\",\"SoonCoin\",\"1Credit\",\"IslaCoin\",\"Nexus\",\"MarsCoin \",\"Crypto\",\"Anarchists Prime\",\"Droidz\",\"BowsCoin\",\"Squall Coin\",\"Song Coin\",\"BitZeny\",\"Diggits\",\"Expanse\",\"Paycon\",\"Siacoin\",\"Emercoin\",\"EverGreenCoin\",\"MindCoin\",\"I0coin\",\"Decred\",\"Revolution VR\",\"HOdlcoin\",\"EDRCoin\",\"Hitcoin\",\"Gamecredits\",\"DubaiCoin\",\"CarpeDiemCoin\",\"PWR Coin\",\"BillaryCoin\",\"GPU Coin\",\"Adzcoin\",\"SoilCoin\",\"YoCoin\",\"SibCoin\",\"EuropeCoin\",\"ZeitCoin\",\"SwingCoin\",\"SafeExchangeCoin\",\"Nebuchadnezzar\",\"Francs\",\"BolivarCoin\",\"Ratecoin\",\"Revenu\",\"Clockcoin\",\"VIP Tokens\",\"BitSend\",\"Omni\",\"Let it Ride\",\"PutinCoin\",\"iBankCoin\",\"Frankywillcoin\",\"MudraCoin\",\"PizzaCoin\",\"Lutetium Coin\",\"Komodo\",\"GoldBlocks\",\"CarterCoin\",\"Karbo\",\"BitTokens\",\"ZayedCoin\",\"MustangCoin\",\"ZoneCoin\",\"Circuits of Value\",\"RootCoin\",\"DopeCoin\",\"BitCurrency\",\"DollarCoin\",\"Swiscoin\",\"Shilling\",\"BuzzCoin\",\"Opair\",\"PesoBit\",\"Halloween Coin\",\"ZCoin\",\"CoffeeCoin\",\"RoyalCoin\",\"GanjaCoin V2\",\"TeamUP\",\"LanaCoin\",\"Elementrem\",\"ZClassic\",\"ARK\",\"InsaneCoin\",\"KiloCoin\",\"ArtexCoin\",\"EmberCoin\",\"XenixCoin\",\"FreeCoin\",\"PLNCoin\",\"AquariusCoin\",\"Kurrent\",\"Creatio\",\"Eternity\",\"Eurocoin\",\"BitcoinFast\",\"Stakenet\",\"BitConnect Coin\",\"MoneyCoin\",\"Enigma\",\"Cannabis Industry Coin\",\"Russiacoin\",\"PandaCoin\",\"GameUnits\",\"GAKHcoin\",\"Allsafe\",\"LiteCreed\",\"OsmiumCoin\",\"Bikercoins\",\"HexxCoin\",\"Klingon Empire Darsek\",\"Internet of People\",\"KushCoin\",\"Printerium\",\"PacCoin\",\"Impeach\",\"Citadel\",\"Zilbercoin\",\"FirstCoin\",\"BeaverCoin\",\"FindCoin\",\"VaultCoin\",\"Zero\",\"OpenChat\",\"Canada eCoin\",\"Zoin\",\"RenosCoin\",\"DubaiCoin\",\"VirtacoinPlus\",\"TajCoin\",\"Impact\",\"EB3coin\",\"Atmos\",\"HappyCoin\",\"Coinonat\",\"MacronCoin\",\"Condensate\",\"Independent Money System\",\"ArgusCoin\",\"LomoCoin\",\"ProCurrency\",\"GoldReserve\",\"BenjiRolls\",\"GrowthCoin\",\"ILCoin\",\"Phreak\",\"Degas Coin\",\"HTML5 Coin\",\"Ultimate Secure Cash\",\"EquiTrader\",\"QTUM\",\"Quantum Resistant Ledger\",\"Espers\",\"Dynamic\",\"Nano\",\"ChanCoin\",\"Dinastycoin\",\"Denarius\",\"DigitalPrice\",\"Virta Unique Coin\",\"Bitcoin Planet\",\"Unify\",\"BritCoin\",\"SocialCoin\",\"ArcticCoin\",\"DAS\",\"Linda\",\"LeviarCoin\",\"DeepOnion\",\"Bitcore\",\"gCn Coin\",\"SmartCash\",\"Signatum\",\"Onix\",\"Cream\",\"Bitcoin Cash\",\"Monoeci\",\"Draftcoin\",\"Sojourn Coin\",\"Stakecoin\",\"NewYorkCoin\",\"FrazCoin\",\"Kronecoin\",\"AdCoin\",\"Linx\",\"CoinonatX\",\"Ethereum Dark\",\"Sumokoin\",\"Obsidian\",\"Cardano\",\"Regalcoin\",\"BitcoinZ\",\"TrezarCoin\",\"Elements\",\"TerraNovaCoin\",\"VIVO Coin\",\"Rupee\",\"Bitcoin Gold\",\"WomenCoin\",\"Theresa May Coin\",\"NamoCoin\",\"LUXCoin\",\"Pirl\",\"Xios\",\"Bitcloud 2.0\",\"eBoost\",\"KekCoin\",\"BlackholeCoin\",\"Infinity Economics\",\"Pura\",\"Innova\",\"Ellaism\",\"GoByte\",\"Magnet\",\"Lamden Tau\",\"Electra\",\"Bitcoin Diamond\",\"SHIELD\",\"Cash & Back Coin\",\"UltraNote\",\"BitCoal\",\"DaxxCoin\",\"Bulwark\",\"Kalkulus\",\"AC3\",\"Lethean\",\"GermanCoin\",\"LiteCoin Ultra\",\"PopularCoin\",\"PhantomX\",\"Photon\",\"Sucre\",\"SparksPay\",\"Digiwage\",\"GunCoin\",\"IrishCoin\",\"Trollcoin\",\"Litecoin Plus\",\"Monkey Project\",\"Pioneer Coin\",\"UnitedBitcoin\",\"Interzone\",\"TokenPay\",\"1717 Masonic Commemorative Token\",\"My Big Coin\",\"TurtleCoin\",\"MUNcoin\",\"Unified Society USDEX\",\"Niobio Cash\",\"ShareChain\",\"Travelflex\",\"KREDS\",\"Tokyo Coin\",\"BiblePay\",\"BitFlip\",\"LottoCoin\",\"Crypto Improvement Fund\",\"Stipend\",\"Pushi\",\"Ellerium\",\"Velox\",\"Ontology\",\"Callisto Network\",\"BitTube\",\"Poseidon\",\"Aidos Kuneen\",\"Bitspace\",\"Briacoin\",\"Ignition\",\"Bitrolium\",\"MedicCoin\",\"Alpenschillling\",\"Bitcoin Green\",\"Deviant Coin\",\"Abjcoin\",\"Semux\",\"FuturoCoin\",\"Carebit\",\"Zealium\",\"Monero Classic\",\"Proton\",\"iDealCash\",\"Jumpcoin\",\"Infinex\",\"Bitcoin Incognito\",\"KEYCO\",\"HollyWoodCoin\",\"GINcoin\",\"PlatinCoin\",\"Loki\",\"Newton Coin\",\"Swisscoin\",\"Xt3ch\",\"MassGrid\",\"TheVig\",\"PluraCoin\",\"EmaratCoin\",\"Dekado\",\"Lynx\",\"Poseidon Quark\",\"BitcoinWSpectrum\",\"Muse\",\"Motion\",\"PlusOneCoin\",\"Axe\",\"Trivechain\",\"Dystem\",\"Giant\",\"Peony Coin\",\"Absolute Coin\",\"Vitae\",\"HexCoin\",\"TPCash\",\"Webchain\",\"Ryo\",\"Urals Coin\",\"Qwertycoin\",\"ARENON\",\"EUNO\",\"MMOCoin\",\"Ketan\",\"Project Pai\",\"XDNA\",\"PAXEX\",\"Azart\",\"ThunderStake\",\"Kcash\",\"Xchange\",\"Acute Angle Cloud\",\"CrypticCoin\",\"Bettex coin\",\"Actinium\",\"Bitcoin SV\",\"BitMoney\",\"Junson Ming Chan Coin\",\"FREDEnergy\",\"HerbCoin\",\"Universal Molecule\",\"Lithium\",\"PirateCash\",\"Exosis\",\"Block-Logic\",\"Oduwa\",\"Beam\",\"Galilel\",\"Bithereum\",\"Crypto Sports\",\"Credit\",\"SLICE\",\"Dash Platinum\",\"Nasdacoin\",\"Beetle Coin\",\"Titan Coin\",\"Award\",\"BLAST\",\"Bitcoin Rhodium\",\"GlobalToken\",\"Insane Coin\",\"ALAX\",\"LiteDoge\",\"SolarCoin\",\"TruckCoin\",\"UFO Coin\",\"OrangeCoin\",\"BlakeCoin\",\"BitstarCoin\",\"NeosCoin\",\"HyperCoin\",\"PinkCoin\",\"Crypto Escudo\",\"AudioCoin\",\"IncaKoin\",\"Piggy Coin\",\"Crown Coin\",\"Genstake\",\"SmileyCoin\",\"XiaoMiCoin\",\"Groestlcoin\",\"CapriCoin\",\" ClubCoin\",\"Radium\",\"Bata\",\"Pakcoin\",\"Creditbit \",\"OKCash\",\"Lisk\",\"HiCoin\",\"WhiteCoin\",\"FriendshipCoin\",\"JoinCoin\",\"Triangles Coin\",\"Vollar\",\"EOS\",\"Reality Clash\",\"Oxycoin\",\"TigerCash\",\"Waves\",\"Particl\",\"Nxt\",\"ZEPHYR\",\"Gapcoin\",\"Beldex\",\"Horizen\",\"BitcoinPlus\"],\"legendgroup\":\"0\",\"marker\":{\"color\":[0,0,0,0,0,0,0,0,0,0,0,0,0,0,0,0,0,0,0,0,0,0,0,0,0,0,0,0,0,0,0,0,0,0,0,0,0,0,0,0,0,0,0,0,0,0,0,0,0,0,0,0,0,0,0,0,0,0,0,0,0,0,0,0,0,0,0,0,0,0,0,0,0,0,0,0,0,0,0,0,0,0,0,0,0,0,0,0,0,0,0,0,0,0,0,0,0,0,0,0,0,0,0,0,0,0,0,0,0,0,0,0,0,0,0,0,0,0,0,0,0,0,0,0,0,0,0,0,0,0,0,0,0,0,0,0,0,0,0,0,0,0,0,0,0,0,0,0,0,0,0,0,0,0,0,0,0,0,0,0,0,0,0,0,0,0,0,0,0,0,0,0,0,0,0,0,0,0,0,0,0,0,0,0,0,0,0,0,0,0,0,0,0,0,0,0,0,0,0,0,0,0,0,0,0,0,0,0,0,0,0,0,0,0,0,0,0,0,0,0,0,0,0,0,0,0,0,0,0,0,0,0,0,0,0,0,0,0,0,0,0,0,0,0,0,0,0,0,0,0,0,0,0,0,0,0,0,0,0,0,0,0,0,0,0,0,0,0,0,0,0,0,0,0,0,0,0,0,0,0,0,0,0,0,0,0,0,0,0,0,0,0,0,0,0,0,0,0,0,0,0,0,0,0,0,0,0,0,0,0,0,0,0,0,0,0,0,0,0,0,0,0,0,0,0,0,0,0,0,0,0,0,0,0,0,0,0,0,0,0,0,0,0,0,0,0,0,0,0,0,0,0,0,0,0,0,0,0,0,0,0,0,0,0,0,0,0,0,0,0,0,0,0,0,0,0,0,0,0,0,0,0,0,0,0,0,0,0,0,0,0,0,0,0,0,0,0,0,0,0,0,0,0,0,0,0,0,0,0,0,0,0,0,0,0,0,0,0,0,0,0,0,0,0,0,0,0,0,0,0,0,0,0,0,0,0,0,0,0,0,0,0,0,0,0,0,0,0,0,0,0,0,0,0,0,0,0,0,0,0,0,0,0,0,0,0,0,0,0,0,0,0,0,0,0,0,0,0,0,0,0,0,0,0,0,0,0,0,0,0,0,0,0,0,0,0,0,0,0,0,0,0,0,0,0,0,0,0,0,0,0,0,0,0,0,0,0,0,0,0,0,0,0,0,0,0,0,0],\"coloraxis\":\"coloraxis\",\"symbol\":\"circle\"},\"mode\":\"markers\",\"name\":\"0\",\"scene\":\"scene\",\"showlegend\":true,\"x\":[-0.26197312514184956,-0.19334099695217233,0.47132094669482805,-0.24373400525601627,-0.0372869154590198,-0.24687613125927757,-0.2930419438204533,0.05248004696503141,-0.18783228574522667,-0.38778533872270327,0.09964631910966919,-0.12230567103675123,-0.2095482368813205,-0.22812401464408907,-0.28587612668857076,-0.12647233710141106,-0.3306634825075996,-0.22082724009967025,-0.23464279814769468,-0.06832875965487553,-0.019409516816159468,-0.2009880579535494,-0.22339001267002453,-0.2619301684706406,-0.18807212725138275,-0.07463831652451312,-0.35200718436236395,-0.22015859514056793,-0.28199954912701747,-0.2758712838549128,-0.2625886291997343,-0.2706051335502072,-0.1989837050439492,-0.3899175695459154,0.1254596836871642,-0.2122561379525564,-0.05171707247301406,0.03060270987743862,-0.06588223648362225,-0.2622074637770172,-0.27211357892013177,-0.2003986544578042,-0.10177127520299004,0.05688756691193318,-0.29561354120052435,-0.13548552272770614,-0.2563861425279333,-0.3276327516522399,-0.2005059481152427,-0.2957820448704809,-0.10035735292650656,1.4364898900880392,-0.29279438553471354,-0.24396344496175207,-0.25800928880950647,-0.2886849947403994,-0.21782943356662768,0.04386510187992939,-0.2575732401157225,-0.340084630452256,0.1884698585789593,-0.24999359804170937,-0.14507837050717282,-0.2987657560094361,0.06159821070661248,-0.1593991023861125,-0.24392101068946728,-0.2598789103598716,0.06119371068243019,-0.006937810686064086,-0.2551557126821904,-0.27368268170517007,0.2933670047658961,-0.28595158397491,-0.26323307899720805,-0.153242400045887,-0.1207262133553549,-0.3435003731412525,-0.22284776450348442,-0.2096575293898667,-0.19421813451392622,-0.3236417981660196,-0.29181040139228454,-0.2161236356160941,-0.2638007043417556,-0.2053311716535772,-0.11718642360252143,-0.24841830273833543,-0.18807204923218462,-0.34848358473931645,0.016995197685270174,-0.23716786006924118,-0.2583334946737254,-0.2988843745532752,-0.09657224663031877,-0.0630796326868267,0.061090404162942265,-0.10565133998348228,3.236619701563237,-0.019957809116779607,-1.116836971603569,-0.07886658840575334,-0.26727554059078007,-0.21226637319817226,-0.04893645565407896,-0.23294373625578263,-0.07977668452709383,-0.25793280905715416,0.0345744974478846,-0.2778818309971367,-0.102541441806704,-0.2499298574560124,-0.07624353632695546,-0.11343516711062726,-0.09711788685184057,-0.013866398111739972,-0.33483313423464817,-0.09281434125220249,-0.044805211153117065,-0.24581298861020986,-0.28944406657653143,-0.14089778635737563,-0.39718334651874593,-0.25808371162946686,-0.24423509292075204,0.05706118738920191,-0.11800287017039425,0.6931650751720964,-0.3118434221707761,0.32462123308574614,-0.1652623834147429,-1.0588992523814058,-0.3275228836890481,-0.19789782454770583,-0.2207423180532991,-0.26276580837610247,-0.19131640551685264,-0.1997797729720522,-0.12883225216955313,0.7950755705901257,-0.06545469826213568,-0.10611811125115893,-0.30956909374607844,-0.24387201888612783,-0.05437471016928872,-0.22380002587650724,-0.064173072523712,-0.20980692899684605,-0.1784884172106751,-0.2467941382092094,-0.13538840033590874,0.24031011577698294,0.03220476510037175,-0.25858914397543653,-0.2554127821526927,-0.2885052013958206,-0.46464846098980206,-0.292107871229732,0.21044742424532892,-0.36814546326657815,0.481587124849273,-0.21870491417485502,-0.5770752833540826,-0.3148423510605204,-0.289166798266463,-0.35328709506624134,-0.2866210610183772,-0.2314481646999888,-0.16678364492567407,-0.23941192782405954,-0.3548432510064536,-0.2325184694006114,-0.6167629673715276,-0.013087686131866096,-0.3328454077813621,-0.1876822926811825,-0.15574130785794155,-0.35375078231723867,-0.3735518992859267,-0.49402004668375504,-0.3076666767340106,-0.22145232090303,-0.15784217686993185,-0.24475955970768387,-0.1557178638557009,-0.30313879242105635,-0.286150852931652,-0.31364658636168635,-0.0761418406693731,-0.28732013728321093,-0.07766323205615189,-0.14819364784917288,-1.1582841677151996,-0.29636652603678265,-0.06042537640471477,-0.2758995938148719,-0.07566676399175956,-0.3299187956617093,-0.033610436073382204,-0.2567036152398907,0.0364979453319482,-0.18906891779801965,-0.39369030232762103,-0.3466595504593688,-0.16467675198693144,-0.38809575951605124,5.719510580770132,-0.33850309332131423,-0.19633462238140695,-0.13207291731517862,1.619430035680814,-0.3578469169738577,-0.29140033245207764,-0.2736213521411101,-0.25847587427089674,-0.35074532037131373,-0.31500742500336104,-0.35323176192707684,-0.24764681781735676,-0.2708302152662568,0.033417136984622564,-0.20048254916296784,-0.2148637965454574,-0.313577597596948,-0.19397410441166396,-0.2732397610485948,0.3450658322476564,-0.22961607319407823,-0.28183040650579183,-0.34201070897343583,-0.22185227422890277,-0.3070788600178694,-0.2195980556471309,0.31827265522119785,-0.10061006112592505,-0.2447594579749916,-0.31684837751518524,-0.2895242695009275,-0.3532362099913106,-0.24180658305900418,0.01995667023885282,-0.31583675136210865,-0.2975944894572249,-0.22797970959439895,0.003499840594564398,-0.14833685804854907,-0.5368647507954145,-0.0951324665440327,-0.2805174822278182,-0.02357400874182989,-0.3222548206281098,-1.4939639837421355,-0.23013241731398804,-0.18746599865244926,-0.32038793433505364,-0.22040054940279555,-0.3140464809324751,-0.23002386231143127,-0.337006061097238,-0.2509574733736993,-0.14087495479148052,-0.24846493922702337,-0.2358334335315269,-0.10747786065756028,-0.18379881283030086,-0.3020401034667763,-0.27282436134931387,-0.02327521147757077,-0.1445990044627036,-0.3225948466218624,-0.256351925109875,0.6297650284824421,-0.18636958018076796,-0.2822818547879847,-0.3310589821888308,-0.12755593459568376,0.5057437802291788,0.07352821821694773,0.6906629559911159,-0.32586556285825724,0.09206915671012963,-0.26853003926383445,-0.22957672220883896,-0.31448190899583744,-0.17313258754912075,-0.2763968226239553,-0.159828618787313,-0.30601205093762934,-0.3531245363498718,-0.31528610922817424,0.03360446683607308,-0.1714340709318958,0.02150543216022107,-0.2919865091035033,2.822655380029162,0.09894617182201282,-0.46247161371609863,-0.2749561790190167,-0.17260520613131117,-0.24381001267925145,-0.348952777570191,-0.30035917228793335,-0.27925190038215786,-0.28944948433465384,1.7278939754876634,-0.2890727340488481,-0.24758387297041573,-0.18791671421677741,-0.18776615183132397,-0.3189176608554594,-0.26518766843464686,-0.2028803888502818,-0.026826791393268355,-0.2214727318950477,-0.23998466433316884,-0.2846141529202509,-0.12948622645531332,-0.1942956065566486,-0.2422712605693327,-0.09938593176040066,-0.06317230399264084,-0.3877360550396457,0.6182586156752002,-0.14546316118722535,-0.31999113095045995,-0.36037130385793964,-0.7077213638256452,-0.2864731514565054,-0.3411437980471649,-0.1871451981862101,-0.3289467327465722,-0.25530968129570536,-0.013456545176384576,-0.27070227117910267,-0.007061614708892982,-0.18872400257468172,-0.02366281958184013,-0.3144706797201513,4.04760660137984,0.1943247359187317,-0.08775357008318077,-0.3549477498679029,-0.22564528934832603,0.18868634148448787,-0.17398134408801233,-0.15573716983346247,-0.3923041400348205,-0.3456749837586942,-0.3035832623338509,0.018673496549960103,-0.018369879665459336,-0.19127355885672329,-0.23114963487679843,-0.30735202475391366,0.7389983897701047,-0.34851789416647183,-0.18730111045433362,-0.3528845426993188,0.001947930534936034,-0.2205262186500311,-0.29698779319921736,-0.28229183778820893,-0.33169249677885854,-0.39054400816629203,-0.14416487120868982,-0.5359248029004657,-0.4559304940597545,-0.2011382148274984,-0.3588917269279859,0.7627381819900636,1.3027667574103114,-0.22229199596678334,-0.14304837163761075,-0.0727589536840763,-0.3547000438637239,-0.2168296472693375,-0.04731880869381483,-0.9927729396223903,-0.26017780645,0.0650808113763133,-0.1393948930037963,-0.6643942054816827,-0.35397831017561737,-0.3585055732647365,-0.2984549997678085,-0.0871246123722387,-0.20914549552645872,-0.014163874697520876,-0.28611258873682394,-0.35142668033858715,-0.2843187341968929,-0.2611731909343236,-0.27194043814075775,-0.42972196215537095,-0.10134035330698386,-0.15075300818183981,-0.36203071258887504,-0.33851534214529005,-0.29710515406178656,3.845953023666559,-0.2293224189667629,-0.3398174246941553,-0.33122651554775034,-0.21624455727430197,0.08920548257797896,-0.10750807627604946,-0.3039364318829292,0.30287313373084823,-0.41268229072498375,-0.46424970044702035,-0.29568610248851024,-0.09340530600237337,-0.160010092128442,0.23784059073203698,0.5279455720296061,-0.07397466930069174,-0.33841828938924284,-0.5726661479682814,-0.21817661849703499,-0.008314567107550071,-0.2481610284315648,-0.120868555700774,1.582164947299706,-0.37453685460471037,-0.1837042018618947,1.7415225389291036,0.1737671361702357,-0.32820152870844826,-0.327605693103783,0.1903724900085767,-0.3424944109807092,-0.3628749354046669,-0.2934932877718373,-0.32615380286907864,-0.2439027268471802,-0.27873978955557654,-0.10756519769131108,0.03161648611337848,-2.191424739140127,-0.2729812850165883,2.1636363540775814,-0.3571113143475878,-0.3072599051478854,-0.19552695755836935,-0.2522204854195067,-0.10440789400421824,0.28537871720930996,-0.23379774251039093,-0.353801360700533,-0.2422397567192242,0.23762479342365034,0.010813455801539293,0.7143422243320224,-0.4174970471462266,-0.3166594154075,-0.16412674831392668,-0.24400996841064784,-0.4024758017906734,0.09560058727805443,-0.16117212799012798,-0.3160899662722505,-0.4684665948626223,-0.4463133726220211,-0.36220447438081727,-0.3795108482771375,-0.2960113564339285,-0.2862450331523078,-0.4479386181473828,-0.37283403933515796,-0.49507238650584795,-0.36821736321662685,0.2801285258244358,-0.1573027645385162,-0.38503923397692447,-0.24782577807861747,-0.14496507445054224,-0.18628397190206897,-0.2996658036587855,-0.1785494431657937,-0.018067935270113113,-0.3368341722348287,-0.3382716146612689,4.050209659863188,0.033169748620618125,-0.3267977242180964,-0.11481776185493833,-0.0745503662816723,-0.28916308983930644,-0.45393880469414555,-0.30733322063296137,-0.24824989690435795,-0.07606605101915827,-0.13705334427581572,-0.09732308635090815,-0.2672264681534261,0.10914533614852849,-0.14298382163228962,-0.21638352458063168,-0.28511783488489184,0.2929221562545411,-0.22538088780587215,-0.22844896299285242,-0.2844457702326964,-0.2507374500660409,-0.29950186495008785,-0.2716659180340857,-0.28721773279639407,-1.602789785568633,-0.2138072844181286,5.703958463543361,-0.1027812982840042,-0.23177713086447266,-0.0030093825206302365,-0.36726192277019687,0.005557928236179609,-0.07375248572998833,4.081886700137994,-0.17243423920817946,4.0827900494651255,-0.05709908417700665,0.4082837205494822,-0.2941776795428508,-0.05086241249285075,2.8031912587293886,-0.2639186305748329,-0.13193513949912405,-0.3877874218234311,-0.2746400130338284],\"y\":[0.08533733054386725,0.008555806194821197,0.2803660576411872,-0.23412241559160202,-0.10987610649493815,-0.19278804240936553,-0.12650492232955163,-0.16424428732625407,-0.0910326517289618,-0.3804946385961705,-0.3720979023914915,-0.38718666997904444,-0.11715866357774811,-0.23341115894451273,-0.18152853677491745,-0.13413899493794246,-0.12687348896931533,-0.12950406491764296,0.009611471664126788,-0.05032824837488923,-0.3088744379147201,-0.06008348216736592,-0.21225142337305533,-0.1236521496311081,-0.12876417843582158,-0.05047929114403204,0.08054368173043182,-0.41958931651773923,-0.12367104969741546,-0.03527435023786442,-0.11277613340034884,0.006583771816963602,-0.0689565548924298,-0.12943614013719554,0.28671353788000903,-0.5678878106565666,-0.3390219262062243,-0.3145192254822254,-0.11392910771534055,-0.11358058310717703,-0.16648281319831942,-0.09759414899937806,-0.12322418932314128,0.020621560594930553,-0.14345409615479437,-0.2796152072868383,-0.10708724999491527,-0.18206750397753604,-0.11130231419004766,0.033729556367352656,-0.14352204173492208,-0.12307004659938682,-0.1266362006198314,-0.23418928879974862,-0.15698186190704022,-0.06490407223380872,-0.10743453125796835,0.1952377367307325,-0.10815095201015201,0.009082632936652544,-0.08747060065547652,-0.12539992677156134,-0.0338322842439292,-0.03565145248515635,0.04126396892385299,-0.04979506733668561,-0.23405326560587578,-0.1224415316540035,0.041431538615137736,-0.043206484523679096,-0.05849110444176333,-0.004947781534047547,-0.059308232848020004,-0.18157846652450743,-0.12322185452839927,-0.10741854127520822,-0.14299943634572723,-0.14643597870541858,-0.23238601092338884,-0.19851203229527192,-0.253367891502975,-1.1544749605441635,-0.09863739815139952,-0.16078949450298805,-0.19109077436436908,-0.294718730421542,-0.2010236377896127,0.021273938931065706,-0.040016208257469474,-0.22897900271105545,0.06307766023703734,-0.4164921358808015,-0.156805301597156,-0.13141075113024653,-0.2090505168247541,-0.11579974077879802,0.04091164112493429,0.008974857212500043,-0.39172769417697634,-0.21047546291736532,0.5348769433197872,-0.15145777780642916,-0.05279674313281957,-0.1236496544827133,-0.27685852103590797,-0.09711455098387152,-0.08113640702467964,-0.08869414640394348,0.17370493802934578,-0.1364694684373999,-0.11694696358205345,-0.07073524399675683,-0.05027642745807371,0.05427055829293185,-0.08040749276575462,-0.08344928798595275,-0.06896967343885162,-0.2666667850670293,-0.12363463918913174,-0.14974611345727978,0.02371936277654639,-0.08573305218910168,0.03395022498336425,-0.10962628950127304,-0.2340491667680992,-0.22601241373800493,-0.11206098458402514,1.0171166456738383,-0.17796422549267243,0.036735357960531345,-0.23056217112678679,-1.6187836218260203,-0.2436969223179916,-0.1722177488214245,-0.14082454465759375,-0.12348129376978223,-0.07083769985889891,-0.017380988105027684,0.03799907017317047,-0.06254497339225201,-0.04379134466679875,0.05237219611484155,-0.2722652665296907,-0.2341461575747678,-0.5331836871012656,-0.12075788458148205,-0.11154101039405401,-0.11721128661084318,-0.10870321519964578,-0.19299697018193515,-0.08400644023153311,-0.22128020256266687,-0.027014024432337136,-0.01941012523928575,-0.002835594701305469,-0.25521086802346976,0.031798316048592304,-0.16864497552045682,-1.011421516719974,-0.14799590105397575,-0.023881178479208245,-0.05307246684850005,0.2899980961309035,-0.04954636383676254,-0.0651969854224733,-0.21518872928432714,-0.10675932710984916,-0.08299885442081643,-0.09997214491315218,2.2451590399564397e-05,-0.07458879490189853,-0.1341346196227805,-0.5193128656087886,-0.09209072635222318,0.06407193965054662,-0.040116514701866356,0.08218734030085006,-0.21533904343903573,-0.15534062995679904,-0.32619796785116073,-0.11535696536244598,-0.026033263814382555,-0.24921772239081186,-0.145145769244066,-0.1496257291834205,-0.10412401677834701,-0.0926041838432812,-0.28100325879597754,-0.05001580806726031,-0.06708699285778304,-0.08091672681913685,-0.1798733902424161,0.39663477552737936,-4.858865448411116e-05,-0.11352236599693107,-0.11127904927119812,-0.05036387468657242,-0.10260901022543485,-0.1443340313281445,-0.1782810796584968,0.1794941271266438,0.013306598280025821,-0.20180227179625557,-0.08605188067718353,-0.060177556848534826,-0.3806531898243879,-1.1113053417497456,0.02642690062647701,-0.08424889296642835,-0.23674928581215335,0.10720555857707718,-0.026769191897599572,-0.1262921965294409,0.03360282356946381,-0.019923090988994252,-0.2359260983247373,-0.04941229794943493,-0.26964178353359947,-0.028795760392560873,-0.027243887528721512,0.28290256273924996,-0.05500227312304631,-0.04246717930642528,-0.07470007700636713,-0.3048566136690179,0.018379275669953364,0.012566123249030942,-0.02966594521650128,-0.0689675530316293,0.1133735273180322,0.07165641909420221,-0.08021090073780221,-0.27645620885959005,-0.1033252104253549,-0.08552281332201618,-0.14531000508474265,-0.0852671286667214,0.023871637585337613,-0.25400819755662607,0.043866963443074086,-0.09985793719705094,-0.03125168371291532,-0.04529066551748045,-0.14003533806157295,0.23002447830982117,-0.14198750900407692,-0.6085653124651529,0.008014300404257633,-0.13032863301625278,-0.1506919118742179,-0.05513656567727235,-2.1290861788913658,-0.10210139660771667,-0.9783704165099941,-0.10231519033384474,-0.15948000332282708,-0.11066125992882023,-0.10185689270988568,-0.03372138926621251,-0.08736837029013464,-0.14750817028893348,0.07489217298236787,0.10018365089016944,0.008645828691407648,-0.11016342724352843,-0.06260822722522479,-0.15067790172420262,-0.12306831257033278,-0.13238522240928055,0.015756814244508532,-0.12952620438596504,-0.09310849540019374,-0.16707422715692077,-0.12872833400291617,-0.24984927908776577,-0.24345265462362872,-0.1219690496742945,-0.23518195835687797,0.13413957848642555,0.1319076737941534,-0.3048211669071895,-0.010222253782948856,-0.1912842370090776,0.05995339530040444,-0.0052156800050059396,-0.10999632420470012,0.18027075879076823,-0.106950431492049,-0.3588068229866982,-0.17568408320226434,-0.04209071053827266,-0.24039412790565942,0.21650932751387092,-0.27691840455307765,-0.20093796798863678,0.36937511161468045,0.21215810459043064,-0.30237000093365424,-0.004884484248335752,-0.23404924322581383,-0.014542846818897323,-0.03355313972553029,-0.05958004265477686,-0.2138373323307155,-0.18470492878809644,-0.06501628929654582,-0.1929379587950316,-0.12832865147892625,-0.12852481996687182,0.028302141247403594,-0.013674521838846905,-0.3979975884094423,-0.367756399420935,-1.6160014208936018,-0.12276222321715104,-0.456182433093599,-0.06705486584048381,-0.18202220020116358,-0.00856278563627807,-0.20243783826759548,-0.6832087935519578,-0.3804280318160617,-0.010576031189140885,-0.09233965364146383,-0.03817370375431444,-0.7021494854285681,-0.05638377165056916,-0.09265392906957645,0.12213960907832132,-0.129001538569827,-0.20956298939702497,-0.033820102687092304,-0.1891725238998916,-0.263370182780159,-0.11641661472424202,0.05735756942981654,-0.2533418408569876,-0.04422285375288548,-0.7026700520452512,0.11395070882428601,0.05925204478210384,-0.4209204446622463,-0.03153377084404712,-0.2623282158660929,-0.36294756539081163,-0.055434597036633,0.06006430575041036,0.09258420117404657,-0.1718467393496013,-0.11404070887712588,-0.04084236266613046,0.06913969902667935,-0.08927308078725736,-0.11565075365335485,-1.1624301892204418,-0.17439821457572705,-0.23482500392563177,0.10279768642023383,-0.22794554236101547,-0.12946750521603098,-0.0337360427570209,0.01449457558081293,-0.1855691510203598,-0.2916426260980431,-0.18123064750762152,-0.45103706287600254,-0.27374234162046124,0.02554850569675503,0.3599521150194181,-0.46986052232550907,0.21836853847703186,0.003965581901112116,-0.35025911086275086,-0.08750768223616505,-0.09685877633016195,-0.46381527390474975,0.09034910958154452,-0.7344780363477216,-0.0892083816989618,-0.15671561964901082,-0.2364646684811317,-0.48066619528120164,-0.1261911482348347,-0.29243395964913044,-0.04134751046150568,-0.09872044348751066,-0.003073848849424998,-0.20373842640945367,-0.18154180841936207,-0.11074824012721558,-0.026864954194622613,-0.04198167602776217,-0.012849666025462633,-0.381188666072131,-0.11658808023741389,-0.15815276759165695,-0.17152547029517878,-0.135267107588959,0.08884066631065084,-0.43842418043694875,-0.1910016028743157,0.12202665131721475,-0.1228801967020257,-0.3809102321097946,0.1755820148147597,-0.0011502161188636,-0.15528183001823773,-0.0015118454662422798,-0.2375466854726119,0.00511268021848011,-0.03866997205834085,-0.15833361380505176,-0.342627695538218,0.08903488521359634,-0.3894032669703058,-0.04839335346004008,-0.04285206731174755,-0.06501942875186849,-0.0568118047047665,-0.20412741114064437,-0.10440539472862813,-0.0786804745098234,-0.3065667235834812,0.23030777923128903,-0.11054468578646393,-0.5654622627429904,0.33508273930968835,-0.2733646977483136,-0.24362079395386627,0.4182201459788258,-0.023483693245736546,0.16929968660288025,-0.025240304908695447,-0.41584372441194206,0.02948573405428766,-0.10639952098627677,0.008416640970981942,-0.1713233818743372,-0.6352152663236859,-0.20502550564584543,0.0929267153619901,-0.09301320385310535,-0.11507098465332317,0.016935079393875962,-0.10502281912310725,-0.04248272403946556,0.6482790984613719,-0.13255484058871758,-0.2154290359085138,0.012459979449907762,-0.30920749902176137,0.05276460982440953,2.0039620746457554,-0.547429426610554,-0.1688181443763343,-0.2313011395240961,-0.23414129929254313,-0.1012370244289128,-0.14840740062809665,-0.4119949033613273,0.0724878943089405,-0.7537282024505134,-0.8525921551666515,-0.35940199824423447,-0.2860854353549516,-0.055319171930639045,-0.09271986683997983,-0.5680233008306681,0.2882982877149992,-0.5278430760101215,0.21687084283015137,-0.003717107523618122,-0.1132889903015257,-0.10274287124457451,-0.10419760050447945,-0.17034722068822544,0.13903905380411463,-0.12111756591940193,-0.1818766844579599,0.0430842095560962,-0.1495898204432631,0.026552661927812474,-0.6087347424821531,-0.007069839503383272,-0.04856718508074948,-0.11253219288051668,-0.21366311832628773,0.022299242055396337,-0.8300063989754477,-0.05554555062130883,-0.17621398677323072,-0.05013863762232679,-0.14766935847473273,-0.08059749847345211,0.02891995509136893,-0.16373104237001568,-0.05352357742295253,-0.1608657491554936,0.04390944580665724,-0.13699847606723145,-0.014400453656222025,-0.44522814006903105,-0.1489619772254237,0.01782572347328708,-0.11556264595325205,-0.10151841189597247,-0.11571992803303946,-2.205622423341066,-0.1820761363954251,-1.0517553621577047,0.025447098453812773,-0.03130534091187149,-0.10410030709355325,-0.42400302023269054,0.2636999734769301,0.18664095527699526,-0.6672834447078912,-0.1393159141612569,-0.6673792194308731,-0.07518642642562394,-1.0472383086836772,-0.19321679927657426,-0.018501991462759167,-0.4466712989334143,-0.03472562744571016,-0.3636287265599284,-0.38044974901028245,-0.024581747637065707],\"z\":[0.004342616830496372,0.012279777008961535,0.3976157072570209,0.030139568674862414,-0.38945279079796746,-0.15155023001695758,0.1172586589639752,-0.2850335988548763,-0.4680575407229729,0.013786982536971908,0.8370424389696584,-0.12516750343452532,0.2548674481149361,0.06580682794307302,-0.12639603624812615,-0.18163649719608937,-0.17944653238981884,-0.14573354423618606,-0.011011340399353798,0.03110541293480929,-0.1699342609736774,-0.12153876673789607,0.0791180472257089,-0.14802944470082138,-0.1857038964691612,0.030726231934960026,0.13043291889022474,-0.14347397609044196,-0.17772765833330217,-0.006546566395695533,-0.20916989213512296,-0.04269760693740854,-0.12659040002664582,-0.7257895357066845,-0.19282441763388927,-0.006252662985985425,-0.24953812544284493,0.07979134951052874,-0.1758023653009453,-0.20894832775118927,-0.11085439815104976,-0.23484393372736032,0.04343157332646068,-0.05378532189716637,-0.20181403811727364,-0.2869814786461999,-0.09875052305185793,-0.13195882495263164,-0.14316627974633,0.009514054412441875,-0.0033498766315002175,0.04897913940003162,0.11770929329071733,0.029444599144774396,-0.22903925163192326,-0.19711616270173826,-0.25253151445949534,0.30554399292841145,-0.10157793414111035,-0.06211660356235378,0.011584713328267321,-0.09766855276645249,0.423001168038796,-0.01039539992024222,0.2083632244231478,-0.21657771842618692,0.029729394351036355,-0.11968229650591393,0.20878054365770937,-0.012126510954964968,-5.344514925185883e-05,0.032359961705852786,0.0789665265289237,-0.12601718561529324,-0.14807972739014133,-0.20116347596454376,-0.00569755237211297,0.09381766318703205,0.11559527525876082,-0.13251596639505037,0.16375641871748767,-0.16092067466479001,0.06441859470647837,0.053750347214980246,0.07722601859626198,0.062150044096068294,-0.0961337036229682,-0.18815633188747116,-0.040930749773561315,-0.31869691316157556,-0.09399013197688917,-0.24688980646513184,-0.2295769158189381,0.11715708940263903,-0.06086255341103003,0.010671950504560622,0.2085874955104027,0.13023532408726862,0.06011220256556523,-0.34423409384183884,-0.21123287246012104,-0.20137423858027714,-0.26301840474437194,0.3477418677677803,0.03829799671327381,-0.15611799425648767,-0.023504342599495284,-0.24581002215489697,0.4459954346654572,-0.11325253681218167,-0.06722916423204953,-0.13632960019340223,0.030472052229875618,0.22424169024797008,-0.013092530122438313,0.15146233635541828,-0.08945443325230037,-0.15102089340723499,0.056249141928169696,-0.10884953771193101,-0.05303732358031856,-0.25936971457173064,-0.16694394576145122,-0.25170499752971887,0.029157100347050845,-0.17175307754084232,0.048240180110308374,1.3016368261528892,-0.23721180386967583,-0.307474526623293,0.08864224271744527,-1.8765482804520637,-0.10808570191332877,-0.13850785640992938,-0.24071836903356483,-0.14785887546243345,-0.09523105163022094,-0.7840984776621028,0.2634133440183145,0.3677206489689334,0.28548709347849566,-0.25998790447537606,-0.24028753319817528,0.02954166936290159,0.29103838319727104,-0.19303522141960663,-0.5214141715040231,0.2546061256610921,-0.07838118479602824,-0.15186785737135425,0.43219648298004576,0.20072567157828902,0.15062077217860373,0.04259478950354417,-0.10923205694702617,-0.13330906598723005,-0.3493273708084084,-0.2939496229410079,0.4384556405163069,0.06559601695190748,0.04399318435519174,0.15973337316978303,-0.29118449113775163,-0.04028655776459937,-0.19696707718878434,-0.1991526385967076,0.09539065246138058,0.2937914156599787,0.4062172788208785,0.1270040032853445,-0.023478154627449874,-0.1939795967443051,-0.4641323209680443,0.010177804047065107,-0.11589720123499303,-0.04136060997797833,0.21315801206615484,-0.19990905889032798,-0.19502320429112624,0.45932719896156515,0.10319678753958939,0.022961271868908156,-0.18700665598780405,0.1737609912199669,0.038109845837528036,0.036290544324742526,0.01836915311293226,-0.1044362206597814,0.02997888467740583,-0.05540293552769731,-0.023555128926526343,0.12004042011036693,-2.640566861344655,-0.20047675574794524,0.43680140367385906,-0.03495784998384313,0.030493426121190423,0.013148125426622331,0.7240465745133887,0.09649914501684094,0.26550960346414254,-0.12463365583312645,0.009094914187821553,0.3641065192388486,-0.7876310106860345,0.013454175535941708,2.1983322458396026,-0.03829644906268559,-0.26661864936142404,-0.1391840611749258,0.5042251526579822,0.015616945708391308,0.09848277029671418,-0.05111250701336472,0.04299183472983156,-0.11723729330384204,-0.03961608879642599,-0.028508797864944615,0.10275932355677898,-0.11115991775172479,2.1828471951313384,0.08206470888265165,0.11134822611595353,0.04772983522818625,-0.2156326575611978,0.006289452745933185,-0.045667196621034044,-0.0007697019230672326,0.13081313323316562,0.15792163396096373,0.45868348248441493,-0.3270987241709595,-0.306724282628617,-0.29634472647272253,-0.013755869664580025,0.17409856540725133,0.03643608884916621,-0.05272773662043359,-0.2408832259641333,0.02914109344445863,-0.5996872363309402,-0.12455708185016015,0.4774084547783489,-0.12889369766281972,0.2073476083924297,0.0032546403578681735,0.12054989481162055,0.13175591879449375,-0.20577884817109976,-0.18089244461844997,-0.0525183240413027,-0.7609713030624019,-0.02339527005537516,-0.6287692833179429,0.23358324544627496,-0.3020855465192092,0.11898187281812031,-0.023254356599741666,-0.0788603330854645,0.023604300343557344,0.004518667972578616,-0.07639423424282585,-0.013877603983492432,0.12984235313385,0.19492572516230489,0.02145904896134655,-0.3247939993020319,-0.04463735045862733,-0.00026219475446292035,-0.04386358221957007,-0.06293677123356976,-0.22015679046095904,0.17743334264242122,-0.14406950786965309,-0.23917466936776724,-0.3779706064037483,0.4938208327021808,-0.15417062093044606,0.8223566494033825,-0.21198774621370123,-0.22181708718605356,0.1505486941420767,-0.16769525326646514,0.11322939554097373,-0.09454333410192987,-0.18945908817135004,0.12174697482212463,-0.320501258285478,-0.17298199291149338,-0.2615509526871761,0.1395187540681265,-0.22672762890908008,0.31741240190423053,-0.04641821849338671,0.13445393987624238,0.3453116938478489,-0.7185691224792791,-0.27688305407223635,-0.09438714663052203,0.02936260335987885,-0.020209808905820113,-0.0874280403714672,-0.23930114315244108,0.10834728736808943,0.12470464232014954,-0.19723450074496565,-0.15166655801707996,-0.1853280058359867,-0.1856080076084649,-0.03847089399589605,0.07094695752626946,-0.4642581259521362,0.8605680064153814,-0.6394872790410548,-0.0729851994092618,0.04140629625686772,-0.02235544989559566,-0.06831265969043236,-0.006182969749338911,-0.26694079420349803,0.041893560816802816,0.014110663514145487,0.15737647824276632,0.11445660048040332,0.18089815441168242,-0.066410874208081,-0.55551737026866,0.018253674312601123,0.23610560390883684,-0.1855263043779364,-0.013698385699007033,0.032305756564085034,0.30144423010895366,-0.2199246959950451,-0.17748030141134508,-0.797383283469846,-0.3064845819603529,0.024034700501792152,1.3147864701316316,0.22076042043811014,0.12933413714114722,-0.3568949478050929,-0.04849229328723621,-0.5051733291495838,-0.26904062457143557,-0.5411232356135779,0.03852757976324837,0.04006441056696591,-0.18078419957553335,-0.612078570968063,0.13316566710606034,-0.4385556535008155,-0.2374908662477832,0.10280731000342502,0.46977982081639974,-0.18837303010902995,-0.15874547576092293,0.10243813060271566,-0.1897711343093589,-0.14532988186118714,0.03063374552975309,0.05412740399975843,-0.01784043756792679,-0.3007355315657471,0.31367477359862217,-0.4045825115683721,-0.2714995300508692,-0.6570786601261644,-0.26115824147509303,-0.2231785958075651,0.043948536608497735,-0.031597627463173655,-0.3441059149682536,-0.25003696069901066,-0.3341108434730573,-0.3889438776293528,0.2519409753872292,25.373934094574018,-0.14017965146401076,-0.14959335664912987,-0.13949738044763815,-0.1414069680541751,-0.05504305504356188,-0.03639132023953568,-0.07711047109691213,0.2972842312194257,-0.8509486131986331,-0.10315277640712765,-0.12634140136248956,-0.18655431777087386,0.18939281235170746,0.018342602798608512,0.02991666377220248,0.008082820901525227,-0.06719358501800766,0.46301334792532145,0.08879614280707902,-0.08063415006327802,-0.05703518683115223,1.127449678703714,-0.1673830537702892,0.23539633316952327,0.07974617169320596,-0.4349523462083535,0.011710198201601327,0.16279271117239416,-0.02222399162821143,-0.330571619031677,-0.159217208388719,-1.5152201107897256,-0.15393398124684446,0.5059117125660428,-0.4360515223161046,-1.287700219611551,-0.4099242763108527,0.16894865620040034,-0.2156393959026231,0.14689019267805015,0.1621796907321049,-0.10225662293083773,-0.007352668972668564,-0.12028562038802597,0.0478745707741938,0.1387238418104924,0.24014294106361944,0.8709266600162746,-0.1106823728023615,-0.11138072762520487,-0.10843351267092304,0.20796770070098558,0.11133148763074854,0.44233725708189325,-0.16628468611379302,-0.3921593796578509,0.051762790996612566,-0.1281063192329657,0.13011061229950258,-0.48715660844208925,-1.0895499781196658,-0.1834237076101188,-1.5268198124338552,-0.10681013744078886,0.10287563922276406,-0.13416205268667447,-0.03597123056359667,-0.028123538970534885,0.5455240735430223,-0.07755351640273479,-0.1999207929077285,0.19666354045371595,1.1665815633480145,-0.11912991398119588,0.22981983954862906,0.11988476057877788,0.04064506342503557,0.22236066867738952,0.02944412940141346,0.07235131334762498,0.0226547542200583,-0.42855639600236917,0.15322991464836913,0.1338086598889163,0.07256117751263345,0.022786408356713285,-0.08174176219358957,-0.13483601166131154,0.01824545168056882,0.18361906094953614,0.2760923307558841,0.10961543566847175,0.25828928911780036,0.1142986536785186,-0.015087351422086165,-0.09002050086249785,-0.007155838328020282,-0.0037271114616192758,0.41091194902605305,0.017511262556297803,0.009682795208641721,0.22211830176341182,0.13092607482766677,-0.0379261183551373,1.459682940212472,0.11871852097489673,-0.24285179257354,0.04859880248805518,-0.3283447037539585,0.08834897194390987,0.20314382121259542,-0.01618844971718134,0.11967589018472712,0.03018153051104061,0.005499181537003082,-0.013188807846380329,-0.09300050548936777,0.2765002377519774,0.14907670342804907,0.05398434584603555,0.0654949020461986,0.029713221017919924,0.01020685383686106,-0.19901034954102062,-0.021214446885444514,0.007890270723399685,0.009843587803022845,-0.11451548136895376,-0.15349301442158225,-1.0832222517796297,0.09263856980676621,2.13765734294505,-0.11819655496939993,0.23279959078646967,-0.074295909016437,-0.3348163929561369,0.278306594227951,-0.24525347143361595,1.360362603935166,-0.7805595723278397,1.3596710216263745,0.23322620793160792,-0.5751993875111606,0.003833642398384312,0.35099102114274666,0.8730208009624485,-0.0034006671497702925,-0.3342029558614726,0.01385778718428745,-0.097584971348718],\"type\":\"scatter3d\"},{\"customdata\":[[\"VeChainThor Authority\"],[\"Proof-of-Authority\"]],\"hovertemplate\":\"<b>%{hovertext}</b><br><br>Class=%{marker.color}<br>PC1=%{x}<br>PC2=%{y}<br>PC3=%{z}<br>Algorithm=%{customdata[0]}<extra></extra>\",\"hovertext\":[\"Vechain\",\"Poa Network\"],\"legendgroup\":\"3\",\"marker\":{\"color\":[3,3],\"coloraxis\":\"coloraxis\",\"symbol\":\"diamond\"},\"mode\":\"markers\",\"name\":\"3\",\"scene\":\"scene\",\"showlegend\":true,\"x\":[14.843356883922304,-0.8442540817157977],\"y\":[17.798704509627065,20.60161966306236],\"z\":[-16.884458217992858,-23.67155812122367],\"type\":\"scatter3d\"},{\"customdata\":[[\"SHA-256 + Hive\"]],\"hovertemplate\":\"<b>%{hovertext}</b><br><br>Class=%{marker.color}<br>PC1=%{x}<br>PC2=%{y}<br>PC3=%{z}<br>Algorithm=%{customdata[0]}<extra></extra>\",\"hovertext\":[\"LitecoinCash\"],\"legendgroup\":\"2\",\"marker\":{\"color\":[2],\"coloraxis\":\"coloraxis\",\"symbol\":\"square\"},\"mode\":\"markers\",\"name\":\"2\",\"scene\":\"scene\",\"showlegend\":true,\"x\":[-4.620312607857458],\"y\":[36.38573558875516],\"z\":[22.35422942689433],\"type\":\"scatter3d\"},{\"customdata\":[[\"TRC10\"]],\"hovertemplate\":\"<b>%{hovertext}</b><br><br>Class=%{marker.color}<br>PC1=%{x}<br>PC2=%{y}<br>PC3=%{z}<br>Algorithm=%{customdata[0]}<extra></extra>\",\"hovertext\":[\"BitTorrent\"],\"legendgroup\":\"1\",\"marker\":{\"color\":[1],\"coloraxis\":\"coloraxis\",\"symbol\":\"x\"},\"mode\":\"markers\",\"name\":\"1\",\"scene\":\"scene\",\"showlegend\":true,\"x\":[41.46512017821825],\"y\":[-1.7914896421131847],\"z\":[6.873126888727157],\"type\":\"scatter3d\"}],                        {\"template\":{\"data\":{\"bar\":[{\"error_x\":{\"color\":\"#2a3f5f\"},\"error_y\":{\"color\":\"#2a3f5f\"},\"marker\":{\"line\":{\"color\":\"#E5ECF6\",\"width\":0.5},\"pattern\":{\"fillmode\":\"overlay\",\"size\":10,\"solidity\":0.2}},\"type\":\"bar\"}],\"barpolar\":[{\"marker\":{\"line\":{\"color\":\"#E5ECF6\",\"width\":0.5},\"pattern\":{\"fillmode\":\"overlay\",\"size\":10,\"solidity\":0.2}},\"type\":\"barpolar\"}],\"carpet\":[{\"aaxis\":{\"endlinecolor\":\"#2a3f5f\",\"gridcolor\":\"white\",\"linecolor\":\"white\",\"minorgridcolor\":\"white\",\"startlinecolor\":\"#2a3f5f\"},\"baxis\":{\"endlinecolor\":\"#2a3f5f\",\"gridcolor\":\"white\",\"linecolor\":\"white\",\"minorgridcolor\":\"white\",\"startlinecolor\":\"#2a3f5f\"},\"type\":\"carpet\"}],\"choropleth\":[{\"colorbar\":{\"outlinewidth\":0,\"ticks\":\"\"},\"type\":\"choropleth\"}],\"contour\":[{\"colorbar\":{\"outlinewidth\":0,\"ticks\":\"\"},\"colorscale\":[[0.0,\"#0d0887\"],[0.1111111111111111,\"#46039f\"],[0.2222222222222222,\"#7201a8\"],[0.3333333333333333,\"#9c179e\"],[0.4444444444444444,\"#bd3786\"],[0.5555555555555556,\"#d8576b\"],[0.6666666666666666,\"#ed7953\"],[0.7777777777777778,\"#fb9f3a\"],[0.8888888888888888,\"#fdca26\"],[1.0,\"#f0f921\"]],\"type\":\"contour\"}],\"contourcarpet\":[{\"colorbar\":{\"outlinewidth\":0,\"ticks\":\"\"},\"type\":\"contourcarpet\"}],\"heatmap\":[{\"colorbar\":{\"outlinewidth\":0,\"ticks\":\"\"},\"colorscale\":[[0.0,\"#0d0887\"],[0.1111111111111111,\"#46039f\"],[0.2222222222222222,\"#7201a8\"],[0.3333333333333333,\"#9c179e\"],[0.4444444444444444,\"#bd3786\"],[0.5555555555555556,\"#d8576b\"],[0.6666666666666666,\"#ed7953\"],[0.7777777777777778,\"#fb9f3a\"],[0.8888888888888888,\"#fdca26\"],[1.0,\"#f0f921\"]],\"type\":\"heatmap\"}],\"heatmapgl\":[{\"colorbar\":{\"outlinewidth\":0,\"ticks\":\"\"},\"colorscale\":[[0.0,\"#0d0887\"],[0.1111111111111111,\"#46039f\"],[0.2222222222222222,\"#7201a8\"],[0.3333333333333333,\"#9c179e\"],[0.4444444444444444,\"#bd3786\"],[0.5555555555555556,\"#d8576b\"],[0.6666666666666666,\"#ed7953\"],[0.7777777777777778,\"#fb9f3a\"],[0.8888888888888888,\"#fdca26\"],[1.0,\"#f0f921\"]],\"type\":\"heatmapgl\"}],\"histogram\":[{\"marker\":{\"pattern\":{\"fillmode\":\"overlay\",\"size\":10,\"solidity\":0.2}},\"type\":\"histogram\"}],\"histogram2d\":[{\"colorbar\":{\"outlinewidth\":0,\"ticks\":\"\"},\"colorscale\":[[0.0,\"#0d0887\"],[0.1111111111111111,\"#46039f\"],[0.2222222222222222,\"#7201a8\"],[0.3333333333333333,\"#9c179e\"],[0.4444444444444444,\"#bd3786\"],[0.5555555555555556,\"#d8576b\"],[0.6666666666666666,\"#ed7953\"],[0.7777777777777778,\"#fb9f3a\"],[0.8888888888888888,\"#fdca26\"],[1.0,\"#f0f921\"]],\"type\":\"histogram2d\"}],\"histogram2dcontour\":[{\"colorbar\":{\"outlinewidth\":0,\"ticks\":\"\"},\"colorscale\":[[0.0,\"#0d0887\"],[0.1111111111111111,\"#46039f\"],[0.2222222222222222,\"#7201a8\"],[0.3333333333333333,\"#9c179e\"],[0.4444444444444444,\"#bd3786\"],[0.5555555555555556,\"#d8576b\"],[0.6666666666666666,\"#ed7953\"],[0.7777777777777778,\"#fb9f3a\"],[0.8888888888888888,\"#fdca26\"],[1.0,\"#f0f921\"]],\"type\":\"histogram2dcontour\"}],\"mesh3d\":[{\"colorbar\":{\"outlinewidth\":0,\"ticks\":\"\"},\"type\":\"mesh3d\"}],\"parcoords\":[{\"line\":{\"colorbar\":{\"outlinewidth\":0,\"ticks\":\"\"}},\"type\":\"parcoords\"}],\"pie\":[{\"automargin\":true,\"type\":\"pie\"}],\"scatter\":[{\"marker\":{\"colorbar\":{\"outlinewidth\":0,\"ticks\":\"\"}},\"type\":\"scatter\"}],\"scatter3d\":[{\"line\":{\"colorbar\":{\"outlinewidth\":0,\"ticks\":\"\"}},\"marker\":{\"colorbar\":{\"outlinewidth\":0,\"ticks\":\"\"}},\"type\":\"scatter3d\"}],\"scattercarpet\":[{\"marker\":{\"colorbar\":{\"outlinewidth\":0,\"ticks\":\"\"}},\"type\":\"scattercarpet\"}],\"scattergeo\":[{\"marker\":{\"colorbar\":{\"outlinewidth\":0,\"ticks\":\"\"}},\"type\":\"scattergeo\"}],\"scattergl\":[{\"marker\":{\"colorbar\":{\"outlinewidth\":0,\"ticks\":\"\"}},\"type\":\"scattergl\"}],\"scattermapbox\":[{\"marker\":{\"colorbar\":{\"outlinewidth\":0,\"ticks\":\"\"}},\"type\":\"scattermapbox\"}],\"scatterpolar\":[{\"marker\":{\"colorbar\":{\"outlinewidth\":0,\"ticks\":\"\"}},\"type\":\"scatterpolar\"}],\"scatterpolargl\":[{\"marker\":{\"colorbar\":{\"outlinewidth\":0,\"ticks\":\"\"}},\"type\":\"scatterpolargl\"}],\"scatterternary\":[{\"marker\":{\"colorbar\":{\"outlinewidth\":0,\"ticks\":\"\"}},\"type\":\"scatterternary\"}],\"surface\":[{\"colorbar\":{\"outlinewidth\":0,\"ticks\":\"\"},\"colorscale\":[[0.0,\"#0d0887\"],[0.1111111111111111,\"#46039f\"],[0.2222222222222222,\"#7201a8\"],[0.3333333333333333,\"#9c179e\"],[0.4444444444444444,\"#bd3786\"],[0.5555555555555556,\"#d8576b\"],[0.6666666666666666,\"#ed7953\"],[0.7777777777777778,\"#fb9f3a\"],[0.8888888888888888,\"#fdca26\"],[1.0,\"#f0f921\"]],\"type\":\"surface\"}],\"table\":[{\"cells\":{\"fill\":{\"color\":\"#EBF0F8\"},\"line\":{\"color\":\"white\"}},\"header\":{\"fill\":{\"color\":\"#C8D4E3\"},\"line\":{\"color\":\"white\"}},\"type\":\"table\"}]},\"layout\":{\"annotationdefaults\":{\"arrowcolor\":\"#2a3f5f\",\"arrowhead\":0,\"arrowwidth\":1},\"autotypenumbers\":\"strict\",\"coloraxis\":{\"colorbar\":{\"outlinewidth\":0,\"ticks\":\"\"}},\"colorscale\":{\"diverging\":[[0,\"#8e0152\"],[0.1,\"#c51b7d\"],[0.2,\"#de77ae\"],[0.3,\"#f1b6da\"],[0.4,\"#fde0ef\"],[0.5,\"#f7f7f7\"],[0.6,\"#e6f5d0\"],[0.7,\"#b8e186\"],[0.8,\"#7fbc41\"],[0.9,\"#4d9221\"],[1,\"#276419\"]],\"sequential\":[[0.0,\"#0d0887\"],[0.1111111111111111,\"#46039f\"],[0.2222222222222222,\"#7201a8\"],[0.3333333333333333,\"#9c179e\"],[0.4444444444444444,\"#bd3786\"],[0.5555555555555556,\"#d8576b\"],[0.6666666666666666,\"#ed7953\"],[0.7777777777777778,\"#fb9f3a\"],[0.8888888888888888,\"#fdca26\"],[1.0,\"#f0f921\"]],\"sequentialminus\":[[0.0,\"#0d0887\"],[0.1111111111111111,\"#46039f\"],[0.2222222222222222,\"#7201a8\"],[0.3333333333333333,\"#9c179e\"],[0.4444444444444444,\"#bd3786\"],[0.5555555555555556,\"#d8576b\"],[0.6666666666666666,\"#ed7953\"],[0.7777777777777778,\"#fb9f3a\"],[0.8888888888888888,\"#fdca26\"],[1.0,\"#f0f921\"]]},\"colorway\":[\"#636efa\",\"#EF553B\",\"#00cc96\",\"#ab63fa\",\"#FFA15A\",\"#19d3f3\",\"#FF6692\",\"#B6E880\",\"#FF97FF\",\"#FECB52\"],\"font\":{\"color\":\"#2a3f5f\"},\"geo\":{\"bgcolor\":\"white\",\"lakecolor\":\"white\",\"landcolor\":\"#E5ECF6\",\"showlakes\":true,\"showland\":true,\"subunitcolor\":\"white\"},\"hoverlabel\":{\"align\":\"left\"},\"hovermode\":\"closest\",\"mapbox\":{\"style\":\"light\"},\"paper_bgcolor\":\"white\",\"plot_bgcolor\":\"#E5ECF6\",\"polar\":{\"angularaxis\":{\"gridcolor\":\"white\",\"linecolor\":\"white\",\"ticks\":\"\"},\"bgcolor\":\"#E5ECF6\",\"radialaxis\":{\"gridcolor\":\"white\",\"linecolor\":\"white\",\"ticks\":\"\"}},\"scene\":{\"xaxis\":{\"backgroundcolor\":\"#E5ECF6\",\"gridcolor\":\"white\",\"gridwidth\":2,\"linecolor\":\"white\",\"showbackground\":true,\"ticks\":\"\",\"zerolinecolor\":\"white\"},\"yaxis\":{\"backgroundcolor\":\"#E5ECF6\",\"gridcolor\":\"white\",\"gridwidth\":2,\"linecolor\":\"white\",\"showbackground\":true,\"ticks\":\"\",\"zerolinecolor\":\"white\"},\"zaxis\":{\"backgroundcolor\":\"#E5ECF6\",\"gridcolor\":\"white\",\"gridwidth\":2,\"linecolor\":\"white\",\"showbackground\":true,\"ticks\":\"\",\"zerolinecolor\":\"white\"}},\"shapedefaults\":{\"line\":{\"color\":\"#2a3f5f\"}},\"ternary\":{\"aaxis\":{\"gridcolor\":\"white\",\"linecolor\":\"white\",\"ticks\":\"\"},\"baxis\":{\"gridcolor\":\"white\",\"linecolor\":\"white\",\"ticks\":\"\"},\"bgcolor\":\"#E5ECF6\",\"caxis\":{\"gridcolor\":\"white\",\"linecolor\":\"white\",\"ticks\":\"\"}},\"title\":{\"x\":0.05},\"xaxis\":{\"automargin\":true,\"gridcolor\":\"white\",\"linecolor\":\"white\",\"ticks\":\"\",\"title\":{\"standoff\":15},\"zerolinecolor\":\"white\",\"zerolinewidth\":2},\"yaxis\":{\"automargin\":true,\"gridcolor\":\"white\",\"linecolor\":\"white\",\"ticks\":\"\",\"title\":{\"standoff\":15},\"zerolinecolor\":\"white\",\"zerolinewidth\":2}}},\"scene\":{\"domain\":{\"x\":[0.0,1.0],\"y\":[0.0,1.0]},\"xaxis\":{\"title\":{\"text\":\"PC1\"}},\"yaxis\":{\"title\":{\"text\":\"PC2\"}},\"zaxis\":{\"title\":{\"text\":\"PC3\"}}},\"coloraxis\":{\"colorbar\":{\"title\":{\"text\":\"Class\"}},\"colorscale\":[[0.0,\"#0d0887\"],[0.1111111111111111,\"#46039f\"],[0.2222222222222222,\"#7201a8\"],[0.3333333333333333,\"#9c179e\"],[0.4444444444444444,\"#bd3786\"],[0.5555555555555556,\"#d8576b\"],[0.6666666666666666,\"#ed7953\"],[0.7777777777777778,\"#fb9f3a\"],[0.8888888888888888,\"#fdca26\"],[1.0,\"#f0f921\"]]},\"legend\":{\"title\":{\"text\":\"Class\"},\"tracegroupgap\":0,\"x\":0,\"y\":1},\"margin\":{\"t\":60},\"width\":800},                        {\"responsive\": true}                    ).then(function(){\n",
       "                            \n",
       "var gd = document.getElementById('3d1d4daa-0a33-4511-b729-0e7f99c7a585');\n",
       "var x = new MutationObserver(function (mutations, observer) {{\n",
       "        var display = window.getComputedStyle(gd).display;\n",
       "        if (!display || display === 'none') {{\n",
       "            console.log([gd, 'removed!']);\n",
       "            Plotly.purge(gd);\n",
       "            observer.disconnect();\n",
       "        }}\n",
       "}});\n",
       "\n",
       "// Listen for the removal of the full notebook cells\n",
       "var notebookContainer = gd.closest('#notebook-container');\n",
       "if (notebookContainer) {{\n",
       "    x.observe(notebookContainer, {childList: true});\n",
       "}}\n",
       "\n",
       "// Listen for the clearing of the current output cell\n",
       "var outputEl = gd.closest('.output');\n",
       "if (outputEl) {{\n",
       "    x.observe(outputEl, {childList: true});\n",
       "}}\n",
       "\n",
       "                        })                };                });            </script>        </div>"
      ]
     },
     "metadata": {},
     "output_type": "display_data"
    }
   ],
   "source": [
    "# Creating a 3D-Scatter with the PCA data and the clusters\n",
    "fig = px.scatter_3d(clustered_df, x=\"PC1\", y=\"PC2\", z=\"PC3\", color=\"Class\", hover_name=\"CoinName\", hover_data=[\"Algorithm\"], \n",
    "                    symbol=\"Class\", width=800)\n",
    "fig.update_layout(legend=dict(x=0,y=1))\n",
    "fig.show()\n"
   ]
  },
  {
   "cell_type": "code",
   "execution_count": 143,
   "metadata": {
    "scrolled": true
   },
   "outputs": [
    {
     "data": {},
     "metadata": {},
     "output_type": "display_data"
    },
    {
     "data": {
      "application/vnd.holoviews_exec.v0+json": "",
      "text/html": [
       "<div id='1754'>\n",
       "\n",
       "\n",
       "\n",
       "\n",
       "\n",
       "  <div class=\"bk-root\" id=\"a4f94927-5f7f-4220-8091-fbd7a7fe3f21\" data-root-id=\"1754\"></div>\n",
       "</div>\n",
       "<script type=\"application/javascript\">(function(root) {\n",
       "  function embed_document(root) {\n",
       "    var docs_json = {\"5647cd98-c80a-4f4f-9776-40a9ec05c5e4\":{\"defs\":[{\"extends\":null,\"module\":null,\"name\":\"ReactiveHTML1\",\"overrides\":[],\"properties\":[]},{\"extends\":null,\"module\":null,\"name\":\"FlexBox1\",\"overrides\":[],\"properties\":[{\"default\":\"flex-start\",\"kind\":null,\"name\":\"align_content\"},{\"default\":\"flex-start\",\"kind\":null,\"name\":\"align_items\"},{\"default\":\"row\",\"kind\":null,\"name\":\"flex_direction\"},{\"default\":\"wrap\",\"kind\":null,\"name\":\"flex_wrap\"},{\"default\":\"flex-start\",\"kind\":null,\"name\":\"justify_content\"}]},{\"extends\":null,\"module\":null,\"name\":\"GridStack1\",\"overrides\":[],\"properties\":[{\"default\":\"warn\",\"kind\":null,\"name\":\"mode\"},{\"default\":null,\"kind\":null,\"name\":\"ncols\"},{\"default\":null,\"kind\":null,\"name\":\"nrows\"},{\"default\":true,\"kind\":null,\"name\":\"allow_resize\"},{\"default\":true,\"kind\":null,\"name\":\"allow_drag\"},{\"default\":[],\"kind\":null,\"name\":\"state\"}]},{\"extends\":null,\"module\":null,\"name\":\"click1\",\"overrides\":[],\"properties\":[{\"default\":\"\",\"kind\":null,\"name\":\"terminal_output\"},{\"default\":\"\",\"kind\":null,\"name\":\"debug_name\"},{\"default\":0,\"kind\":null,\"name\":\"clears\"}]},{\"extends\":null,\"module\":null,\"name\":\"TemplateActions1\",\"overrides\":[],\"properties\":[{\"default\":0,\"kind\":null,\"name\":\"open_modal\"},{\"default\":0,\"kind\":null,\"name\":\"close_modal\"}]},{\"extends\":null,\"module\":null,\"name\":\"MaterialTemplateActions1\",\"overrides\":[],\"properties\":[{\"default\":0,\"kind\":null,\"name\":\"open_modal\"},{\"default\":0,\"kind\":null,\"name\":\"close_modal\"}]}],\"roots\":{\"references\":[{\"attributes\":{\"children\":[{\"id\":\"1755\"},{\"id\":\"1788\"},{\"id\":\"1795\"}],\"margin\":[0,0,0,0],\"name\":\"Row03298\",\"tags\":[\"embedded\"]},\"id\":\"1754\",\"type\":\"Row\"},{\"attributes\":{\"source\":{\"id\":\"1756\"}},\"id\":\"1790\",\"type\":\"CDSView\"},{\"attributes\":{},\"id\":\"1763\",\"type\":\"StringFormatter\"},{\"attributes\":{\"editor\":{\"id\":\"1774\"},\"field\":\"TotalCoinSupply\",\"formatter\":{\"id\":\"1773\"},\"title\":\"TotalCoinSupply\"},\"id\":\"1775\",\"type\":\"TableColumn\"},{\"attributes\":{},\"id\":\"1764\",\"type\":\"StringEditor\"},{\"attributes\":{\"editor\":{\"id\":\"1764\"},\"field\":\"Algorithm\",\"formatter\":{\"id\":\"1763\"},\"title\":\"Algorithm\"},\"id\":\"1765\",\"type\":\"TableColumn\"},{\"attributes\":{\"format\":\"0,0.0[00000]\"},\"id\":\"1778\",\"type\":\"NumberFormatter\"},{\"attributes\":{},\"id\":\"1779\",\"type\":\"NumberEditor\"},{\"attributes\":{},\"id\":\"1768\",\"type\":\"StringFormatter\"},{\"attributes\":{\"editor\":{\"id\":\"1784\"},\"field\":\"Class\",\"formatter\":{\"id\":\"1783\"},\"title\":\"Class\"},\"id\":\"1785\",\"type\":\"TableColumn\"},{\"attributes\":{},\"id\":\"1791\",\"type\":\"UnionRenderers\"},{\"attributes\":{\"margin\":[5,5,5,5],\"name\":\"HSpacer03302\",\"sizing_mode\":\"stretch_width\"},\"id\":\"1755\",\"type\":\"Spacer\"},{\"attributes\":{\"margin\":[5,5,5,5],\"name\":\"HSpacer03303\",\"sizing_mode\":\"stretch_width\"},\"id\":\"1795\",\"type\":\"Spacer\"},{\"attributes\":{\"columns\":[{\"id\":\"1760\"},{\"id\":\"1765\"},{\"id\":\"1770\"},{\"id\":\"1775\"},{\"id\":\"1780\"},{\"id\":\"1785\"}],\"height\":300,\"reorderable\":false,\"source\":{\"id\":\"1756\"},\"view\":{\"id\":\"1790\"},\"width\":700},\"id\":\"1788\",\"type\":\"DataTable\"},{\"attributes\":{},\"id\":\"1769\",\"type\":\"StringEditor\"},{\"attributes\":{\"editor\":{\"id\":\"1769\"},\"field\":\"ProofType\",\"formatter\":{\"id\":\"1768\"},\"title\":\"ProofType\"},\"id\":\"1770\",\"type\":\"TableColumn\"},{\"attributes\":{},\"id\":\"1757\",\"type\":\"Selection\"},{\"attributes\":{\"editor\":{\"id\":\"1779\"},\"field\":\"TotalCoinsMined\",\"formatter\":{\"id\":\"1778\"},\"title\":\"TotalCoinsMined\"},\"id\":\"1780\",\"type\":\"TableColumn\"},{\"attributes\":{},\"id\":\"1773\",\"type\":\"StringFormatter\"},{\"attributes\":{},\"id\":\"1758\",\"type\":\"StringFormatter\"},{\"attributes\":{\"data\":{\"Algorithm\":[\"Scrypt\",\"Scrypt\",\"X13\",\"SHA-256\",\"Ethash\",\"Scrypt\",\"X11\",\"CryptoNight-V7\",\"Ethash\",\"Equihash\",\"SHA-512\",\"Multiple\",\"SHA-256\",\"SHA-256\",\"Scrypt\",\"X15\",\"X11\",\"Scrypt\",\"Scrypt\",\"Scrypt\",\"Multiple\",\"Scrypt\",\"SHA-256\",\"Scrypt\",\"Scrypt\",\"Scrypt\",\"Quark\",\"Groestl\",\"Scrypt\",\"Scrypt\",\"Scrypt\",\"Scrypt\",\"Scrypt\",\"X11\",\"Scrypt\",\"Groestl\",\"Multiple\",\"SHA-256\",\"Scrypt\",\"Scrypt\",\"Scrypt\",\"Scrypt\",\"PoS\",\"Scrypt\",\"Scrypt\",\"NeoScrypt\",\"Scrypt\",\"Scrypt\",\"Scrypt\",\"Scrypt\",\"X11\",\"Scrypt\",\"X11\",\"SHA-256\",\"Scrypt\",\"Scrypt\",\"Scrypt\",\"SHA3\",\"Scrypt\",\"HybridScryptHash256\",\"Scrypt\",\"Scrypt\",\"SHA-256\",\"Scrypt\",\"X13\",\"Scrypt\",\"SHA-256\",\"Scrypt\",\"X13\",\"NeoScrypt\",\"Scrypt\",\"Scrypt\",\"Scrypt\",\"Scrypt\",\"Scrypt\",\"Scrypt\",\"X11\",\"X11\",\"SHA-256\",\"Multiple\",\"SHA-256\",\"PHI1612\",\"X11\",\"SHA-256\",\"SHA-256\",\"SHA-256\",\"X11\",\"Scrypt\",\"Scrypt\",\"Scrypt\",\"Scrypt\",\"Lyra2REv2\",\"Scrypt\",\"X11\",\"Multiple\",\"SHA-256\",\"X13\",\"Scrypt\",\"CryptoNight\",\"CryptoNight\",\"Shabal256\",\"Counterparty\",\"Scrypt\",\"SHA-256\",\"Groestl\",\"Scrypt\",\"Scrypt\",\"Scrypt\",\"X13\",\"Scrypt\",\"Scrypt\",\"Scrypt\",\"Scrypt\",\"X13\",\"Scrypt\",\"Stanford Folding\",\"X11\",\"Multiple\",\"QuBit\",\"Scrypt\",\"Scrypt\",\"Scrypt\",\"M7 POW\",\"Scrypt\",\"SHA-256\",\"Scrypt\",\"X11\",\"SHA3\",\"X11\",\"Lyra2RE\",\"SHA-256\",\"QUAIT\",\"X11\",\"X11\",\"Scrypt\",\"Scrypt\",\"Scrypt\",\"Ethash\",\"X13\",\"Blake2b\",\"SHA-256\",\"X15\",\"X11\",\"SHA-256\",\"BLAKE256\",\"Scrypt\",\"1GB AES Pattern Search\",\"SHA-256\",\"X11\",\"Scrypt\",\"SHA-256\",\"SHA-256\",\"NIST5\",\"Scrypt\",\"Scrypt\",\"X11\",\"Dagger\",\"Scrypt\",\"X11GOST\",\"X11\",\"Scrypt\",\"SHA-256\",\"Scrypt\",\"PoS\",\"Scrypt\",\"X11\",\"X11\",\"SHA-256\",\"SHA-256\",\"NIST5\",\"X11\",\"Scrypt\",\"POS 3.0\",\"Scrypt\",\"Scrypt\",\"Scrypt\",\"X13\",\"X11\",\"X11\",\"Equihash\",\"X11\",\"Scrypt\",\"CryptoNight\",\"SHA-256\",\"SHA-256\",\"X11\",\"Scrypt\",\"Multiple\",\"Scrypt\",\"Scrypt\",\"Scrypt\",\"SHA-256\",\"Scrypt\",\"Scrypt\",\"SHA-256D\",\"PoS\",\"Scrypt\",\"X11\",\"Lyra2Z\",\"PoS\",\"X13\",\"X14\",\"PoS\",\"SHA-256D\",\"Ethash\",\"Equihash\",\"DPoS\",\"X11\",\"Scrypt\",\"X11\",\"X13\",\"X11\",\"PoS\",\"Scrypt\",\"Scrypt\",\"X11\",\"PoS\",\"X11\",\"SHA-256\",\"Scrypt\",\"X11\",\"Scrypt\",\"Scrypt\",\"X11\",\"CryptoNight\",\"Scrypt\",\"Scrypt\",\"Scrypt\",\"Scrypt\",\"Quark\",\"QuBit\",\"Scrypt\",\"CryptoNight\",\"Lyra2RE\",\"Scrypt\",\"SHA-256\",\"X11\",\"Scrypt\",\"X11\",\"Scrypt\",\"CryptoNight-V7\",\"Scrypt\",\"Scrypt\",\"Scrypt\",\"X13\",\"X11\",\"Equihash\",\"Scrypt\",\"Scrypt\",\"Lyra2RE\",\"Scrypt\",\"Dagger-Hashimoto\",\"X11\",\"Blake2S\",\"X11\",\"Scrypt\",\"PoS\",\"X11\",\"NIST5\",\"PoS\",\"X11\",\"Scrypt\",\"Scrypt\",\"Scrypt\",\"SHA-256\",\"X11\",\"Scrypt\",\"Scrypt\",\"SHA-256\",\"PoS\",\"Scrypt\",\"X15\",\"SHA-256\",\"Scrypt\",\"POS 3.0\",\"CryptoNight-V7\",\"536\",\"Argon2d\",\"Blake2b\",\"Cloverhash\",\"CryptoNight\",\"NIST5\",\"X11\",\"NIST5\",\"Skein\",\"Scrypt\",\"X13\",\"Scrypt\",\"X11\",\"X11\",\"Scrypt\",\"CryptoNight\",\"X13\",\"Time Travel\",\"Scrypt\",\"Keccak\",\"SkunkHash v2 Raptor\",\"X11\",\"Skein\",\"SHA-256\",\"X11\",\"Scrypt\",\"VeChainThor Authority\",\"Scrypt\",\"PoS\",\"Scrypt\",\"Scrypt\",\"Scrypt\",\"Scrypt\",\"Scrypt\",\"Scrypt\",\"Scrypt\",\"CryptoNight\",\"SHA-512\",\"Ouroboros\",\"X11\",\"Equihash\",\"NeoScrypt\",\"X11\",\"Scrypt\",\"NeoScrypt\",\"Lyra2REv2\",\"Equihash\",\"Scrypt\",\"SHA-256\",\"NIST5\",\"PHI1612\",\"Dagger\",\"Scrypt\",\"Quark\",\"Scrypt\",\"POS 2.0\",\"Scrypt\",\"SHA-256\",\"X11\",\"NeoScrypt\",\"Ethash\",\"NeoScrypt\",\"X11\",\"DPoS\",\"NIST5\",\"X13\",\"Multiple\",\"Scrypt\",\"CryptoNight\",\"CryptoNight\",\"Ethash\",\"NIST5\",\"Quark\",\"X11\",\"CryptoNight-V7\",\"Scrypt\",\"Scrypt\",\"Scrypt\",\"X11\",\"BLAKE256\",\"X11\",\"NeoScrypt\",\"Quark\",\"NeoScrypt\",\"Scrypt\",\"Scrypt\",\"Scrypt\",\"X11\",\"X11\",\"SHA-256\",\"C11\",\"POS 3.0\",\"Ethash\",\"Scrypt\",\"CryptoNight\",\"SkunkHash\",\"Scrypt\",\"CryptoNight\",\"Scrypt\",\"Dagger\",\"Lyra2REv2\",\"X13\",\"Proof-of-BibleHash\",\"SHA-256 + Hive\",\"Scrypt\",\"Scrypt\",\"X11\",\"C11\",\"Proof-of-Authority\",\"X11\",\"XEVAN\",\"Scrypt\",\"VBFT\",\"Ethash\",\"CryptoNight\",\"Scrypt\",\"IMesh\",\"NIST5\",\"Scrypt\",\"Scrypt\",\"Equihash\",\"Scrypt\",\"Lyra2Z\",\"Green Protocol\",\"PoS\",\"Scrypt\",\"Semux BFT consensus\",\"X11\",\"Quark\",\"PoS\",\"CryptoNight\",\"X16R\",\"Scrypt\",\"NIST5\",\"Lyra2RE\",\"XEVAN\",\"Tribus\",\"Scrypt\",\"Lyra2Z\",\"CryptoNight\",\"CryptoNight Heavy\",\"CryptoNight\",\"Scrypt\",\"Scrypt\",\"Jump Consistent Hash\",\"SHA-256D\",\"CryptoNight\",\"Scrypt\",\"X15\",\"Scrypt\",\"Quark\",\"SHA-256\",\"DPoS\",\"X16R\",\"HMQ1725\",\"X11\",\"X16R\",\"Quark\",\"Quark\",\"Scrypt\",\"Lyra2REv2\",\"Quark\",\"Scrypt\",\"Scrypt\",\"CryptoNight-V7\",\"Cryptonight-GPU\",\"XEVAN\",\"CryptoNight Heavy\",\"X11\",\"X11\",\"Scrypt\",\"PoS\",\"SHA-256\",\"Keccak\",\"X11\",\"X11\",\"Scrypt\",\"SHA-512\",\"X16R\",\"ECC 256K1\",\"Equihash\",\"XEVAN\",\"Lyra2Z\",\"SHA-256\",\"XEVAN\",\"X11\",\"CryptoNight\",\"Quark\",\"Blake\",\"Blake\",\"Equihash\",\"Exosis\",\"Scrypt\",\"Scrypt\",\"Equihash\",\"Quark\",\"Equihash\",\"Quark\",\"Scrypt\",\"QuBit\",\"X11\",\"Scrypt\",\"XEVAN\",\"SHA-256D\",\"X11\",\"SHA-256\",\"X13\",\"SHA-256\",\"X11\",\"DPoS\",\"Scrypt\",\"Scrypt\",\"X11\",\"NeoScrypt\",\"Scrypt\",\"Blake\",\"Scrypt\",\"SHA-256\",\"Scrypt\",\"X11\",\"Scrypt\",\"Scrypt\",\"SHA-256\",\"X11\",\"SHA-256\",\"Scrypt\",\"Scrypt\",\"Scrypt\",\"Groestl\",\"X11\",\"Scrypt\",\"PoS\",\"Scrypt\",\"Scrypt\",\"X11\",\"SHA-256\",\"DPoS\",\"Scrypt\",\"Scrypt\",\"NeoScrypt\",\"Multiple\",\"X13\",\"Equihash+Scrypt\",\"DPoS\",\"Ethash\",\"DPoS\",\"SHA-256\",\"Leased POS\",\"PoS\",\"TRC10\",\"PoS\",\"SHA-256\",\"Scrypt\",\"CryptoNight\",\"Equihash\",\"Scrypt\"],\"Class\":{\"__ndarray__\":\"AAAAAAAAAAAAAAAAAAAAAAAAAAAAAAAAAAAAAAAAAAAAAAAAAAAAAAAAAAAAAAAAAAAAAAAAAAAAAAAAAAAAAAAAAAAAAAAAAAAAAAAAAAAAAAAAAAAAAAAAAAAAAAAAAAAAAAAAAAAAAAAAAAAAAAAAAAAAAAAAAAAAAAAAAAAAAAAAAAAAAAAAAAAAAAAAAAAAAAAAAAAAAAAAAAAAAAAAAAAAAAAAAAAAAAAAAAAAAAAAAAAAAAAAAAAAAAAAAAAAAAAAAAAAAAAAAAAAAAAAAAAAAAAAAAAAAAAAAAAAAAAAAAAAAAAAAAAAAAAAAAAAAAAAAAAAAAAAAAAAAAAAAAAAAAAAAAAAAAAAAAAAAAAAAAAAAAAAAAAAAAAAAAAAAAAAAAAAAAAAAAAAAAAAAAAAAAAAAAAAAAAAAAAAAAAAAAAAAAAAAAAAAAAAAAAAAAAAAAAAAAAAAAAAAAAAAAAAAAAAAAAAAAAAAAAAAAAAAAAAAAAAAAAAAAAAAAAAAAAAAAAAAAAAAAAAAAAAAAAAAAAAAAAAAAAAAAAAAAAAAAAAAAAAAAAAAAAAAAAAAAAAAAAAAAAAAAAAAAAAAAAAAAAAAAAAAAAAAAAAAAAAAAAAAAAAAAAAAAAAAAAAAAAAAAAAAAAAAAAAAAAAAAAAAAAAAAAAAAAAAAAAAAAAAAAAAAAAAAAAAAAAAAAAAAAAAAAAAAAAAAAAAAAAAAAAAAAAAAAAAAAAAAAAAAAAAAAAAAAAAAAAAAAAAAAAAAAAAAAAAAAAAAAAAAAAAAAAAAAAAAAAAAAAAAAAAAAAAAAAAAAAAAAAAAAAAAAAAAAAAAAAAAAAAAAAAAAAAAAAAAAAAAAAAAAAAAAAAAAAAAAAAAAAAAAAAAAAAAAAAAAAAAAAAAAAAAAAAAAAAAAAAAAAAAAAAAAAAAAAAAAAAAAAAAAAAAAAAAAAAAAAAAAAAAAAAAAAAAAAAAAAAAAAAAAAAAAAAAAAAAAAAAAAAAAAAAAAAAAAAAAAAAAAAAAAAAAAAAAAAAAAAAAAAAAAAAAAAAAAAAAAAAAAAAAAAAAAAAAAAAAAAAAAAAAAAAAAAAAAAAAAAAAAAAAAAAAAAAAAAAAAAAAAAAAAAAAAAAAAAAAAAAAAAAAAAAAAAAAAAAAAAAAAAAAAAAAAAAAAAAAAAAAAAAAAAAAAAAAAAAAAAAAAAAAAAAAAAAAAAAAAAAAAAAAAAAAAAAAAAAAAAAAAAAAAAAAAAAAAAAAAAAAAAAAAAAAAAAAAAAAAAAAAAAAAAAAAAAAAAAAAAAAAAAAAAAAAAAAAAAAAAAAAAAAAAAAAAAAAAAAAAAAAAAAAAAAAAAAAAAAAAAAAAAAAAAAAAAAAAAAAAAAAAAAAAAAAAAAAAAAAAAAAAAAAAAAAAAAAAAAAAAAAAAAAAAAAAAAAAAAAAAAAAAAAAAAAAAAAAAAAAAAAAAAAAAAAAAAAAAAAAAAAAAAAAAAAAAAAAAAAAAAAAAAAAAAAAAAAAAAAAAAAAAAAAAAAAAAAAAAAAAAAAAAAAAAAAAAAAAAAAAAAAAAAAAAAAAAAAAAAAAAAAAAAAAAAAAAAAAAAAAAAAAADAAAAAAAAAAAAAAAAAAAAAAAAAAAAAAAAAAAAAAAAAAAAAAAAAAAAAAAAAAAAAAAAAAAAAAAAAAAAAAAAAAAAAAAAAAAAAAAAAAAAAAAAAAAAAAAAAAAAAAAAAAAAAAAAAAAAAAAAAAAAAAAAAAAAAAAAAAAAAAAAAAAAAAAAAAAAAAAAAAAAAAAAAAAAAAAAAAAAAAAAAAAAAAAAAAAAAAAAAAAAAAAAAAAAAAAAAAAAAAAAAAAAAAAAAAAAAAAAAAAAAAAAAAAAAAAAAAAAAAAAAAAAAAAAAAAAAAAAAAAAAAAAAAAAAAAAAAAAAAAAAAAAAAAAAAAAAAAAAAAAAAAAAAAAAAAAAAAAAAAAAAAAAAAAAAAAAAAAAAAAAAAAAAAAAAAAAAAAAAAAAAAAAAAAAAIAAAAAAAAAAAAAAAAAAAAAAAAAAwAAAAAAAAAAAAAAAAAAAAAAAAAAAAAAAAAAAAAAAAAAAAAAAAAAAAAAAAAAAAAAAAAAAAAAAAAAAAAAAAAAAAAAAAAAAAAAAAAAAAAAAAAAAAAAAAAAAAAAAAAAAAAAAAAAAAAAAAAAAAAAAAAAAAAAAAAAAAAAAAAAAAAAAAAAAAAAAAAAAAAAAAAAAAAAAAAAAAAAAAAAAAAAAAAAAAAAAAAAAAAAAAAAAAAAAAAAAAAAAAAAAAAAAAAAAAAAAAAAAAAAAAAAAAAAAAAAAAAAAAAAAAAAAAAAAAAAAAAAAAAAAAAAAAAAAAAAAAAAAAAAAAAAAAAAAAAAAAAAAAAAAAAAAAAAAAAAAAAAAAAAAAAAAAAAAAAAAAAAAAAAAAAAAAAAAAAAAAAAAAAAAAAAAAAAAAAAAAAAAAAAAAAAAAAAAAAAAAAAAAAAAAAAAAAAAAAAAAAAAAAAAAAAAAAAAAAAAAAAAAAAAAAAAAAAAAAAAAAAAAAAAAAAAAAAAAAAAAAAAAAAAAAAAAAAAAAAAAAAAAAAAAAAAAAAAAAAAAAAAAAAAAAAAAAAAAAAAAAAAAAAAAAAAAAAAAAAAAAAAAAAAAAAAAAAAAAAAAAAAAAAAAAAAAAAAAAAAAAAAAAAAAAAAAAAAAAAAAAAAAAAAAAAAAAAAAAAAAAAAAAAAAAAAAAAAAAAAAAAAAAAAAAAAAAAAAAAAAAAAAAAAAAAAAAAAAAAAAAAAAAAAAAAAAAAAQAAAAAAAAAAAAAAAAAAAAAAAAAAAAAAAAAAAA==\",\"dtype\":\"int32\",\"order\":\"little\",\"shape\":[532]},\"CoinName\":[\"42 Coin\",\"404Coin\",\"EliteCoin\",\"Bitcoin\",\"Ethereum\",\"Litecoin\",\"Dash\",\"Monero\",\"Ethereum Classic\",\"ZCash\",\"Bitshares\",\"DigiByte\",\"BitcoinDark\",\"PayCoin\",\"ProsperCoin\",\"KoboCoin\",\"Spreadcoin\",\"Argentum\",\"Aurora Coin\",\"BlueCoin\",\"MyriadCoin\",\"MoonCoin\",\"ZetaCoin\",\"SexCoin\",\"Quatloo\",\"EnergyCoin\",\"QuarkCoin\",\"Riecoin\",\"Digitalcoin \",\"BitBar\",\"Catcoin\",\"CryptoBullion\",\"CannaCoin\",\"CryptCoin\",\"CasinoCoin\",\"Diamond\",\"Verge\",\"DevCoin\",\"EarthCoin\",\"E-Gulden\",\"Einsteinium\",\"Emerald\",\"Exclusive Coin\",\"FlutterCoin\",\"Franko\",\"FeatherCoin\",\"GrandCoin\",\"GlobalCoin\",\"GoldCoin\",\"HoboNickels\",\"HyperStake\",\"Infinite Coin\",\"IOCoin\",\"IXcoin\",\"KrugerCoin\",\"LuckyCoin\",\"Litebar \",\"MaxCoin\",\"MegaCoin\",\"MediterraneanCoin\",\"MintCoin\",\"MinCoin\",\"MazaCoin\",\"Nautilus Coin\",\"NavCoin\",\"NobleCoin\",\"Namecoin\",\"NyanCoin\",\"OpalCoin\",\"Orbitcoin\",\"PotCoin\",\"PhoenixCoin\",\"Reddcoin\",\"RonPaulCoin\",\"StableCoin\",\"SmartCoin\",\"SuperCoin\",\"SyncCoin\",\"SysCoin\",\"TeslaCoin\",\"TigerCoin\",\"TittieCoin\",\"TorCoin\",\"TerraCoin\",\"UnbreakableCoin\",\"Unobtanium\",\"UroCoin\",\"UnitaryStatus Dollar\",\"UltraCoin\",\"ViaCoin\",\"VeriCoin\",\"Vertcoin\",\"WorldCoin\",\"X11 Coin\",\"Crypti\",\"JouleCoin\",\"StealthCoin\",\"ZCC Coin\",\"ByteCoin\",\"DigitalNote \",\"BurstCoin\",\"StorjCoin\",\"MonaCoin\",\"Neutron\",\"FairCoin\",\"Gulden\",\"RubyCoin\",\"PesetaCoin\",\"Kore\",\"Wild Beast Coin\",\"Dnotes\",\"Flo\",\"8BIT Coin\",\"Sativa Coin\",\"ArtByte\",\"Folding Coin\",\"Ucoin\",\"Unitus\",\"CypherPunkCoin\",\"OmniCron\",\"Vtorrent\",\"GreenCoin\",\"Cryptonite\",\"MasterCoin\",\"SoonCoin\",\"1Credit\",\"IslaCoin\",\"Nexus\",\"MarsCoin \",\"Crypto\",\"Anarchists Prime\",\"Droidz\",\"BowsCoin\",\"Squall Coin\",\"Song Coin\",\"BitZeny\",\"Diggits\",\"Expanse\",\"Paycon\",\"Siacoin\",\"Emercoin\",\"EverGreenCoin\",\"MindCoin\",\"I0coin\",\"Decred\",\"Revolution VR\",\"HOdlcoin\",\"EDRCoin\",\"Hitcoin\",\"Gamecredits\",\"DubaiCoin\",\"CarpeDiemCoin\",\"PWR Coin\",\"BillaryCoin\",\"GPU Coin\",\"Adzcoin\",\"SoilCoin\",\"YoCoin\",\"SibCoin\",\"EuropeCoin\",\"ZeitCoin\",\"SwingCoin\",\"SafeExchangeCoin\",\"Nebuchadnezzar\",\"Francs\",\"BolivarCoin\",\"Ratecoin\",\"Revenu\",\"Clockcoin\",\"VIP Tokens\",\"BitSend\",\"Omni\",\"Let it Ride\",\"PutinCoin\",\"iBankCoin\",\"Frankywillcoin\",\"MudraCoin\",\"PizzaCoin\",\"Lutetium Coin\",\"Komodo\",\"GoldBlocks\",\"CarterCoin\",\"Karbo\",\"BitTokens\",\"ZayedCoin\",\"MustangCoin\",\"ZoneCoin\",\"Circuits of Value\",\"RootCoin\",\"DopeCoin\",\"BitCurrency\",\"DollarCoin\",\"Swiscoin\",\"Shilling\",\"BuzzCoin\",\"Opair\",\"PesoBit\",\"Halloween Coin\",\"ZCoin\",\"CoffeeCoin\",\"RoyalCoin\",\"GanjaCoin V2\",\"TeamUP\",\"LanaCoin\",\"Elementrem\",\"ZClassic\",\"ARK\",\"InsaneCoin\",\"KiloCoin\",\"ArtexCoin\",\"EmberCoin\",\"XenixCoin\",\"FreeCoin\",\"PLNCoin\",\"AquariusCoin\",\"Kurrent\",\"Creatio\",\"Eternity\",\"Eurocoin\",\"BitcoinFast\",\"Stakenet\",\"BitConnect Coin\",\"MoneyCoin\",\"Enigma\",\"Cannabis Industry Coin\",\"Russiacoin\",\"PandaCoin\",\"GameUnits\",\"GAKHcoin\",\"Allsafe\",\"LiteCreed\",\"OsmiumCoin\",\"Bikercoins\",\"HexxCoin\",\"Klingon Empire Darsek\",\"Internet of People\",\"KushCoin\",\"Printerium\",\"PacCoin\",\"Impeach\",\"Citadel\",\"Zilbercoin\",\"FirstCoin\",\"BeaverCoin\",\"FindCoin\",\"VaultCoin\",\"Zero\",\"OpenChat\",\"Canada eCoin\",\"Zoin\",\"RenosCoin\",\"DubaiCoin\",\"VirtacoinPlus\",\"TajCoin\",\"Impact\",\"EB3coin\",\"Atmos\",\"HappyCoin\",\"Coinonat\",\"MacronCoin\",\"Condensate\",\"Independent Money System\",\"ArgusCoin\",\"LomoCoin\",\"ProCurrency\",\"GoldReserve\",\"BenjiRolls\",\"GrowthCoin\",\"ILCoin\",\"Phreak\",\"Degas Coin\",\"HTML5 Coin\",\"Ultimate Secure Cash\",\"EquiTrader\",\"QTUM\",\"Quantum Resistant Ledger\",\"Espers\",\"Dynamic\",\"Nano\",\"ChanCoin\",\"Dinastycoin\",\"Denarius\",\"DigitalPrice\",\"Virta Unique Coin\",\"Bitcoin Planet\",\"Unify\",\"BritCoin\",\"SocialCoin\",\"ArcticCoin\",\"DAS\",\"Linda\",\"LeviarCoin\",\"DeepOnion\",\"Bitcore\",\"gCn Coin\",\"SmartCash\",\"Signatum\",\"Onix\",\"Cream\",\"Bitcoin Cash\",\"Monoeci\",\"Draftcoin\",\"Vechain\",\"Sojourn Coin\",\"Stakecoin\",\"NewYorkCoin\",\"FrazCoin\",\"Kronecoin\",\"AdCoin\",\"Linx\",\"CoinonatX\",\"Ethereum Dark\",\"Sumokoin\",\"Obsidian\",\"Cardano\",\"Regalcoin\",\"BitcoinZ\",\"TrezarCoin\",\"Elements\",\"TerraNovaCoin\",\"VIVO Coin\",\"Rupee\",\"Bitcoin Gold\",\"WomenCoin\",\"Theresa May Coin\",\"NamoCoin\",\"LUXCoin\",\"Pirl\",\"Xios\",\"Bitcloud 2.0\",\"eBoost\",\"KekCoin\",\"BlackholeCoin\",\"Infinity Economics\",\"Pura\",\"Innova\",\"Ellaism\",\"GoByte\",\"Magnet\",\"Lamden Tau\",\"Electra\",\"Bitcoin Diamond\",\"SHIELD\",\"Cash & Back Coin\",\"UltraNote\",\"BitCoal\",\"DaxxCoin\",\"Bulwark\",\"Kalkulus\",\"AC3\",\"Lethean\",\"GermanCoin\",\"LiteCoin Ultra\",\"PopularCoin\",\"PhantomX\",\"Photon\",\"Sucre\",\"SparksPay\",\"Digiwage\",\"GunCoin\",\"IrishCoin\",\"Trollcoin\",\"Litecoin Plus\",\"Monkey Project\",\"Pioneer Coin\",\"UnitedBitcoin\",\"Interzone\",\"TokenPay\",\"1717 Masonic Commemorative Token\",\"My Big Coin\",\"TurtleCoin\",\"MUNcoin\",\"Unified Society USDEX\",\"Niobio Cash\",\"ShareChain\",\"Travelflex\",\"KREDS\",\"Tokyo Coin\",\"BiblePay\",\"LitecoinCash\",\"BitFlip\",\"LottoCoin\",\"Crypto Improvement Fund\",\"Stipend\",\"Poa Network\",\"Pushi\",\"Ellerium\",\"Velox\",\"Ontology\",\"Callisto Network\",\"BitTube\",\"Poseidon\",\"Aidos Kuneen\",\"Bitspace\",\"Briacoin\",\"Ignition\",\"Bitrolium\",\"MedicCoin\",\"Alpenschillling\",\"Bitcoin Green\",\"Deviant Coin\",\"Abjcoin\",\"Semux\",\"FuturoCoin\",\"Carebit\",\"Zealium\",\"Monero Classic\",\"Proton\",\"iDealCash\",\"Jumpcoin\",\"Infinex\",\"Bitcoin Incognito\",\"KEYCO\",\"HollyWoodCoin\",\"GINcoin\",\"PlatinCoin\",\"Loki\",\"Newton Coin\",\"Swisscoin\",\"Xt3ch\",\"MassGrid\",\"TheVig\",\"PluraCoin\",\"EmaratCoin\",\"Dekado\",\"Lynx\",\"Poseidon Quark\",\"BitcoinWSpectrum\",\"Muse\",\"Motion\",\"PlusOneCoin\",\"Axe\",\"Trivechain\",\"Dystem\",\"Giant\",\"Peony Coin\",\"Absolute Coin\",\"Vitae\",\"HexCoin\",\"TPCash\",\"Webchain\",\"Ryo\",\"Urals Coin\",\"Qwertycoin\",\"ARENON\",\"EUNO\",\"MMOCoin\",\"Ketan\",\"Project Pai\",\"XDNA\",\"PAXEX\",\"Azart\",\"ThunderStake\",\"Kcash\",\"Xchange\",\"Acute Angle Cloud\",\"CrypticCoin\",\"Bettex coin\",\"Actinium\",\"Bitcoin SV\",\"BitMoney\",\"Junson Ming Chan Coin\",\"FREDEnergy\",\"HerbCoin\",\"Universal Molecule\",\"Lithium\",\"PirateCash\",\"Exosis\",\"Block-Logic\",\"Oduwa\",\"Beam\",\"Galilel\",\"Bithereum\",\"Crypto Sports\",\"Credit\",\"SLICE\",\"Dash Platinum\",\"Nasdacoin\",\"Beetle Coin\",\"Titan Coin\",\"Award\",\"BLAST\",\"Bitcoin Rhodium\",\"GlobalToken\",\"Insane Coin\",\"ALAX\",\"LiteDoge\",\"SolarCoin\",\"TruckCoin\",\"UFO Coin\",\"OrangeCoin\",\"BlakeCoin\",\"BitstarCoin\",\"NeosCoin\",\"HyperCoin\",\"PinkCoin\",\"Crypto Escudo\",\"AudioCoin\",\"IncaKoin\",\"Piggy Coin\",\"Crown Coin\",\"Genstake\",\"SmileyCoin\",\"XiaoMiCoin\",\"Groestlcoin\",\"CapriCoin\",\" ClubCoin\",\"Radium\",\"Bata\",\"Pakcoin\",\"Creditbit \",\"OKCash\",\"Lisk\",\"HiCoin\",\"WhiteCoin\",\"FriendshipCoin\",\"JoinCoin\",\"Triangles Coin\",\"Vollar\",\"EOS\",\"Reality Clash\",\"Oxycoin\",\"TigerCash\",\"Waves\",\"Particl\",\"BitTorrent\",\"Nxt\",\"ZEPHYR\",\"Gapcoin\",\"Beldex\",\"Horizen\",\"BitcoinPlus\"],\"ProofType\":[\"PoW/PoS\",\"PoW/PoS\",\"PoW/PoS\",\"PoW\",\"PoW\",\"PoW\",\"PoW/PoS\",\"PoW\",\"PoW\",\"PoW\",\"PoS\",\"PoW\",\"PoW/PoS\",\"PoS\",\"PoW\",\"PoW/PoS\",\"PoW\",\"PoW\",\"PoW/PoS\",\"PoW/PoS\",\"PoW\",\"PoW\",\"PoW\",\"PoW\",\"PoW\",\"PoW/PoS\",\"PoW\",\"PoW\",\"PoW\",\"PoW/PoS\",\"PoW\",\"PoW/PoS\",\"PoW\",\"PoW\",\"PoC\",\"PoW/PoS\",\"PoW\",\"PoW\",\"PoW\",\"PoW\",\"PoW\",\"PoW\",\"PoS\",\"PoS/PoW/PoT\",\"PoW\",\"PoW\",\"PoW\",\"PoW\",\"PoW\",\"PoW/PoS\",\"PoS\",\"PoW\",\"PoW/PoS\",\"PoW\",\"PoW\",\"PoW\",\"PoW\",\"PoW/PoS\",\"PoW\",\"PoW\",\"PoS\",\"PoW\",\"PoW/PoS\",\"PoS\",\"PoW/PoS\",\"PoW\",\"PoW\",\"PoW\",\"PoW/PoS\",\"PoW/PoS\",\"PoW/PoS\",\"PoW/PoS\",\"PoW/PoS\",\"PoW\",\"PoW\",\"PoW\",\"PoS\",\"PoW/PoS\",\"PoW\",\"PoS\",\"PoW\",\"PoS\",\"PoW/PoS\",\"PoW\",\"PoW\",\"PoW\",\"PoW\",\"PoW/PoS\",\"PoW/PoS\",\"PoW\",\"PoST\",\"PoW\",\"PoW\",\"PoW/PoS\",\"PoS\",\"PoW\",\"PoW/PoS\",\"PoW/PoS\",\"PoW\",\"PoW\",\"PoC\",\"PoS\",\"PoW\",\"PoW/PoS\",\"PoW/PoS\",\"PoW\",\"PoS\",\"PoW\",\"PoW/PoS\",\"PoW\",\"PoS\",\"PoW\",\"PoW/PoS\",\"PoW/PoS\",\"PoW\",\"PoW\",\"PoS\",\"PoW\",\"PoW\",\"PoW\",\"PoW/PoS\",\"PoW\",\"PoW\",\"PoW\",\"PoW\",\"PoW\",\"PoW/PoS\",\"PoW/nPoS\",\"PoW\",\"PoW\",\"PoW\",\"PoW/PoS\",\"PoW\",\"PoS/PoW\",\"PoW\",\"PoW\",\"PoS\",\"PoW\",\"PoW/PoS\",\"PoW\",\"PoW/PoS\",\"PoW/PoS\",\"PoW\",\"PoW\",\"PoW/PoS\",\"PoW\",\"PoW\",\"PoW/PoS\",\"PoW/PoS\",\"PoW\",\"PoW/PoS\",\"PoW\",\"PoW/PoS\",\"PoW/PoS\",\"PoS\",\"PoW\",\"PoW\",\"PoW\",\"PoW\",\"PoW/PoS\",\"PoS\",\"PoW/PoS\",\"PoC\",\"PoS\",\"PoW\",\"PoW\",\"PoW/PoS\",\"PoW/PoS\",\"PoW/PoS\",\"PoW/PoS\",\"PoW/PoS\",\"PoW\",\"PoS\",\"PoW/PoS\",\"PoW/PoS\",\"PoW/PoS\",\"PoS\",\"PoW\",\"PoS\",\"dPoW/PoW\",\"PoW/PoS\",\"PoW/PoS\",\"PoW\",\"PoW/PoS\",\"PoW\",\"PoW/PoS\",\"PoW/PoS\",\"PoW\",\"PoW/PoS\",\"PoW\",\"PoS\",\"PoW\",\"PoW/PoW\",\"PoW\",\"PoW/PoS\",\"PoS\",\"PoW/PoS\",\"PoW/PoS\",\"PoW\",\"PoS\",\"PoS\",\"PoW/PoS\",\"PoS\",\"PoW/PoS\",\"PoW\",\"PoW\",\"DPoS\",\"PoW/PoS\",\"PoW\",\"PoW\",\"PoW/PoS\",\"PoW/PoS\",\"PoS\",\"PoW/PoS\",\"PoW/PoS\",\"PoW\",\"PoS\",\"PoW/PoS\",\"PoW/PoS\",\"PoW/PoS\",\"TPoS\",\"PoW/PoS\",\"PoW/PoS\",\"PoW/PoS\",\"PoW\",\"PoW/PoS\",\"PoS\",\"PoW/PoS\",\"PoW/PoS\",\"PoS\",\"PoW/PoS\",\"PoW\",\"PoW\",\"PoW\",\"PoW/PoS\",\"PoW/PoS\",\"PoW/PoS\",\"PoW/PoS\",\"PoW\",\"PoW/PoS\",\"PoW\",\"PoS\",\"PoW/PoS \",\"PoW\",\"PoS\",\"PoW\",\"PoW\",\"PoW/PoS\",\"PoW\",\"PoW\",\"PoS\",\"PoW\",\"PoW/PoS\",\"PoW/PoS\",\"PoW/PoS\",\"PoW\",\"PoS\",\"PoW/PoS\",\"PoW\",\"PoS\",\"PoW/PoS\",\"PoW/PoS\",\"PoW/PoS\",\"PoW/PoS\",\"PoS\",\"PoW/PoS\",\"PoW\",\"PoS\",\"PoW\",\"PoS\",\"PoW/PoS\",\"PoW/PoS\",\"PoS\",\"PoW\",\"PoS\",\"PoW\",\"PoW/PoS\",\"PoW\",\"PoW\",\"PoW\",\"PoW\",\"PoW/PoS\",\"PoW\",\"PoW/PoS\",\"PoW/PoS\",\"PoW\",\"PoW/PoS\",\"PoW\",\"PoW\",\"PoW\",\"PoW/PoS\",\"PoW\",\"PoW/PoS\",\"PoW\",\"PoW\",\"PoW\",\"PoS\",\"PoW\",\"PoW/PoS\",\"PoW\",\"PoW/PoS\",\"PoS\",\"Proof of Authority\",\"PoW\",\"PoS\",\"PoW\",\"PoW\",\"PoW\",\"PoW\",\"PoW\",\"PoW/PoS\",\"PoW/PoS\",\"PoW\",\"PoS\",\"PoS\",\"PoW/PoS\",\"PoW\",\"PoW/PoS\",\"PoW\",\"PoW/PoS\",\"PoW\",\"PoS\",\"PoW\",\"PoW/PoS\",\"PoW/PoS\",\"PoW/PoS\",\"PoW/PoS\",\"PoW\",\"PoW/PoS\",\"PoW/PoS\",\"PoW\",\"PoS\",\"PoW/PoS\",\"PoS\",\"PoW\",\"PoW\",\"PoW\",\"PoW\",\"PoW/PoS\",\"DPoS\",\"PoW/PoS\",\"PoW/PoS\",\"PoW\",\"PoW/PoS\",\"PoW\",\"PoW\",\"PoW\",\"PoS\",\"PoS\",\"PoW\",\"PoW\",\"PoW/PoS\",\"PoW/PoS\",\"PoW\",\"PoW/PoS\",\"PoW\",\"PoW\",\"PoW\",\"PoS\",\"PoW\",\"PoW\",\"PoW/PoS\",\"PoW/PoS\",\"PoS\",\"PoW\",\"PoW\",\"PoW\",\"PoS\",\"PoS\",\"PoW and PoS\",\"PoW\",\"PoW\",\"PoW/PoS\",\"PoW\",\"PoW\",\"PoW\",\"PoW\",\"PoS\",\"POBh\",\"PoW + Hive\",\"PoW\",\"PoW\",\"PoW\",\"PoW/PoS\",\"PoA\",\"PoW/PoS\",\"PoW/PoS\",\"PoS\",\"PoS\",\"PoW\",\"PoW\",\"PoW\",\"PoW\",\"PoW/PoS\",\"PoW/PoS\",\"PoW/PoS\",\"PoW\",\"PoS\",\"PoW\",\"PoS\",\"PoS\",\"PoW/PoS\",\"DPoS\",\"PoW\",\"PoW/PoS\",\"PoS\",\"PoW\",\"PoS\",\"PoW/PoS\",\"PoW\",\"PoW\",\"PoS/PoW\",\"PoW\",\"PoS\",\"PoW\",\"PoW\",\"PoW\",\"PoW\",\"PoW/PoS\",\"PoS\",\"PoW\",\"PoW/PoS\",\"PoW\",\"PoW/PoS\",\"PoS\",\"HPoW\",\"PoS\",\"PoS\",\"PoS\",\"PoW\",\"PoW\",\"PoW\",\"PoW/PoS\",\"PoS\",\"PoW/PoS\",\"PoS\",\"PoW/PoS\",\"PoS\",\"PoW\",\"PoW/PoS\",\"PoW\",\"PoW\",\"PoW\",\"PoW\",\"PoS\",\"PoW/PoS\",\"PoS\",\"PoS\",\"PoW\",\"PoW/PoS\",\"PoS\",\"PoW\",\"PoW/PoS\",\"Zero-Knowledge Proof\",\"PoW\",\"DPOS\",\"PoW\",\"PoS\",\"PoW\",\"PoW\",\"Pos\",\"PoS\",\"PoW\",\"PoW/PoS\",\"PoW\",\"PoW\",\"PoS\",\"PoW\",\"PoW\",\"PoW/PoS\",\"PoW\",\"PoW/PoS\",\"PoW\",\"PoS\",\"PoW/PoS\",\"PoW\",\"PoS\",\"PoW/PoS\",\"PoW/PoS\",\"PoW/PoS\",\"PoW/PoS\",\"PoW\",\"PoW\",\"PoW\",\"PoW/PoS\",\"DPoS\",\"PoW/PoS\",\"PoW\",\"PoW/PoS\",\"PoW\",\"PoW/PoS\",\"PoW\",\"PoW/PoS\",\"PoS\",\"PoW/PoS\",\"PoW/PoS\",\"PoW\",\"PoW/PoS\",\"PoW/PoS\",\"PoW/PoS\",\"PoW\",\"PoW/PoS\",\"PoW\",\"PoW/PoS\",\"PoW\",\"PoW/PoS\",\"PoW/PoS\",\"PoS\",\"PoW\",\"PoW\",\"Proof of Trust\",\"PoW/PoS\",\"DPoS\",\"PoS\",\"PoW/PoS\",\"PoW/PoS\",\"PoW\",\"PoW/PoS\",\"PoW\",\"DPoS\",\"PoW\",\"DPoS\",\"PoS\",\"LPoS\",\"PoS\",\"DPoS\",\"PoS/LPoS\",\"DPoS\",\"PoW/PoS\",\"PoW\",\"PoW\",\"PoS\"],\"TotalCoinSupply\":[\"42\",\"532000000\",\"314159265359\",\"21000000\",\"0\",\"84000000\",\"22000000\",\"0\",\"210000000\",\"21000000\",\"3600570502\",\"21000000000\",\"22000000\",\"12500000\",\"21000000\",\"350000000\",\"20000000\",\"64000000\",\"16768584\",\"0\",\"2000000000\",\"384000000000\",\"169795588\",\"250000000\",\"100000000\",\"0\",\"247000000\",\"84000000\",\"48166000\",\"500000\",\"21000000 \",\"1000000\",\"13140000\",\"18000000\",\"40000000000\",\"4380000\",\"16555000000\",\"21000000000\",\"13500000000\",\"21000000 \",\"299792458\",\"32000000\",\"0\",\"0\",\"11235813\",\"336000000\",\"1420609614\",\"70000000\",\"72245700\",\"120000000\",\"0\",\"90600000000\",\"22000000\",\"21000000\",\"265420800\",\"20000000\",\"1350000\",\"100000000\",\"42000000\",\"200000000\",\"0\",\"10000000\",\"2419200000\",\"16180000\",\"0\",\"15000000000\",\"21000000\",\"337000000\",\"0\",\"3770000\",\"420000000\",\"98000000\",\"0\",\"21000000\",\"250000000\",\"51200000\",\"0\",\"1000\",\"888000000\",\"100000000\",\"47011968\",\"2300000000\",\"10000000\",\"42000000\",\"80000000\",\"250000\",\"0\",\"1600000000\",\"100000000\",\"23000000\",\"0\",\"84000000\",\"265420800\",\"5500000\",\"0\",\"45000000\",\"0\",\"1000000000\",\"184467440735\",\"10000000000\",\"2158812800\",\"500000000\",\"105120000\",\"68000000\",\"0\",\"1680000000\",\"0\",\"166386000\",\"12000000\",\"2628000\",\"500000000\",\"160000000\",\"0\",\"10000000\",\"1000000000\",\"1000000000\",\"20000000\",\"0\",\"0\",\"3371337\",\"20000000\",\"10000000000\",\"1840000000\",\"619478\",\"21000000\",\"92000000000\",\"0\",\"78000000\",\"33000000\",\"65789100\",\"53760000\",\"5060000\",\"21000000\",\"0\",\"210240000\",\"250000000\",\"100000000\",\"16906397\",\"50000000\",\"0\",\"1000000000\",\"26298000\",\"16000000\",\"21000000\",\"21000000\",\"210000000\",\"81962100\",\"22000000\",\"26550000000\",\"84000000\",\"10500000\",\"21626280000 \",\"0\",\"42000000\",\"221052632\",\"84000000\",\"30000000\",\"168351300\",\"24000000\",\"384000000\",\" 99000000000\",\"40000000\",\"2147483647\",\"20000000\",\"20000000\",\"25000000\",\"75000000\",\"222725000\",\"525000000\",\"90000000\",\"139000000\",\"616448\",\"33500000\",\"2000000000\",\"44333333\",\"100000000\",\"200000000\",\"25000000\",\"657000000\",\"200000000\",\"50000000\",\"90000000\",\"10000000\",\"21000000\",\"9736000\",\"3000000\",\"21000000\",\"1200000000\",\"0\",\"200000000\",\"0\",\"10638298\",\"3100000000\",\"30000000\",\"20000000000\",\"74000000\",\"0\",\"1500000000\",\"21400000\",\"39999898\",\"2500124\",\"100000000\",\"301000000\",\"7506000000\",\"26205539\",\"21000000\",\"125000000\",\"30000000\",\"10000000000\",\"500000000\",\"850000000\",\"3853326.77707314\",\"50000000\",\"38540000 \",\"42000000\",\"228000000\",\"20000000\",\"60000000\",\"20000000\",\"33000000\",\"76500000\",\"28000000\",\"650659833\",\"5000000\",\"21000000\",\"144000000\",\"32514916898\",\"13000000\",\"3315789\",\"15000000\",\"78835200\",\"2714286\",\"25000000\",\"9999999\",\"500000000\",\"21000000\",\"9354000\",\"20000000\",\"100000000000\",\"21933333\",\"185000000\",\"55000000\",\"110000000\",\"3360000\",\"14524851.4827\",\"1000000000\",\"17000000\",\"1000000000\",\"100000000 \",\"21000000\",\"34426423\",\"2232901\",\"100000000\",\"36900000\",\"110000000\",\"4000000000\",\"110290030\",\"100000000\",\"48252000\",\"400000000\",\"500000000\",\"21212121\",\"28600000\",\"1000000000\",\"75000000000\",\"40000000\",\"35520400\",\"2000000000\",\"2500000000\",\"30000000\",\"105000000\",\"90000000000\",\"200084200\",\"72000000\",\"100000000\",\"105000000\",\"50000000000\",\"0\",\"340282367\",\"30000000\",\"2000000000\",\"10000000\",\"100000000\",\"120000000\",\"100000000\",\"19276800\",\"30000000\",\" 75000000\",\"60000000\",\"18900000\",\"50000000000\",\"54000000\",\"18898187.6216583\",\"21000000\",\"200000000000\",\"5000000000\",\"137500000\",\"1100000000\",\"100000000\",\"21000000\",\"9507271\",\"17405891.19707116\",\"86712634466\",\"10500000000\",\"61599965\",\"0\",\"20000000\",\"84000000\",\"100000000\",\"100000000\",\"48252000\",\"4200000\",\"88888888\",\"91388946\",\"45000000000\",\"27000000\",\"21000000000\",\"400000000\",\"1800000000\",\"15733333\",\"27000000\",\"24000000\",\"21000000\",\"25000000000\",\"100000000\",\"1200000000\",\"60000000\",\"156306732.71\",\"21000000\",\"200000000\",\"100000000\",\"21000000\",\"14788275.991\",\"9000000000\",\"350000000\",\"45000000\",\"280000000\",\"31800000\",\"144000000\",\"500000000\",\"30000000000\",\"210000000\",\"660000000\",\"210000000\",\"85000000000\",\"12500000\",\"10000000000\",\"27716121\",\"20000000\",\"550000000\",\"999481516\",\"50000000000\",\"150000000\",\"4999999999\",\"50000000\",\" 90000000000\",\"19800000\",\"21000000\",\"120000000\",\"500000000\",\"64000000\",\"900000000\",\"4000000\",\"21000000\",\"23000000\",\"20166000\",\"23000000\",\"25000000\",\"1618033\",\"30000000\",\"1000000000000\",\"16600000\",\"232000000\",\"336000000\",\"10000000000\",\"100000000\",\"1100000000\",\"800000000\",\"5200000000\",\"840000000\",\"40000000\",\"18406979840\",\"500000000\",\"19340594\",\"252460800\",\"25000000\",\"60000000\",\"124000000\",\"1000000000\",\"6500000000\",\"1000000000\",\"21000000\",\"25000000\",\"50000000\",\"3000000\",\"5000000\",\"70000000\",\"500000000\",\"300000000\",\"21000000\",\"88000000\",\"30000000\",\"100000000\",\"100000000\",\"200000000\",\"80000000\",\"18400000\",\"45000000\",\"5121951220\",\"21000000\",\"26280000\",\"21000000\",\"18000000\",\"26000000\",\"10500000\",\"600000518\",\"150000000\",\"184000000000\",\"10200000000\",\"44000000\",\"168000000\",\"100000000\",\"1000000000\",\"84000000\",\"90000000\",\"92000000000\",\"650000000 \",\"100262205\",\"18081806 \",\"22075700\",\"21000000\",\"21000000\",\"82546564\",\"21000000\",\"5151000\",\"16880000000\",\"52500000\",\"100000000\",\"22105263\",\"1000000000\",\"1750000000\",\"88188888\",\"210000000\",\"184470000000\",\"55000000\",\"50000000\",\"260000000\",\"210000000\",\"2100000000\",\"366000000\",\"100000000\",\"25000000\",\"18000000000\",\"1000000000\",\"100000000\",\"1000000000\",\"7600000000\",\"50000000\",\"84000000\",\"21000000\",\"70000000000\",\"0\",\"8080000000\",\"54000000\",\"105120001.44\",\"25228800\",\"105000000\",\"21000000\",\"120000000\",\"21000000\",\"262800000\",\"19035999\",\"30886000\",\"13370000\",\"74800000000\",\"100000000\",\"19700000\",\"84000000\",\"500000000\",\"5000000000\",\"420000000\",\"64000000\",\"2100000\",\"168000000\",\"30000000\",\"1000000000\",\"35000000000\",\"98100000000\",\"0\",\"4000000000\",\"200000000\",\"7000000000\",\"54256119\",\"21000000\",\"0\",\"500000000\",\"1000000000\",\"10500000000\",\"190000000\",\"1000000000\",\"42000000\",\"15000000\",\"50000000000\",\"400000000\",\"105000000\",\"208000000\",\"160000000\",\"9000000\",\"5000000\",\"182000000\",\"16504333\",\"105000000\",\"159918400\",\"10008835635\",\"300000000\",\"60168145\",\"2800000\",\"120000\",\"2100000000\",\"0\",\"24487944\",\"0\",\"1000000000\",\"100000000\",\"8634140\",\"990000000000\",\"1000000000\",\"2000000000\",\"250000000\",\"1400222610\",\"21000000\",\"1000000\"],\"TotalCoinsMined\":{\"__ndarray__\":\"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\",\"dtype\":\"float64\",\"order\":\"little\",\"shape\":[532]}},\"selected\":{\"id\":\"1757\"},\"selection_policy\":{\"id\":\"1791\"}},\"id\":\"1756\",\"type\":\"ColumnDataSource\"},{\"attributes\":{},\"id\":\"1759\",\"type\":\"StringEditor\"},{\"attributes\":{},\"id\":\"1783\",\"type\":\"NumberFormatter\"},{\"attributes\":{\"editor\":{\"id\":\"1759\"},\"field\":\"CoinName\",\"formatter\":{\"id\":\"1758\"},\"title\":\"CoinName\"},\"id\":\"1760\",\"type\":\"TableColumn\"},{\"attributes\":{},\"id\":\"1784\",\"type\":\"IntEditor\"},{\"attributes\":{},\"id\":\"1774\",\"type\":\"StringEditor\"}],\"root_ids\":[\"1754\"]},\"title\":\"Bokeh Application\",\"version\":\"2.4.2\"}};\n",
       "    var render_items = [{\"docid\":\"5647cd98-c80a-4f4f-9776-40a9ec05c5e4\",\"root_ids\":[\"1754\"],\"roots\":{\"1754\":\"a4f94927-5f7f-4220-8091-fbd7a7fe3f21\"}}];\n",
       "    root.Bokeh.embed.embed_items_notebook(docs_json, render_items);\n",
       "  }\n",
       "  if (root.Bokeh !== undefined && root.Bokeh.Panel !== undefined) {\n",
       "    embed_document(root);\n",
       "  } else {\n",
       "    var attempts = 0;\n",
       "    var timer = setInterval(function(root) {\n",
       "      if (root.Bokeh !== undefined && root.Bokeh.Panel !== undefined) {\n",
       "        clearInterval(timer);\n",
       "        embed_document(root);\n",
       "      } else if (document.readyState == \"complete\") {\n",
       "        attempts++;\n",
       "        if (attempts > 200) {\n",
       "          clearInterval(timer);\n",
       "          console.log(\"Bokeh: ERROR: Unable to run BokehJS code because BokehJS library is missing\");\n",
       "        }\n",
       "      }\n",
       "    }, 25, root)\n",
       "  }\n",
       "})(window);</script>"
      ],
      "text/plain": [
       ":Table   [CoinName,Algorithm,ProofType,TotalCoinSupply,TotalCoinsMined,Class]"
      ]
     },
     "execution_count": 143,
     "metadata": {
      "application/vnd.holoviews_exec.v0+json": {
       "id": "1754"
      }
     },
     "output_type": "execute_result"
    }
   ],
   "source": [
    "# Create a table with tradable cryptocurrencies.\n",
    "columns = ['CoinName', 'Algorithm', 'ProofType', 'TotalCoinSupply', 'TotalCoinsMined', 'Class']\n",
    "clustered_df.hvplot.table(columns)\n"
   ]
  },
  {
   "cell_type": "code",
   "execution_count": 144,
   "metadata": {},
   "outputs": [
    {
     "name": "stdout",
     "output_type": "stream",
     "text": [
      "There are 532 tradable cryptocurrencies.\n"
     ]
    }
   ],
   "source": [
    "# Print the total number of tradable cryptocurrencies.\n",
    "rows_count = clustered_df.shape[0]\n",
    "print(\"There are\", rows_count, \"tradable cryptocurrencies.\")"
   ]
  },
  {
   "cell_type": "code",
   "execution_count": 145,
   "metadata": {},
   "outputs": [],
   "source": [
    "# Scaling data to create the scatter plot with tradable cryptocurrencies.\n",
    "clustered_df['TotalCoinsMined'] = clustered_df['TotalCoinsMined'].astype(float) / 1000000000\n",
    "clustered_df['TotalCoinSupply'] = clustered_df['TotalCoinSupply'].astype(float) / 1000000000"
   ]
  },
  {
   "cell_type": "code",
   "execution_count": 146,
   "metadata": {},
   "outputs": [
    {
     "data": {
      "text/html": [
       "<div>\n",
       "<style scoped>\n",
       "    .dataframe tbody tr th:only-of-type {\n",
       "        vertical-align: middle;\n",
       "    }\n",
       "\n",
       "    .dataframe tbody tr th {\n",
       "        vertical-align: top;\n",
       "    }\n",
       "\n",
       "    .dataframe thead th {\n",
       "        text-align: right;\n",
       "    }\n",
       "</style>\n",
       "<table border=\"1\" class=\"dataframe\">\n",
       "  <thead>\n",
       "    <tr style=\"text-align: right;\">\n",
       "      <th></th>\n",
       "      <th>TotalCoinSupply</th>\n",
       "      <th>TotalCoinsMined</th>\n",
       "      <th>CoinName</th>\n",
       "      <th>Class</th>\n",
       "    </tr>\n",
       "  </thead>\n",
       "  <tbody>\n",
       "    <tr>\n",
       "      <th>0</th>\n",
       "      <td>4.200000e-08</td>\n",
       "      <td>4.199995e-08</td>\n",
       "      <td>42 Coin</td>\n",
       "      <td>0</td>\n",
       "    </tr>\n",
       "    <tr>\n",
       "      <th>2</th>\n",
       "      <td>5.320000e-01</td>\n",
       "      <td>1.055185e+00</td>\n",
       "      <td>404Coin</td>\n",
       "      <td>0</td>\n",
       "    </tr>\n",
       "    <tr>\n",
       "      <th>5</th>\n",
       "      <td>3.141593e+02</td>\n",
       "      <td>2.927942e+01</td>\n",
       "      <td>EliteCoin</td>\n",
       "      <td>0</td>\n",
       "    </tr>\n",
       "    <tr>\n",
       "      <th>7</th>\n",
       "      <td>2.100000e-02</td>\n",
       "      <td>1.792718e-02</td>\n",
       "      <td>Bitcoin</td>\n",
       "      <td>0</td>\n",
       "    </tr>\n",
       "    <tr>\n",
       "      <th>8</th>\n",
       "      <td>0.000000e+00</td>\n",
       "      <td>1.076842e-01</td>\n",
       "      <td>Ethereum</td>\n",
       "      <td>0</td>\n",
       "    </tr>\n",
       "    <tr>\n",
       "      <th>9</th>\n",
       "      <td>8.400000e-02</td>\n",
       "      <td>6.303924e-02</td>\n",
       "      <td>Litecoin</td>\n",
       "      <td>0</td>\n",
       "    </tr>\n",
       "    <tr>\n",
       "      <th>10</th>\n",
       "      <td>2.200000e-02</td>\n",
       "      <td>9.031294e-03</td>\n",
       "      <td>Dash</td>\n",
       "      <td>0</td>\n",
       "    </tr>\n",
       "    <tr>\n",
       "      <th>11</th>\n",
       "      <td>0.000000e+00</td>\n",
       "      <td>1.720114e-02</td>\n",
       "      <td>Monero</td>\n",
       "      <td>0</td>\n",
       "    </tr>\n",
       "    <tr>\n",
       "      <th>12</th>\n",
       "      <td>2.100000e-01</td>\n",
       "      <td>1.133597e-01</td>\n",
       "      <td>Ethereum Classic</td>\n",
       "      <td>0</td>\n",
       "    </tr>\n",
       "    <tr>\n",
       "      <th>13</th>\n",
       "      <td>2.100000e-02</td>\n",
       "      <td>7.383056e-03</td>\n",
       "      <td>ZCash</td>\n",
       "      <td>0</td>\n",
       "    </tr>\n",
       "  </tbody>\n",
       "</table>\n",
       "</div>"
      ],
      "text/plain": [
       "    TotalCoinSupply  TotalCoinsMined          CoinName  Class\n",
       "0      4.200000e-08     4.199995e-08           42 Coin      0\n",
       "2      5.320000e-01     1.055185e+00           404Coin      0\n",
       "5      3.141593e+02     2.927942e+01         EliteCoin      0\n",
       "7      2.100000e-02     1.792718e-02           Bitcoin      0\n",
       "8      0.000000e+00     1.076842e-01          Ethereum      0\n",
       "9      8.400000e-02     6.303924e-02          Litecoin      0\n",
       "10     2.200000e-02     9.031294e-03              Dash      0\n",
       "11     0.000000e+00     1.720114e-02            Monero      0\n",
       "12     2.100000e-01     1.133597e-01  Ethereum Classic      0\n",
       "13     2.100000e-02     7.383056e-03             ZCash      0"
      ]
     },
     "execution_count": 146,
     "metadata": {},
     "output_type": "execute_result"
    }
   ],
   "source": [
    "# Create a new DataFrame that has the scaled data with the clustered_df DataFrame index.\n",
    "new_df = pd.DataFrame(\n",
    "    data = clustered_df,columns = [\"TotalCoinSupply\",\"TotalCoinsMined\"], index = clustered_df.index\n",
    ")\n",
    "\n",
    "# Add the \"CoinName\" column from the clustered_df DataFrame to the new DataFrame.\n",
    "new_df = pd.concat([new_df,clustered_df['CoinName']],axis =1)\n",
    "\n",
    "# Add the \"Class\" column from the clustered_df DataFrame to the new DataFrame. \n",
    "plot_df = pd.concat([new_df,clustered_df[\"Class\"]],axis =1)\n",
    "\n",
    "plot_df.head(10)"
   ]
  },
  {
   "cell_type": "code",
   "execution_count": 148,
   "metadata": {},
   "outputs": [
    {
     "data": {},
     "metadata": {},
     "output_type": "display_data"
    },
    {
     "data": {
      "application/vnd.holoviews_exec.v0+json": "",
      "text/html": [
       "<div id='1807'>\n",
       "\n",
       "\n",
       "\n",
       "\n",
       "\n",
       "  <div class=\"bk-root\" id=\"0e117ae5-458d-4104-8d44-4efff32a9a86\" data-root-id=\"1807\"></div>\n",
       "</div>\n",
       "<script type=\"application/javascript\">(function(root) {\n",
       "  function embed_document(root) {\n",
       "    var docs_json = {\"b3ed6a32-6f88-443f-8542-8ee60f0857ce\":{\"defs\":[{\"extends\":null,\"module\":null,\"name\":\"ReactiveHTML1\",\"overrides\":[],\"properties\":[]},{\"extends\":null,\"module\":null,\"name\":\"FlexBox1\",\"overrides\":[],\"properties\":[{\"default\":\"flex-start\",\"kind\":null,\"name\":\"align_content\"},{\"default\":\"flex-start\",\"kind\":null,\"name\":\"align_items\"},{\"default\":\"row\",\"kind\":null,\"name\":\"flex_direction\"},{\"default\":\"wrap\",\"kind\":null,\"name\":\"flex_wrap\"},{\"default\":\"flex-start\",\"kind\":null,\"name\":\"justify_content\"}]},{\"extends\":null,\"module\":null,\"name\":\"GridStack1\",\"overrides\":[],\"properties\":[{\"default\":\"warn\",\"kind\":null,\"name\":\"mode\"},{\"default\":null,\"kind\":null,\"name\":\"ncols\"},{\"default\":null,\"kind\":null,\"name\":\"nrows\"},{\"default\":true,\"kind\":null,\"name\":\"allow_resize\"},{\"default\":true,\"kind\":null,\"name\":\"allow_drag\"},{\"default\":[],\"kind\":null,\"name\":\"state\"}]},{\"extends\":null,\"module\":null,\"name\":\"click1\",\"overrides\":[],\"properties\":[{\"default\":\"\",\"kind\":null,\"name\":\"terminal_output\"},{\"default\":\"\",\"kind\":null,\"name\":\"debug_name\"},{\"default\":0,\"kind\":null,\"name\":\"clears\"}]},{\"extends\":null,\"module\":null,\"name\":\"TemplateActions1\",\"overrides\":[],\"properties\":[{\"default\":0,\"kind\":null,\"name\":\"open_modal\"},{\"default\":0,\"kind\":null,\"name\":\"close_modal\"}]},{\"extends\":null,\"module\":null,\"name\":\"MaterialTemplateActions1\",\"overrides\":[],\"properties\":[{\"default\":0,\"kind\":null,\"name\":\"open_modal\"},{\"default\":0,\"kind\":null,\"name\":\"close_modal\"}]}],\"roots\":{\"references\":[{\"attributes\":{},\"id\":\"1819\",\"type\":\"LinearScale\"},{\"attributes\":{\"bar_line_color\":\"black\",\"color_mapper\":{\"id\":\"1842\"},\"coordinates\":null,\"group\":null,\"label_standoff\":8,\"location\":[0,0],\"major_label_policy\":{\"id\":\"1865\"},\"major_tick_line_color\":\"black\",\"ticker\":{\"id\":\"1853\"}},\"id\":\"1854\",\"type\":\"ColorBar\"},{\"attributes\":{\"fill_alpha\":{\"value\":0.1},\"fill_color\":{\"field\":\"color\",\"transform\":{\"id\":\"1842\"}},\"hatch_alpha\":{\"value\":0.1},\"hatch_color\":{\"field\":\"color\",\"transform\":{\"id\":\"1842\"}},\"line_alpha\":{\"value\":0.1},\"line_color\":{\"field\":\"color\",\"transform\":{\"id\":\"1842\"}},\"size\":{\"value\":5.477225575051661},\"x\":{\"field\":\"TotalCoinsMined\"},\"y\":{\"field\":\"TotalCoinSupply\"}},\"id\":\"1847\",\"type\":\"Scatter\"},{\"attributes\":{\"coordinates\":null,\"data_source\":{\"id\":\"1843\"},\"glyph\":{\"id\":\"1846\"},\"group\":null,\"hover_glyph\":{\"id\":\"1849\"},\"muted_glyph\":{\"id\":\"1850\"},\"nonselection_glyph\":{\"id\":\"1847\"},\"selection_glyph\":{\"id\":\"1848\"},\"view\":{\"id\":\"1852\"}},\"id\":\"1851\",\"type\":\"GlyphRenderer\"},{\"attributes\":{\"fill_color\":{\"field\":\"color\",\"transform\":{\"id\":\"1842\"}},\"hatch_color\":{\"field\":\"color\",\"transform\":{\"id\":\"1842\"}},\"line_color\":{\"field\":\"color\",\"transform\":{\"id\":\"1842\"}},\"size\":{\"value\":5.477225575051661},\"x\":{\"field\":\"TotalCoinsMined\"},\"y\":{\"field\":\"TotalCoinSupply\"}},\"id\":\"1846\",\"type\":\"Scatter\"},{\"attributes\":{},\"id\":\"1857\",\"type\":\"AllLabels\"},{\"attributes\":{\"fill_alpha\":{\"value\":0.2},\"fill_color\":{\"field\":\"color\",\"transform\":{\"id\":\"1842\"}},\"hatch_alpha\":{\"value\":0.2},\"hatch_color\":{\"field\":\"color\",\"transform\":{\"id\":\"1842\"}},\"line_alpha\":{\"value\":0.2},\"line_color\":{\"field\":\"color\",\"transform\":{\"id\":\"1842\"}},\"size\":{\"value\":5.477225575051661},\"x\":{\"field\":\"TotalCoinsMined\"},\"y\":{\"field\":\"TotalCoinSupply\"}},\"id\":\"1850\",\"type\":\"Scatter\"},{\"attributes\":{\"tools\":[{\"id\":\"1811\"},{\"id\":\"1829\"},{\"id\":\"1830\"},{\"id\":\"1831\"},{\"id\":\"1832\"},{\"id\":\"1833\"}]},\"id\":\"1835\",\"type\":\"Toolbar\"},{\"attributes\":{\"fill_color\":{\"field\":\"color\",\"transform\":{\"id\":\"1842\"}},\"hatch_color\":{\"field\":\"color\",\"transform\":{\"id\":\"1842\"}},\"line_color\":{\"field\":\"color\",\"transform\":{\"id\":\"1842\"}},\"size\":{\"value\":5.477225575051661},\"x\":{\"field\":\"TotalCoinsMined\"},\"y\":{\"field\":\"TotalCoinSupply\"}},\"id\":\"1848\",\"type\":\"Scatter\"},{\"attributes\":{\"data\":{\"Class\":{\"__ndarray__\":\"AAAAAAAAAAAAAAAAAAAAAAAAAAAAAAAAAAAAAAAAAAAAAAAAAAAAAAAAAAAAAAAAAAAAAAAAAAAAAAAAAAAAAAAAAAAAAAAAAAAAAAAAAAAAAAAAAAAAAAAAAAAAAAAAAAAAAAAAAAAAAAAAAAAAAAAAAAAAAAAAAAAAAAAAAAAAAAAAAAAAAAAAAAAAAAAAAAAAAAAAAAAAAAAAAAAAAAAAAAAAAAAAAAAAAAAAAAAAAAAAAAAAAAAAAAAAAAAAAAAAAAAAAAAAAAAAAAAAAAAAAAAAAAAAAAAAAAAAAAAAAAAAAAAAAAAAAAAAAAAAAAAAAAAAAAAAAAAAAAAAAAAAAAAAAAAAAAAAAAAAAAAAAAAAAAAAAAAAAAAAAAAAAAAAAAAAAAAAAAAAAAAAAAAAAAAAAAAAAAAAAAAAAAAAAAAAAAAAAAAAAAAAAAAAAAAAAAAAAAAAAAAAAAAAAAAAAAAAAAAAAAAAAAAAAAAAAAAAAAAAAAAAAAAAAAAAAAAAAAAAAAAAAAAAAAAAAAAAAAAAAAAAAAAAAAAAAAAAAAAAAAAAAAAAAAAAAAAAAAAAAAAAAAAAAAAAAAAAAAAAAAAAAAAAAAAAAAAAAAAAAAAAAAAAAAAAAAAAAAAAAAAAAAAAAAAAAAAAAAAAAAAAAAAAAAAAAAAAAAAAAAAAAAAAAAAAAAAAAAAAAAAAAAAAAAAAAAAAAAAAAAAAAAAAAAAAAAAAAAAAAAAAAAAAAAAAAAAAAAAAAAAAAAAAAAAAAAAAAAAAAAAAAAAAAAAAAAAAAAAAAAAAAAAAAAAAAAAAAAAAAAAAAAAAAAAAAAAAAAAAAAAAAAAAAAAAAAAAAAAAAAAAAAAAAAAAAAAAAAAAAAAAAAAAAAAAAAAAAAAAAAAAAAAAAAAAAAAAAAAAAAAAAAAAAAAAAAAAAAAAAAAAAAAAAAAAAAAAAAAAAAAAAAAAAAAAAAAAAAAAAAAAAAAAAAAAAAAAAAAAAAAAAAAAAAAAAAAAAAAAAAAAAAAAAAAAAAAAAAAAAAAAAAAAAAAAAAAAAAAAAAAAAAAAAAAAAAAAAAAAAAAAAAAAAAAAAAAAAAAAAAAAAAAAAAAAAAAAAAAAAAAAAAAAAAAAAAAAAAAAAAAAAAAAAAAAAAAAAAAAAAAAAAAAAAAAAAAAAAAAAAAAAAAAAAAAAAAAAAAAAAAAAAAAAAAAAAAAAAAAAAAAAAAAAAAAAAAAAAAAAAAAAAAAAAAAAAAAAAAAAAAAAAAAAAAAAAAAAAAAAAAAAAAAAAAAAAAAAAAAAAAAAAAAAAAAAAAAAAAAAAAAAAAAAAAAAAAAAAAAAAAAAAAAAAAAAAAAAAAAAAAAAAAAAAAAAAAAAAAAAAAAAAAAAAAAAAAAAAAAAAAAAAAAAAAAAAAAAAAAAAAAAAAAAAAAAAAAAAAAAAAAAAAAAAAAAAAAAAAAAAAAAAAAAAAAAAAAAAAAAAAAAAAAAAAAAAAAAAAAAAAAAAAAAAAAAAAAAAAAAAAAAAAAAAAAAAAAAAAAAAAAAAAAAAAAAAAAAAAAAAAAAAAAAAAAAAAAAAAAAAAAAAAAAAAAAAAAAAAAAAAAAAAAAAADAAAAAAAAAAAAAAAAAAAAAAAAAAAAAAAAAAAAAAAAAAAAAAAAAAAAAAAAAAAAAAAAAAAAAAAAAAAAAAAAAAAAAAAAAAAAAAAAAAAAAAAAAAAAAAAAAAAAAAAAAAAAAAAAAAAAAAAAAAAAAAAAAAAAAAAAAAAAAAAAAAAAAAAAAAAAAAAAAAAAAAAAAAAAAAAAAAAAAAAAAAAAAAAAAAAAAAAAAAAAAAAAAAAAAAAAAAAAAAAAAAAAAAAAAAAAAAAAAAAAAAAAAAAAAAAAAAAAAAAAAAAAAAAAAAAAAAAAAAAAAAAAAAAAAAAAAAAAAAAAAAAAAAAAAAAAAAAAAAAAAAAAAAAAAAAAAAAAAAAAAAAAAAAAAAAAAAAAAAAAAAAAAAAAAAAAAAAAAAAAAAAAAAAAAAIAAAAAAAAAAAAAAAAAAAAAAAAAAwAAAAAAAAAAAAAAAAAAAAAAAAAAAAAAAAAAAAAAAAAAAAAAAAAAAAAAAAAAAAAAAAAAAAAAAAAAAAAAAAAAAAAAAAAAAAAAAAAAAAAAAAAAAAAAAAAAAAAAAAAAAAAAAAAAAAAAAAAAAAAAAAAAAAAAAAAAAAAAAAAAAAAAAAAAAAAAAAAAAAAAAAAAAAAAAAAAAAAAAAAAAAAAAAAAAAAAAAAAAAAAAAAAAAAAAAAAAAAAAAAAAAAAAAAAAAAAAAAAAAAAAAAAAAAAAAAAAAAAAAAAAAAAAAAAAAAAAAAAAAAAAAAAAAAAAAAAAAAAAAAAAAAAAAAAAAAAAAAAAAAAAAAAAAAAAAAAAAAAAAAAAAAAAAAAAAAAAAAAAAAAAAAAAAAAAAAAAAAAAAAAAAAAAAAAAAAAAAAAAAAAAAAAAAAAAAAAAAAAAAAAAAAAAAAAAAAAAAAAAAAAAAAAAAAAAAAAAAAAAAAAAAAAAAAAAAAAAAAAAAAAAAAAAAAAAAAAAAAAAAAAAAAAAAAAAAAAAAAAAAAAAAAAAAAAAAAAAAAAAAAAAAAAAAAAAAAAAAAAAAAAAAAAAAAAAAAAAAAAAAAAAAAAAAAAAAAAAAAAAAAAAAAAAAAAAAAAAAAAAAAAAAAAAAAAAAAAAAAAAAAAAAAAAAAAAAAAAAAAAAAAAAAAAAAAAAAAAAAAAAAAAAAAAAAAAAAAAAAAAAAAAAAAAAAAAAAAAAAAAAAAAAAAAAAAAQAAAAAAAAAAAAAAAAAAAAAAAAAAAAAAAAAAAA==\",\"dtype\":\"int32\",\"order\":\"little\",\"shape\":[532]},\"CoinName\":[\"42 Coin\",\"404Coin\",\"EliteCoin\",\"Bitcoin\",\"Ethereum\",\"Litecoin\",\"Dash\",\"Monero\",\"Ethereum Classic\",\"ZCash\",\"Bitshares\",\"DigiByte\",\"BitcoinDark\",\"PayCoin\",\"ProsperCoin\",\"KoboCoin\",\"Spreadcoin\",\"Argentum\",\"Aurora Coin\",\"BlueCoin\",\"MyriadCoin\",\"MoonCoin\",\"ZetaCoin\",\"SexCoin\",\"Quatloo\",\"EnergyCoin\",\"QuarkCoin\",\"Riecoin\",\"Digitalcoin \",\"BitBar\",\"Catcoin\",\"CryptoBullion\",\"CannaCoin\",\"CryptCoin\",\"CasinoCoin\",\"Diamond\",\"Verge\",\"DevCoin\",\"EarthCoin\",\"E-Gulden\",\"Einsteinium\",\"Emerald\",\"Exclusive Coin\",\"FlutterCoin\",\"Franko\",\"FeatherCoin\",\"GrandCoin\",\"GlobalCoin\",\"GoldCoin\",\"HoboNickels\",\"HyperStake\",\"Infinite Coin\",\"IOCoin\",\"IXcoin\",\"KrugerCoin\",\"LuckyCoin\",\"Litebar \",\"MaxCoin\",\"MegaCoin\",\"MediterraneanCoin\",\"MintCoin\",\"MinCoin\",\"MazaCoin\",\"Nautilus Coin\",\"NavCoin\",\"NobleCoin\",\"Namecoin\",\"NyanCoin\",\"OpalCoin\",\"Orbitcoin\",\"PotCoin\",\"PhoenixCoin\",\"Reddcoin\",\"RonPaulCoin\",\"StableCoin\",\"SmartCoin\",\"SuperCoin\",\"SyncCoin\",\"SysCoin\",\"TeslaCoin\",\"TigerCoin\",\"TittieCoin\",\"TorCoin\",\"TerraCoin\",\"UnbreakableCoin\",\"Unobtanium\",\"UroCoin\",\"UnitaryStatus Dollar\",\"UltraCoin\",\"ViaCoin\",\"VeriCoin\",\"Vertcoin\",\"WorldCoin\",\"X11 Coin\",\"Crypti\",\"JouleCoin\",\"StealthCoin\",\"ZCC Coin\",\"ByteCoin\",\"DigitalNote \",\"BurstCoin\",\"StorjCoin\",\"MonaCoin\",\"Neutron\",\"FairCoin\",\"Gulden\",\"RubyCoin\",\"PesetaCoin\",\"Kore\",\"Wild Beast Coin\",\"Dnotes\",\"Flo\",\"8BIT Coin\",\"Sativa Coin\",\"ArtByte\",\"Folding Coin\",\"Ucoin\",\"Unitus\",\"CypherPunkCoin\",\"OmniCron\",\"Vtorrent\",\"GreenCoin\",\"Cryptonite\",\"MasterCoin\",\"SoonCoin\",\"1Credit\",\"IslaCoin\",\"Nexus\",\"MarsCoin \",\"Crypto\",\"Anarchists Prime\",\"Droidz\",\"BowsCoin\",\"Squall Coin\",\"Song Coin\",\"BitZeny\",\"Diggits\",\"Expanse\",\"Paycon\",\"Siacoin\",\"Emercoin\",\"EverGreenCoin\",\"MindCoin\",\"I0coin\",\"Decred\",\"Revolution VR\",\"HOdlcoin\",\"EDRCoin\",\"Hitcoin\",\"Gamecredits\",\"DubaiCoin\",\"CarpeDiemCoin\",\"PWR Coin\",\"BillaryCoin\",\"GPU Coin\",\"Adzcoin\",\"SoilCoin\",\"YoCoin\",\"SibCoin\",\"EuropeCoin\",\"ZeitCoin\",\"SwingCoin\",\"SafeExchangeCoin\",\"Nebuchadnezzar\",\"Francs\",\"BolivarCoin\",\"Ratecoin\",\"Revenu\",\"Clockcoin\",\"VIP Tokens\",\"BitSend\",\"Omni\",\"Let it Ride\",\"PutinCoin\",\"iBankCoin\",\"Frankywillcoin\",\"MudraCoin\",\"PizzaCoin\",\"Lutetium Coin\",\"Komodo\",\"GoldBlocks\",\"CarterCoin\",\"Karbo\",\"BitTokens\",\"ZayedCoin\",\"MustangCoin\",\"ZoneCoin\",\"Circuits of Value\",\"RootCoin\",\"DopeCoin\",\"BitCurrency\",\"DollarCoin\",\"Swiscoin\",\"Shilling\",\"BuzzCoin\",\"Opair\",\"PesoBit\",\"Halloween Coin\",\"ZCoin\",\"CoffeeCoin\",\"RoyalCoin\",\"GanjaCoin V2\",\"TeamUP\",\"LanaCoin\",\"Elementrem\",\"ZClassic\",\"ARK\",\"InsaneCoin\",\"KiloCoin\",\"ArtexCoin\",\"EmberCoin\",\"XenixCoin\",\"FreeCoin\",\"PLNCoin\",\"AquariusCoin\",\"Kurrent\",\"Creatio\",\"Eternity\",\"Eurocoin\",\"BitcoinFast\",\"Stakenet\",\"BitConnect Coin\",\"MoneyCoin\",\"Enigma\",\"Cannabis Industry Coin\",\"Russiacoin\",\"PandaCoin\",\"GameUnits\",\"GAKHcoin\",\"Allsafe\",\"LiteCreed\",\"OsmiumCoin\",\"Bikercoins\",\"HexxCoin\",\"Klingon Empire Darsek\",\"Internet of People\",\"KushCoin\",\"Printerium\",\"PacCoin\",\"Impeach\",\"Citadel\",\"Zilbercoin\",\"FirstCoin\",\"BeaverCoin\",\"FindCoin\",\"VaultCoin\",\"Zero\",\"OpenChat\",\"Canada eCoin\",\"Zoin\",\"RenosCoin\",\"DubaiCoin\",\"VirtacoinPlus\",\"TajCoin\",\"Impact\",\"EB3coin\",\"Atmos\",\"HappyCoin\",\"Coinonat\",\"MacronCoin\",\"Condensate\",\"Independent Money System\",\"ArgusCoin\",\"LomoCoin\",\"ProCurrency\",\"GoldReserve\",\"BenjiRolls\",\"GrowthCoin\",\"ILCoin\",\"Phreak\",\"Degas Coin\",\"HTML5 Coin\",\"Ultimate Secure Cash\",\"EquiTrader\",\"QTUM\",\"Quantum Resistant Ledger\",\"Espers\",\"Dynamic\",\"Nano\",\"ChanCoin\",\"Dinastycoin\",\"Denarius\",\"DigitalPrice\",\"Virta Unique Coin\",\"Bitcoin Planet\",\"Unify\",\"BritCoin\",\"SocialCoin\",\"ArcticCoin\",\"DAS\",\"Linda\",\"LeviarCoin\",\"DeepOnion\",\"Bitcore\",\"gCn Coin\",\"SmartCash\",\"Signatum\",\"Onix\",\"Cream\",\"Bitcoin Cash\",\"Monoeci\",\"Draftcoin\",\"Vechain\",\"Sojourn Coin\",\"Stakecoin\",\"NewYorkCoin\",\"FrazCoin\",\"Kronecoin\",\"AdCoin\",\"Linx\",\"CoinonatX\",\"Ethereum Dark\",\"Sumokoin\",\"Obsidian\",\"Cardano\",\"Regalcoin\",\"BitcoinZ\",\"TrezarCoin\",\"Elements\",\"TerraNovaCoin\",\"VIVO Coin\",\"Rupee\",\"Bitcoin Gold\",\"WomenCoin\",\"Theresa May Coin\",\"NamoCoin\",\"LUXCoin\",\"Pirl\",\"Xios\",\"Bitcloud 2.0\",\"eBoost\",\"KekCoin\",\"BlackholeCoin\",\"Infinity Economics\",\"Pura\",\"Innova\",\"Ellaism\",\"GoByte\",\"Magnet\",\"Lamden Tau\",\"Electra\",\"Bitcoin Diamond\",\"SHIELD\",\"Cash & Back Coin\",\"UltraNote\",\"BitCoal\",\"DaxxCoin\",\"Bulwark\",\"Kalkulus\",\"AC3\",\"Lethean\",\"GermanCoin\",\"LiteCoin Ultra\",\"PopularCoin\",\"PhantomX\",\"Photon\",\"Sucre\",\"SparksPay\",\"Digiwage\",\"GunCoin\",\"IrishCoin\",\"Trollcoin\",\"Litecoin Plus\",\"Monkey Project\",\"Pioneer Coin\",\"UnitedBitcoin\",\"Interzone\",\"TokenPay\",\"1717 Masonic Commemorative Token\",\"My Big Coin\",\"TurtleCoin\",\"MUNcoin\",\"Unified Society USDEX\",\"Niobio Cash\",\"ShareChain\",\"Travelflex\",\"KREDS\",\"Tokyo Coin\",\"BiblePay\",\"LitecoinCash\",\"BitFlip\",\"LottoCoin\",\"Crypto Improvement Fund\",\"Stipend\",\"Poa Network\",\"Pushi\",\"Ellerium\",\"Velox\",\"Ontology\",\"Callisto Network\",\"BitTube\",\"Poseidon\",\"Aidos Kuneen\",\"Bitspace\",\"Briacoin\",\"Ignition\",\"Bitrolium\",\"MedicCoin\",\"Alpenschillling\",\"Bitcoin Green\",\"Deviant Coin\",\"Abjcoin\",\"Semux\",\"FuturoCoin\",\"Carebit\",\"Zealium\",\"Monero Classic\",\"Proton\",\"iDealCash\",\"Jumpcoin\",\"Infinex\",\"Bitcoin Incognito\",\"KEYCO\",\"HollyWoodCoin\",\"GINcoin\",\"PlatinCoin\",\"Loki\",\"Newton Coin\",\"Swisscoin\",\"Xt3ch\",\"MassGrid\",\"TheVig\",\"PluraCoin\",\"EmaratCoin\",\"Dekado\",\"Lynx\",\"Poseidon Quark\",\"BitcoinWSpectrum\",\"Muse\",\"Motion\",\"PlusOneCoin\",\"Axe\",\"Trivechain\",\"Dystem\",\"Giant\",\"Peony Coin\",\"Absolute Coin\",\"Vitae\",\"HexCoin\",\"TPCash\",\"Webchain\",\"Ryo\",\"Urals Coin\",\"Qwertycoin\",\"ARENON\",\"EUNO\",\"MMOCoin\",\"Ketan\",\"Project Pai\",\"XDNA\",\"PAXEX\",\"Azart\",\"ThunderStake\",\"Kcash\",\"Xchange\",\"Acute Angle Cloud\",\"CrypticCoin\",\"Bettex coin\",\"Actinium\",\"Bitcoin SV\",\"BitMoney\",\"Junson Ming Chan Coin\",\"FREDEnergy\",\"HerbCoin\",\"Universal Molecule\",\"Lithium\",\"PirateCash\",\"Exosis\",\"Block-Logic\",\"Oduwa\",\"Beam\",\"Galilel\",\"Bithereum\",\"Crypto Sports\",\"Credit\",\"SLICE\",\"Dash Platinum\",\"Nasdacoin\",\"Beetle Coin\",\"Titan Coin\",\"Award\",\"BLAST\",\"Bitcoin Rhodium\",\"GlobalToken\",\"Insane Coin\",\"ALAX\",\"LiteDoge\",\"SolarCoin\",\"TruckCoin\",\"UFO Coin\",\"OrangeCoin\",\"BlakeCoin\",\"BitstarCoin\",\"NeosCoin\",\"HyperCoin\",\"PinkCoin\",\"Crypto Escudo\",\"AudioCoin\",\"IncaKoin\",\"Piggy Coin\",\"Crown Coin\",\"Genstake\",\"SmileyCoin\",\"XiaoMiCoin\",\"Groestlcoin\",\"CapriCoin\",\" ClubCoin\",\"Radium\",\"Bata\",\"Pakcoin\",\"Creditbit \",\"OKCash\",\"Lisk\",\"HiCoin\",\"WhiteCoin\",\"FriendshipCoin\",\"JoinCoin\",\"Triangles Coin\",\"Vollar\",\"EOS\",\"Reality Clash\",\"Oxycoin\",\"TigerCash\",\"Waves\",\"Particl\",\"BitTorrent\",\"Nxt\",\"ZEPHYR\",\"Gapcoin\",\"Beldex\",\"Horizen\",\"BitcoinPlus\"],\"TotalCoinSupply\":{\"__ndarray__\":\"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\",\"dtype\":\"float64\",\"order\":\"little\",\"shape\":[532]},\"TotalCoinsMined\":{\"__ndarray__\":\"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\",\"dtype\":\"float64\",\"order\":\"little\",\"shape\":[532]},\"color\":{\"__ndarray__\":\"AAAAAAAAAAAAAAAAAAAAAAAAAAAAAAAAAAAAAAAAAAAAAAAAAAAAAAAAAAAAAAAAAAAAAAAAAAAAAAAAAAAAAAAAAAAAAAAAAAAAAAAAAAAAAAAAAAAAAAAAAAAAAAAAAAAAAAAAAAAAAAAAAAAAAAAAAAAAAAAAAAAAAAAAAAAAAAAAAAAAAAAAAAAAAAAAAAAAAAAAAAAAAAAAAAAAAAAAAAAAAAAAAAAAAAAAAAAAAAAAAAAAAAAAAAAAAAAAAAAAAAAAAAAAAAAAAAAAAAAAAAAAAAAAAAAAAAAAAAAAAAAAAAAAAAAAAAAAAAAAAAAAAAAAAAAAAAAAAAAAAAAAAAAAAAAAAAAAAAAAAAAAAAAAAAAAAAAAAAAAAAAAAAAAAAAAAAAAAAAAAAAAAAAAAAAAAAAAAAAAAAAAAAAAAAAAAAAAAAAAAAAAAAAAAAAAAAAAAAAAAAAAAAAAAAAAAAAAAAAAAAAAAAAAAAAAAAAAAAAAAAAAAAAAAAAAAAAAAAAAAAAAAAAAAAAAAAAAAAAAAAAAAAAAAAAAAAAAAAAAAAAAAAAAAAAAAAAAAAAAAAAAAAAAAAAAAAAAAAAAAAAAAAAAAAAAAAAAAAAAAAAAAAAAAAAAAAAAAAAAAAAAAAAAAAAAAAAAAAAAAAAAAAAAAAAAAAAAAAAAAAAAAAAAAAAAAAAAAAAAAAAAAAAAAAAAAAAAAAAAAAAAAAAAAAAAAAAAAAAAAAAAAAAAAAAAAAAAAAAAAAAAAAAAAAAAAAAAAAAAAAAAAAAAAAAAAAAAAAAAAAAAAAAAAAAAAAAAAAAAAAAAAAAAAAAAAAAAAAAAAAAAAAAAAAAAAAAAAAAAAAAAAAAAAAAAAAAAAAAAAAAAAAAAAAAAAAAAAAAAAAAAAAAAAAAAAAAAAAAAAAAAAAAAAAAAAAAAAAAAAAAAAAAAAAAAAAAAAAAAAAAAAAAAAAAAAAAAAAAAAAAAAAAAAAAAAAAAAAAAAAAAAAAAAAAAAAAAAAAAAAAAAAAAAAAAAAAAAAAAAAAAAAAAAAAAAAAAAAAAAAAAAAAAAAAAAAAAAAAAAAAAAAAAAAAAAAAAAAAAAAAAAAAAAAAAAAAAAAAAAAAAAAAAAAAAAAAAAAAAAAAAAAAAAAAAAAAAAAAAAAAAAAAAAAAAAAAAAAAAAAAAAAAAAAAAAAAAAAAAAAAAAAAAAAAAAAAAAAAAAAAAAAAAAAAAAAAAAAAAAAAAAAAAAAAAAAAAAAAAAAAAAAAAAAAAAAAAAAAAAAAAAAAAAAAAAAAAAAAAAAAAAAAAAAAAAAAAAAAAAAAAAAAAAAAAAAAAAAAAAAAAAAAAAAAAAAAAAAAAAAAAAAAAAAAAAAAAAAAAAAAAAAAAAAAAAAAAAAAAAAAAAAAAAAAAAAAAAAAAAAAAAAAAAAAAAAAAAAAAAAAAAAAAAAAAAAAAAAAAAAAAAAAAAAAAAAAAAAAAAAAAAAAAAAAAAAAAAAAAAAAAAAAAAAAAAAAAAAAAAAAAAAAAAAAAAAAAAAAAAAAAAAAAAAAAAAAAAAAAAAAAAAAAAAAAAAAAAAAAAAAAAAAAAAAAAAAAAAAAAAAAAAAAAAADAAAAAAAAAAAAAAAAAAAAAAAAAAAAAAAAAAAAAAAAAAAAAAAAAAAAAAAAAAAAAAAAAAAAAAAAAAAAAAAAAAAAAAAAAAAAAAAAAAAAAAAAAAAAAAAAAAAAAAAAAAAAAAAAAAAAAAAAAAAAAAAAAAAAAAAAAAAAAAAAAAAAAAAAAAAAAAAAAAAAAAAAAAAAAAAAAAAAAAAAAAAAAAAAAAAAAAAAAAAAAAAAAAAAAAAAAAAAAAAAAAAAAAAAAAAAAAAAAAAAAAAAAAAAAAAAAAAAAAAAAAAAAAAAAAAAAAAAAAAAAAAAAAAAAAAAAAAAAAAAAAAAAAAAAAAAAAAAAAAAAAAAAAAAAAAAAAAAAAAAAAAAAAAAAAAAAAAAAAAAAAAAAAAAAAAAAAAAAAAAAAAAAAAAAAIAAAAAAAAAAAAAAAAAAAAAAAAAAwAAAAAAAAAAAAAAAAAAAAAAAAAAAAAAAAAAAAAAAAAAAAAAAAAAAAAAAAAAAAAAAAAAAAAAAAAAAAAAAAAAAAAAAAAAAAAAAAAAAAAAAAAAAAAAAAAAAAAAAAAAAAAAAAAAAAAAAAAAAAAAAAAAAAAAAAAAAAAAAAAAAAAAAAAAAAAAAAAAAAAAAAAAAAAAAAAAAAAAAAAAAAAAAAAAAAAAAAAAAAAAAAAAAAAAAAAAAAAAAAAAAAAAAAAAAAAAAAAAAAAAAAAAAAAAAAAAAAAAAAAAAAAAAAAAAAAAAAAAAAAAAAAAAAAAAAAAAAAAAAAAAAAAAAAAAAAAAAAAAAAAAAAAAAAAAAAAAAAAAAAAAAAAAAAAAAAAAAAAAAAAAAAAAAAAAAAAAAAAAAAAAAAAAAAAAAAAAAAAAAAAAAAAAAAAAAAAAAAAAAAAAAAAAAAAAAAAAAAAAAAAAAAAAAAAAAAAAAAAAAAAAAAAAAAAAAAAAAAAAAAAAAAAAAAAAAAAAAAAAAAAAAAAAAAAAAAAAAAAAAAAAAAAAAAAAAAAAAAAAAAAAAAAAAAAAAAAAAAAAAAAAAAAAAAAAAAAAAAAAAAAAAAAAAAAAAAAAAAAAAAAAAAAAAAAAAAAAAAAAAAAAAAAAAAAAAAAAAAAAAAAAAAAAAAAAAAAAAAAAAAAAAAAAAAAAAAAAAAAAAAAAAAAAAAAAAAAAAAAAAAAAAAAAAAAAAAAAAAAAAAAAAAAAAAAAQAAAAAAAAAAAAAAAAAAAAAAAAAAAAAAAAAAAA==\",\"dtype\":\"int32\",\"order\":\"little\",\"shape\":[532]}},\"selected\":{\"id\":\"1844\"},\"selection_policy\":{\"id\":\"1869\"}},\"id\":\"1843\",\"type\":\"ColumnDataSource\"},{\"attributes\":{\"fill_color\":{\"field\":\"color\",\"transform\":{\"id\":\"1842\"}},\"hatch_color\":{\"field\":\"color\",\"transform\":{\"id\":\"1842\"}},\"line_color\":{\"field\":\"color\",\"transform\":{\"id\":\"1842\"}},\"size\":{\"value\":5.477225575051661},\"x\":{\"field\":\"TotalCoinsMined\"},\"y\":{\"field\":\"TotalCoinSupply\"}},\"id\":\"1849\",\"type\":\"Scatter\"},{\"attributes\":{\"source\":{\"id\":\"1843\"}},\"id\":\"1852\",\"type\":\"CDSView\"},{\"attributes\":{\"below\":[{\"id\":\"1821\"}],\"center\":[{\"id\":\"1824\"},{\"id\":\"1828\"}],\"height\":300,\"left\":[{\"id\":\"1825\"}],\"margin\":[5,5,5,5],\"min_border_bottom\":10,\"min_border_left\":10,\"min_border_right\":10,\"min_border_top\":10,\"renderers\":[{\"id\":\"1851\"}],\"right\":[{\"id\":\"1854\"}],\"sizing_mode\":\"fixed\",\"title\":{\"id\":\"1813\"},\"toolbar\":{\"id\":\"1835\"},\"width\":700,\"x_range\":{\"id\":\"1809\"},\"x_scale\":{\"id\":\"1817\"},\"y_range\":{\"id\":\"1810\"},\"y_scale\":{\"id\":\"1819\"}},\"id\":\"1812\",\"subtype\":\"Figure\",\"type\":\"Plot\"},{\"attributes\":{\"end\":1100.0,\"reset_end\":1100.0,\"reset_start\":-100.0,\"start\":-100.0,\"tags\":[[[\"TotalCoinSupply\",\"TotalCoinSupply\",null]]]},\"id\":\"1810\",\"type\":\"Range1d\"},{\"attributes\":{},\"id\":\"1831\",\"type\":\"WheelZoomTool\"},{\"attributes\":{},\"id\":\"1829\",\"type\":\"SaveTool\"},{\"attributes\":{},\"id\":\"1853\",\"type\":\"BasicTicker\"},{\"attributes\":{\"high\":3,\"low\":0,\"palette\":[\"#fcfea4\",\"#fafda0\",\"#f9fc9d\",\"#f7fb99\",\"#f6fa95\",\"#f5f891\",\"#f4f78d\",\"#f3f689\",\"#f2f485\",\"#f2f381\",\"#f1f27d\",\"#f1f079\",\"#f1ee74\",\"#f1ed70\",\"#f1eb6c\",\"#f1e968\",\"#f1e864\",\"#f2e660\",\"#f2e45d\",\"#f3e259\",\"#f3e056\",\"#f3de52\",\"#f4dc4f\",\"#f4db4b\",\"#f5d948\",\"#f5d745\",\"#f6d542\",\"#f6d33f\",\"#f7d13c\",\"#f7cf3a\",\"#f8cd37\",\"#f8cb34\",\"#f8c931\",\"#f9c72f\",\"#f9c52c\",\"#f9c32a\",\"#fac128\",\"#fabf25\",\"#fabd23\",\"#fabb21\",\"#fbb91e\",\"#fbb71c\",\"#fbb51a\",\"#fbb318\",\"#fbb116\",\"#fbb014\",\"#fbae12\",\"#fbac10\",\"#fbaa0e\",\"#fba80d\",\"#fba60b\",\"#fba40a\",\"#fba208\",\"#fba007\",\"#fb9e07\",\"#fb9d06\",\"#fb9b06\",\"#fb9906\",\"#fa9706\",\"#fa9506\",\"#fa9306\",\"#fa9107\",\"#f99008\",\"#f98e08\",\"#f98c09\",\"#f88a0b\",\"#f8880c\",\"#f8870d\",\"#f7850e\",\"#f78310\",\"#f68111\",\"#f68012\",\"#f57e14\",\"#f57c15\",\"#f47a16\",\"#f37918\",\"#f37719\",\"#f2751a\",\"#f2741c\",\"#f1721d\",\"#f0701e\",\"#f06f1f\",\"#ef6d21\",\"#ee6c22\",\"#ed6a23\",\"#ed6825\",\"#ec6726\",\"#eb6527\",\"#ea6428\",\"#e9622a\",\"#e8612b\",\"#e75f2c\",\"#e65e2d\",\"#e65c2e\",\"#e55b30\",\"#e45a31\",\"#e35832\",\"#e25733\",\"#e05634\",\"#df5436\",\"#de5337\",\"#dd5238\",\"#dc5039\",\"#db4f3a\",\"#da4e3b\",\"#d94d3d\",\"#d74b3e\",\"#d64a3f\",\"#d54940\",\"#d44841\",\"#d24742\",\"#d14643\",\"#d04544\",\"#cf4446\",\"#cd4247\",\"#cc4148\",\"#cb4049\",\"#c93f4a\",\"#c83e4b\",\"#c73e4c\",\"#c53d4d\",\"#c43c4e\",\"#c23b4f\",\"#c13a50\",\"#bf3951\",\"#be3852\",\"#bd3753\",\"#bb3754\",\"#ba3655\",\"#b83556\",\"#b73456\",\"#b53357\",\"#b43358\",\"#b23259\",\"#b1315a\",\"#af315b\",\"#ae305b\",\"#ac2f5c\",\"#ab2e5d\",\"#a92e5e\",\"#a72d5f\",\"#a62c5f\",\"#a42c60\",\"#a32b61\",\"#a12b61\",\"#a02a62\",\"#9e2963\",\"#9c2963\",\"#9b2864\",\"#992864\",\"#982765\",\"#962666\",\"#952666\",\"#932567\",\"#912567\",\"#902468\",\"#8e2468\",\"#8d2369\",\"#8b2269\",\"#892269\",\"#88216a\",\"#86216a\",\"#85206a\",\"#83206b\",\"#811f6b\",\"#801f6b\",\"#7e1e6c\",\"#7d1d6c\",\"#7b1d6c\",\"#7a1c6d\",\"#781c6d\",\"#761b6d\",\"#751b6d\",\"#731a6d\",\"#72196d\",\"#70196e\",\"#6e186e\",\"#6d186e\",\"#6b176e\",\"#6a176e\",\"#68166e\",\"#66156e\",\"#65156e\",\"#63146e\",\"#62146e\",\"#60136e\",\"#5f126e\",\"#5d126e\",\"#5b116e\",\"#5a116d\",\"#58106d\",\"#570f6d\",\"#550f6d\",\"#530e6d\",\"#520e6c\",\"#500d6c\",\"#4f0d6c\",\"#4d0c6b\",\"#4b0c6b\",\"#4a0b6a\",\"#480b6a\",\"#460a69\",\"#450a69\",\"#430a68\",\"#410967\",\"#400966\",\"#3e0966\",\"#3c0965\",\"#3b0964\",\"#390962\",\"#370961\",\"#350960\",\"#34095f\",\"#32095d\",\"#300a5c\",\"#2e0a5a\",\"#2d0a58\",\"#2b0a56\",\"#290b54\",\"#270b52\",\"#260b50\",\"#240b4e\",\"#220b4c\",\"#200c4a\",\"#1f0c47\",\"#1d0c45\",\"#1c0c43\",\"#1a0b40\",\"#190b3e\",\"#170b3b\",\"#160b39\",\"#140b36\",\"#130a34\",\"#120a32\",\"#10092f\",\"#0f092d\",\"#0e082a\",\"#0d0828\",\"#0b0726\",\"#0a0723\",\"#090621\",\"#08061f\",\"#07051d\",\"#06041b\",\"#050418\",\"#040316\",\"#040314\",\"#030212\",\"#020210\",\"#02010e\",\"#01010b\",\"#010109\",\"#010007\",\"#000006\",\"#000004\",\"#000003\"]},\"id\":\"1842\",\"type\":\"LinearColorMapper\"},{\"attributes\":{},\"id\":\"1856\",\"type\":\"BasicTickFormatter\"},{\"attributes\":{},\"id\":\"1869\",\"type\":\"UnionRenderers\"},{\"attributes\":{\"margin\":[5,5,5,5],\"name\":\"HSpacer03512\",\"sizing_mode\":\"stretch_width\"},\"id\":\"1808\",\"type\":\"Spacer\"},{\"attributes\":{\"axis\":{\"id\":\"1825\"},\"coordinates\":null,\"dimension\":1,\"grid_line_color\":null,\"group\":null,\"ticker\":null},\"id\":\"1828\",\"type\":\"Grid\"},{\"attributes\":{\"callback\":null,\"renderers\":[{\"id\":\"1851\"}],\"tags\":[\"hv_created\"],\"tooltips\":[[\"TotalCoinsMined\",\"@{TotalCoinsMined}\"],[\"TotalCoinSupply\",\"@{TotalCoinSupply}\"],[\"Class\",\"@{Class}\"],[\"CoinName\",\"@{CoinName}\"]]},\"id\":\"1811\",\"type\":\"HoverTool\"},{\"attributes\":{\"overlay\":{\"id\":\"1834\"}},\"id\":\"1832\",\"type\":\"BoxZoomTool\"},{\"attributes\":{},\"id\":\"1830\",\"type\":\"PanTool\"},{\"attributes\":{\"axis_label\":\"TotalCoinsMined\",\"coordinates\":null,\"formatter\":{\"id\":\"1856\"},\"group\":null,\"major_label_policy\":{\"id\":\"1857\"},\"ticker\":{\"id\":\"1822\"}},\"id\":\"1821\",\"type\":\"LinearAxis\"},{\"attributes\":{},\"id\":\"1826\",\"type\":\"BasicTicker\"},{\"attributes\":{\"coordinates\":null,\"group\":null,\"text_color\":\"black\",\"text_font_size\":\"12pt\"},\"id\":\"1813\",\"type\":\"Title\"},{\"attributes\":{},\"id\":\"1865\",\"type\":\"NoOverlap\"},{\"attributes\":{},\"id\":\"1859\",\"type\":\"BasicTickFormatter\"},{\"attributes\":{\"end\":1032.4168011566912,\"reset_end\":1032.4168011566912,\"reset_start\":-42.42808767504215,\"start\":-42.42808767504215,\"tags\":[[[\"TotalCoinsMined\",\"TotalCoinsMined\",null]]]},\"id\":\"1809\",\"type\":\"Range1d\"},{\"attributes\":{\"bottom_units\":\"screen\",\"coordinates\":null,\"fill_alpha\":0.5,\"fill_color\":\"lightgrey\",\"group\":null,\"left_units\":\"screen\",\"level\":\"overlay\",\"line_alpha\":1.0,\"line_color\":\"black\",\"line_dash\":[4,4],\"line_width\":2,\"right_units\":\"screen\",\"syncable\":false,\"top_units\":\"screen\"},\"id\":\"1834\",\"type\":\"BoxAnnotation\"},{\"attributes\":{\"children\":[{\"id\":\"1808\"},{\"id\":\"1812\"},{\"id\":\"1883\"}],\"margin\":[0,0,0,0],\"name\":\"Row03508\",\"tags\":[\"embedded\"]},\"id\":\"1807\",\"type\":\"Row\"},{\"attributes\":{},\"id\":\"1833\",\"type\":\"ResetTool\"},{\"attributes\":{},\"id\":\"1822\",\"type\":\"BasicTicker\"},{\"attributes\":{\"margin\":[5,5,5,5],\"name\":\"HSpacer03513\",\"sizing_mode\":\"stretch_width\"},\"id\":\"1883\",\"type\":\"Spacer\"},{\"attributes\":{\"axis_label\":\"TotalCoinSupply\",\"coordinates\":null,\"formatter\":{\"id\":\"1859\"},\"group\":null,\"major_label_policy\":{\"id\":\"1860\"},\"ticker\":{\"id\":\"1826\"}},\"id\":\"1825\",\"type\":\"LinearAxis\"},{\"attributes\":{},\"id\":\"1860\",\"type\":\"AllLabels\"},{\"attributes\":{\"axis\":{\"id\":\"1821\"},\"coordinates\":null,\"grid_line_color\":null,\"group\":null,\"ticker\":null},\"id\":\"1824\",\"type\":\"Grid\"},{\"attributes\":{},\"id\":\"1844\",\"type\":\"Selection\"},{\"attributes\":{},\"id\":\"1817\",\"type\":\"LinearScale\"}],\"root_ids\":[\"1807\"]},\"title\":\"Bokeh Application\",\"version\":\"2.4.2\"}};\n",
       "    var render_items = [{\"docid\":\"b3ed6a32-6f88-443f-8542-8ee60f0857ce\",\"root_ids\":[\"1807\"],\"roots\":{\"1807\":\"0e117ae5-458d-4104-8d44-4efff32a9a86\"}}];\n",
       "    root.Bokeh.embed.embed_items_notebook(docs_json, render_items);\n",
       "  }\n",
       "  if (root.Bokeh !== undefined && root.Bokeh.Panel !== undefined) {\n",
       "    embed_document(root);\n",
       "  } else {\n",
       "    var attempts = 0;\n",
       "    var timer = setInterval(function(root) {\n",
       "      if (root.Bokeh !== undefined && root.Bokeh.Panel !== undefined) {\n",
       "        clearInterval(timer);\n",
       "        embed_document(root);\n",
       "      } else if (document.readyState == \"complete\") {\n",
       "        attempts++;\n",
       "        if (attempts > 200) {\n",
       "          clearInterval(timer);\n",
       "          console.log(\"Bokeh: ERROR: Unable to run BokehJS code because BokehJS library is missing\");\n",
       "        }\n",
       "      }\n",
       "    }, 25, root)\n",
       "  }\n",
       "})(window);</script>"
      ],
      "text/plain": [
       ":Scatter   [TotalCoinsMined]   (TotalCoinSupply,Class,CoinName)"
      ]
     },
     "execution_count": 148,
     "metadata": {
      "application/vnd.holoviews_exec.v0+json": {
       "id": "1807"
      }
     },
     "output_type": "execute_result"
    }
   ],
   "source": [
    "# Create a hvplot.scatter plot using x=\"TotalCoinsMined\" and y=\"TotalCoinSupply\".\n",
    "clustered_df.hvplot(\n",
    "    kind=\"scatter\", \n",
    "    x=\"TotalCoinsMined\", \n",
    "    y=\"TotalCoinSupply\", \n",
    "    c='Class', \n",
    "    colormap=\"Inferno_r\", \n",
    "    hover_cols=['CoinName']\n",
    ")\n"
   ]
  },
  {
   "cell_type": "code",
   "execution_count": null,
   "metadata": {},
   "outputs": [],
   "source": []
  }
 ],
 "metadata": {
  "file_extension": ".py",
  "kernelspec": {
   "display_name": "Python 3 (ipykernel)",
   "language": "python",
   "name": "python3"
  },
  "language_info": {
   "codemirror_mode": {
    "name": "ipython",
    "version": 3
   },
   "file_extension": ".py",
   "mimetype": "text/x-python",
   "name": "python",
   "nbconvert_exporter": "python",
   "pygments_lexer": "ipython3",
   "version": "3.7.13"
  },
  "latex_envs": {
   "LaTeX_envs_menu_present": true,
   "autoclose": false,
   "autocomplete": true,
   "bibliofile": "biblio.bib",
   "cite_by": "apalike",
   "current_citInitial": 1,
   "eqLabelWithNumbers": true,
   "eqNumInitial": 1,
   "hotkeys": {
    "equation": "Ctrl-E",
    "itemize": "Ctrl-I"
   },
   "labels_anchors": false,
   "latex_user_defs": false,
   "report_style_numbering": false,
   "user_envs_cfg": false
  },
  "mimetype": "text/x-python",
  "name": "python",
  "npconvert_exporter": "python",
  "pygments_lexer": "ipython3",
  "version": 3
 },
 "nbformat": 4,
 "nbformat_minor": 2
}
